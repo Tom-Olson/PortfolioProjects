{
 "cells": [
  {
   "cell_type": "markdown",
   "id": "660d0b98",
   "metadata": {},
   "source": [
    "# CS777 HW2 Using Spark DataFrame and Spark SQL\n",
    " - For each part, show both the DataFrame and SQL solutions"
   ]
  },
  {
   "cell_type": "code",
   "execution_count": 1,
   "id": "4d63ab6f",
   "metadata": {},
   "outputs": [],
   "source": [
    "from pyspark import SparkContext\n",
    "\n",
    "from pyspark.sql import SparkSession\n",
    "\n",
    "from pyspark.sql.window import Window\n",
    "\n",
    "from pyspark.sql.functions import col, expr, when,\\\n",
    "desc, first, last, row_number, rank, substring\n",
    "\n",
    "from pyspark.sql.functions import max as pmax, min as pmin"
   ]
  },
  {
   "cell_type": "code",
   "execution_count": 2,
   "id": "7a6b1346",
   "metadata": {},
   "outputs": [],
   "source": [
    "import wget"
   ]
  },
  {
   "cell_type": "code",
   "execution_count": 3,
   "id": "3a646f4b",
   "metadata": {},
   "outputs": [
    {
     "data": {
      "text/plain": [
       "'stocks_2013_2021 (1).txt'"
      ]
     },
     "execution_count": 3,
     "metadata": {},
     "output_type": "execute_result"
    }
   ],
   "source": [
    "fileName = 'https://people.bu.edu/kalathur/datasets/stocks_2013_2021.txt'\n",
    "wget.download(fileName)"
   ]
  },
  {
   "cell_type": "code",
   "execution_count": 5,
   "id": "d5fca8ae",
   "metadata": {},
   "outputs": [
    {
     "data": {
      "text/html": [
       "\n",
       "            <div>\n",
       "                <p><b>SparkSession - in-memory</b></p>\n",
       "                \n",
       "        <div>\n",
       "            <p><b>SparkContext</b></p>\n",
       "\n",
       "            <p><a href=\"http://192.168.1.57:4040\">Spark UI</a></p>\n",
       "\n",
       "            <dl>\n",
       "              <dt>Version</dt>\n",
       "                <dd><code>v3.2.0</code></dd>\n",
       "              <dt>Master</dt>\n",
       "                <dd><code>local[*]</code></dd>\n",
       "              <dt>AppName</dt>\n",
       "                <dd><code>RDD_DataFrames01</code></dd>\n",
       "            </dl>\n",
       "        </div>\n",
       "        \n",
       "            </div>\n",
       "        "
      ],
      "text/plain": [
       "<pyspark.sql.session.SparkSession at 0x7fc9000ecf70>"
      ]
     },
     "execution_count": 5,
     "metadata": {},
     "output_type": "execute_result"
    }
   ],
   "source": [
    "spark = SparkSession.Builder().appName(\n",
    "    \"RDD_DataFrames01\").getOrCreate()\n",
    "spark"
   ]
  },
  {
   "cell_type": "code",
   "execution_count": 6,
   "id": "3d5863a4",
   "metadata": {},
   "outputs": [
    {
     "name": "stdout",
     "output_type": "stream",
     "text": [
      "root\n",
      " |-- Stock: string (nullable = true)\n",
      " |-- Date: string (nullable = true)\n",
      " |-- Open: double (nullable = true)\n",
      " |-- High: double (nullable = true)\n",
      " |-- Low: double (nullable = true)\n",
      " |-- Close: double (nullable = true)\n",
      " |-- Volume: integer (nullable = true)\n",
      "\n"
     ]
    }
   ],
   "source": [
    "stocksDF = spark.read.csv(\n",
    "    \"stocks_2013_2021.txt\",\n",
    "    header=False, inferSchema=True,\n",
    ").toDF('Stock','Date','Open','High',\n",
    "       'Low','Close','Volume'\n",
    "      )\n",
    "\n",
    "stocksDF.printSchema()\n",
    "\n",
    "stocksDF.createOrReplaceTempView('stocks_table')"
   ]
  },
  {
   "cell_type": "markdown",
   "id": "37afb697",
   "metadata": {},
   "source": [
    "**File format**:\n",
    "\n",
    "Stock,Date,Open,High,Low,Close,Volume"
   ]
  },
  {
   "cell_type": "markdown",
   "id": "d4325479",
   "metadata": {},
   "source": [
    "## Part1 (10 points)\n",
    " - a) Show the first two entries\n",
    " - b) How many total entries are there in the dataset?\n",
    " - c) How many entries are there in the dataset for each Stock?\n",
    " \n",
    " \n",
    "Sample output for a)\n",
    " \n",
    " ```{}\n",
    " +-----+----------+-----+-----+-----+-----+---------+\n",
    "|Stock|      Date| Open| High|  Low|Close|   Volume|\n",
    "+-----+----------+-----+-----+-----+-----+---------+\n",
    "| AAPL|2013-01-02|19.78|19.82|19.34|16.96|560518000|\n",
    "| AAPL|2013-01-03|19.57|19.63|19.32|16.75|352965200|\n",
    "+-----+----------+-----+-----+-----+-----+---------+\n",
    "\n",
    "```\n",
    " \n",
    "Sample output for c)\n",
    "\n",
    "```{}\n",
    "+-----+-----+\n",
    "|Stock|count|\n",
    "+-----+-----+\n",
    "| AAPL| 2266|\n",
    "| GOOG| 2266|\n",
    "| INTC| 2266|\n",
    "| MSFT| 2266|\n",
    "| NFLX| 2266|\n",
    "| NVDA| 2266|\n",
    "+-----+-----+\n",
    "\n",
    "```\n",
    " "
   ]
  },
  {
   "cell_type": "markdown",
   "id": "2fbca338",
   "metadata": {},
   "source": [
    "### DataFrame Solutions"
   ]
  },
  {
   "cell_type": "code",
   "execution_count": 7,
   "id": "f549f77f",
   "metadata": {},
   "outputs": [
    {
     "name": "stdout",
     "output_type": "stream",
     "text": [
      "+-----+----------+-----+-----+-----+-----+---------+\n",
      "|Stock|      Date| Open| High|  Low|Close|   Volume|\n",
      "+-----+----------+-----+-----+-----+-----+---------+\n",
      "| AAPL|2013-01-02|19.78|19.82|19.34|16.96|560518000|\n",
      "| AAPL|2013-01-03|19.57|19.63|19.32|16.75|352965200|\n",
      "+-----+----------+-----+-----+-----+-----+---------+\n",
      "only showing top 2 rows\n",
      "\n"
     ]
    }
   ],
   "source": [
    "stocksDF.show(2)"
   ]
  },
  {
   "cell_type": "code",
   "execution_count": 10,
   "id": "2f1a6e86",
   "metadata": {},
   "outputs": [
    {
     "data": {
      "text/plain": [
       "13596"
      ]
     },
     "execution_count": 10,
     "metadata": {},
     "output_type": "execute_result"
    }
   ],
   "source": [
    "stocksDF.count()"
   ]
  },
  {
   "cell_type": "code",
   "execution_count": 12,
   "id": "ca3931dd",
   "metadata": {},
   "outputs": [
    {
     "name": "stdout",
     "output_type": "stream",
     "text": [
      "+-----+-----+\n",
      "|Stock|count|\n",
      "+-----+-----+\n",
      "| AAPL| 2266|\n",
      "| INTC| 2266|\n",
      "| GOOG| 2266|\n",
      "| NFLX| 2266|\n",
      "| MSFT| 2266|\n",
      "| NVDA| 2266|\n",
      "+-----+-----+\n",
      "\n"
     ]
    }
   ],
   "source": [
    "stocksDF.groupBy('Stock').count().show()"
   ]
  },
  {
   "cell_type": "markdown",
   "id": "138ea13e",
   "metadata": {},
   "source": [
    "### SQL Solutions"
   ]
  },
  {
   "cell_type": "code",
   "execution_count": 135,
   "id": "b9ff1cdf",
   "metadata": {},
   "outputs": [
    {
     "name": "stdout",
     "output_type": "stream",
     "text": [
      "+-----+----------+-----+-----+-----+-----+---------+\n",
      "|Stock|      Date| Open| High|  Low|Close|   Volume|\n",
      "+-----+----------+-----+-----+-----+-----+---------+\n",
      "| AAPL|2013-01-02|19.78|19.82|19.34|16.96|560518000|\n",
      "| AAPL|2013-01-03|19.57|19.63|19.32|16.75|352965200|\n",
      "+-----+----------+-----+-----+-----+-----+---------+\n",
      "only showing top 2 rows\n",
      "\n"
     ]
    }
   ],
   "source": [
    "spark.sql(\"\"\"\n",
    "SELECT * FROM stocks_table\n",
    "\n",
    "\"\"\").show(2)"
   ]
  },
  {
   "cell_type": "code",
   "execution_count": 138,
   "id": "ae6efb7b",
   "metadata": {},
   "outputs": [
    {
     "name": "stdout",
     "output_type": "stream",
     "text": [
      "+-----+\n",
      "| freq|\n",
      "+-----+\n",
      "|13596|\n",
      "+-----+\n",
      "\n"
     ]
    }
   ],
   "source": [
    "spark.sql(\"\"\"\n",
    "SELECT count(*) AS freq\n",
    "    FROM stocks_table\n",
    "\n",
    "\"\"\").show()"
   ]
  },
  {
   "cell_type": "code",
   "execution_count": 140,
   "id": "2b7fe005",
   "metadata": {},
   "outputs": [
    {
     "name": "stdout",
     "output_type": "stream",
     "text": [
      "+-----+----+\n",
      "|stock|freq|\n",
      "+-----+----+\n",
      "| AAPL|2266|\n",
      "| INTC|2266|\n",
      "| GOOG|2266|\n",
      "| NFLX|2266|\n",
      "| MSFT|2266|\n",
      "| NVDA|2266|\n",
      "+-----+----+\n",
      "\n"
     ]
    }
   ],
   "source": [
    "   spark.sql(\"\"\"\n",
    "SELECT stock, count(*) AS freq\n",
    "    FROM stocks_table\n",
    "    GROUP BY Stock\n",
    "\n",
    "\"\"\").show()                            "
   ]
  },
  {
   "cell_type": "markdown",
   "id": "5a476426",
   "metadata": {},
   "source": [
    "## Part2 (10 points)\n",
    " - a) Show only the Stock and Volume columns.\n",
    " - b) What is the total volume for each stock symbol in the dataset\n",
    " - c) Show the results in the descending order of trading volume\n",
    " \n",
    "Sample output for a)\n",
    "\n",
    "```{}\n",
    "+-----+---------+\n",
    "|Stock|   Volume|\n",
    "+-----+---------+\n",
    "| AAPL|560518000|\n",
    "| AAPL|352965200|\n",
    "+-----+---------+\n",
    "only showing top 2 rows\n",
    "```\n",
    "\n",
    "Sample output for b)\n",
    "\n",
    "```{}\n",
    "+-----+------------+\n",
    "|Stock|         Sum|\n",
    "+-----+------------+\n",
    "| AAPL|409337906700|\n",
    "| INTC| 65334389200|\n",
    "| GOOG|  4626409870|\n",
    "| NFLX| 28981935000|\n",
    "| MSFT| 73349882000|\n",
    "| NVDA| 98721855200|\n",
    "+-----+------------+\n",
    "```\n",
    "\n",
    "Sample output for c)\n",
    "\n",
    "```{}\n",
    "+-----+------------+\n",
    "|Stock|         Sum|\n",
    "+-----+------------+\n",
    "| AAPL|409337906700|\n",
    "| NVDA| 98721855200|\n",
    "| MSFT| 73349882000|\n",
    "| INTC| 65334389200|\n",
    "| NFLX| 28981935000|\n",
    "| GOOG|  4626409870|\n",
    "+-----+------------+\n",
    "```\n",
    "\n"
   ]
  },
  {
   "cell_type": "markdown",
   "id": "ac9f1d31",
   "metadata": {},
   "source": [
    "### DataFrame Solutions"
   ]
  },
  {
   "cell_type": "code",
   "execution_count": 14,
   "id": "b185bfe1",
   "metadata": {},
   "outputs": [
    {
     "name": "stdout",
     "output_type": "stream",
     "text": [
      "+-----+---------+\n",
      "|Stock|   Volume|\n",
      "+-----+---------+\n",
      "| AAPL|560518000|\n",
      "| AAPL|352965200|\n",
      "+-----+---------+\n",
      "only showing top 2 rows\n",
      "\n"
     ]
    }
   ],
   "source": [
    "stocksDF.select(['Stock','Volume']).show(2)"
   ]
  },
  {
   "cell_type": "code",
   "execution_count": 24,
   "id": "5007a25c",
   "metadata": {},
   "outputs": [
    {
     "name": "stdout",
     "output_type": "stream",
     "text": [
      "+-----+------------+\n",
      "|Stock|         Sum|\n",
      "+-----+------------+\n",
      "| AAPL|409337906700|\n",
      "| INTC| 65334389200|\n",
      "| GOOG|  4626409870|\n",
      "| NFLX| 28981935000|\n",
      "| MSFT| 73349882000|\n",
      "| NVDA| 98721855200|\n",
      "+-----+------------+\n",
      "\n"
     ]
    }
   ],
   "source": [
    "stocksDF.groupBy('Stock').sum('Volume').select('Stock',col('sum(Volume)').alias('Sum')).show()"
   ]
  },
  {
   "cell_type": "code",
   "execution_count": 23,
   "id": "6ce897e1",
   "metadata": {},
   "outputs": [
    {
     "name": "stdout",
     "output_type": "stream",
     "text": [
      "+-----+------------+\n",
      "|Stock|         Sum|\n",
      "+-----+------------+\n",
      "| AAPL|409337906700|\n",
      "| NVDA| 98721855200|\n",
      "| MSFT| 73349882000|\n",
      "| INTC| 65334389200|\n",
      "| NFLX| 28981935000|\n",
      "| GOOG|  4626409870|\n",
      "+-----+------------+\n",
      "\n"
     ]
    }
   ],
   "source": [
    "stocksDF.groupBy('Stock').sum('Volume').select('Stock',col('sum(Volume)').alias('Sum')).sort('Sum',ascending=False).show()"
   ]
  },
  {
   "cell_type": "markdown",
   "id": "433c62f8",
   "metadata": {},
   "source": [
    "### SQL Solutions"
   ]
  },
  {
   "cell_type": "code",
   "execution_count": 141,
   "id": "876466a0",
   "metadata": {},
   "outputs": [
    {
     "name": "stdout",
     "output_type": "stream",
     "text": [
      "+-----+---------+\n",
      "|Stock|   Volume|\n",
      "+-----+---------+\n",
      "| AAPL|560518000|\n",
      "| AAPL|352965200|\n",
      "+-----+---------+\n",
      "only showing top 2 rows\n",
      "\n"
     ]
    }
   ],
   "source": [
    "spark.sql(\"\"\"\n",
    "SELECT Stock,Volume FROM stocks_table\n",
    "\n",
    "\"\"\").show(2)"
   ]
  },
  {
   "cell_type": "code",
   "execution_count": 144,
   "id": "b4d444e2",
   "metadata": {},
   "outputs": [
    {
     "name": "stdout",
     "output_type": "stream",
     "text": [
      "+-----+------------+\n",
      "|Stock|         Sum|\n",
      "+-----+------------+\n",
      "| AAPL|409337906700|\n",
      "| INTC| 65334389200|\n",
      "| GOOG|  4626409870|\n",
      "| NFLX| 28981935000|\n",
      "| MSFT| 73349882000|\n",
      "| NVDA| 98721855200|\n",
      "+-----+------------+\n",
      "\n"
     ]
    }
   ],
   "source": [
    "spark.sql(\"\"\"\n",
    "SELECT Stock,sum(Volume) as Sum \n",
    "    FROM stocks_table\n",
    "    GROUP BY Stock\n",
    "\n",
    "\"\"\").show()"
   ]
  },
  {
   "cell_type": "code",
   "execution_count": 146,
   "id": "6056de75",
   "metadata": {},
   "outputs": [
    {
     "name": "stdout",
     "output_type": "stream",
     "text": [
      "+-----+------------+\n",
      "|Stock|         Sum|\n",
      "+-----+------------+\n",
      "| AAPL|409337906700|\n",
      "| NVDA| 98721855200|\n",
      "| MSFT| 73349882000|\n",
      "| INTC| 65334389200|\n",
      "| NFLX| 28981935000|\n",
      "| GOOG|  4626409870|\n",
      "+-----+------------+\n",
      "\n"
     ]
    }
   ],
   "source": [
    "spark.sql(\"\"\"\n",
    "SELECT Stock,sum(Volume) as Sum \n",
    "    FROM stocks_table\n",
    "    GROUP BY Stock\n",
    "    ORDER BY Sum DESC\n",
    "\n",
    "\"\"\").show()"
   ]
  },
  {
   "cell_type": "markdown",
   "id": "8cbd623d",
   "metadata": {},
   "source": [
    "## Part 3 (10 points)\n",
    "\n",
    " - a) Show only the Stock, Open, and Close columns.\n",
    " - b) For each stock, how many days over the entire dataset did that stock's closing price was above the opening price? Show the results in descreasing order as shown below. First create Higher column (1/0), i.e., 1 if the condition is true, 0 if false. Use this column for computing the results.\n",
    " \n",
    " Sample output for a)\n",
    " \n",
    " ```{}\n",
    "+-----+-----+-----+\n",
    "|Stock| Open|Close|\n",
    "+-----+-----+-----+\n",
    "| AAPL|19.78|16.96|\n",
    "| AAPL|19.57|16.75|\n",
    "+-----+-----+-----+\n",
    "only showing top 2 rows\n",
    "```\n",
    "\n",
    "Sample output for b)\n",
    "\n",
    "```{}\n",
    "+-----+------+\n",
    "|Stock|Higher|\n",
    "+-----+------+\n",
    "| GOOG|  1166|\n",
    "| NFLX|  1125|\n",
    "| NVDA|   525|\n",
    "| AAPL|   202|\n",
    "| MSFT|   153|\n",
    "| INTC|    55|\n",
    "+-----+------+\n",
    "```"
   ]
  },
  {
   "cell_type": "markdown",
   "id": "42eeb14e",
   "metadata": {},
   "source": [
    "### DataFrame Solutions"
   ]
  },
  {
   "cell_type": "code",
   "execution_count": 25,
   "id": "747986a1",
   "metadata": {},
   "outputs": [
    {
     "name": "stdout",
     "output_type": "stream",
     "text": [
      "+-----+-----+-----+\n",
      "|Stock| Open|Close|\n",
      "+-----+-----+-----+\n",
      "| AAPL|19.78|16.96|\n",
      "| AAPL|19.57|16.75|\n",
      "+-----+-----+-----+\n",
      "only showing top 2 rows\n",
      "\n"
     ]
    }
   ],
   "source": [
    "stocksDF.select('Stock','Open','Close').show(2)"
   ]
  },
  {
   "cell_type": "code",
   "execution_count": 34,
   "id": "8ba8f705",
   "metadata": {},
   "outputs": [
    {
     "name": "stdout",
     "output_type": "stream",
     "text": [
      "+-----+------+\n",
      "|Stock|Higher|\n",
      "+-----+------+\n",
      "| GOOG|  1166|\n",
      "| NFLX|  1125|\n",
      "| NVDA|   525|\n",
      "| AAPL|   202|\n",
      "| MSFT|   153|\n",
      "| INTC|    55|\n",
      "+-----+------+\n",
      "\n"
     ]
    }
   ],
   "source": [
    "stocksDF.select(stocksDF.Stock,\n",
    "                when(stocksDF.Close > stocksDF.Open, 1).\n",
    "                otherwise(0).alias('Higher')).groupBy(stocksDF.Stock).sum('Higher').withColumnRenamed('sum(Higher)','Higher').sort('Higher',ascending=False).show()\n",
    "\n"
   ]
  },
  {
   "cell_type": "markdown",
   "id": "f1d8dcff",
   "metadata": {},
   "source": [
    "### SQL Solutions"
   ]
  },
  {
   "cell_type": "code",
   "execution_count": 155,
   "id": "d1695ba6",
   "metadata": {},
   "outputs": [
    {
     "name": "stdout",
     "output_type": "stream",
     "text": [
      "+-----+-----+-----+\n",
      "|Stock| Open|Close|\n",
      "+-----+-----+-----+\n",
      "| AAPL|19.78|16.96|\n",
      "| AAPL|19.57|16.75|\n",
      "+-----+-----+-----+\n",
      "only showing top 2 rows\n",
      "\n"
     ]
    }
   ],
   "source": [
    "spark.sql(\"\"\"\n",
    "SELECT Stock, Open, Close\n",
    "    FROM stocks_table\n",
    "\n",
    "\"\"\").show(2)"
   ]
  },
  {
   "cell_type": "code",
   "execution_count": 157,
   "id": "5c15fb93",
   "metadata": {},
   "outputs": [
    {
     "name": "stdout",
     "output_type": "stream",
     "text": [
      "+-----+----+\n",
      "|Stock|freq|\n",
      "+-----+----+\n",
      "| GOOG|1166|\n",
      "| NFLX|1125|\n",
      "| NVDA| 525|\n",
      "| AAPL| 202|\n",
      "| MSFT| 153|\n",
      "| INTC|  55|\n",
      "+-----+----+\n",
      "\n"
     ]
    }
   ],
   "source": [
    "spark.sql(\"\"\"\n",
    "SELECT Stock, SUM(IF(Close>Open,1,0)) as freq\n",
    "    FROM stocks_table\n",
    "    GROUP BY  Stock\n",
    "    ORDER BY freq DESC\n",
    "\n",
    "\"\"\").show()"
   ]
  },
  {
   "cell_type": "markdown",
   "id": "a14d1314",
   "metadata": {},
   "source": [
    "## Part4 (10 points)\n",
    " - a) Show only the Stock, High, and Low columns.\n",
    " - b) For each stock, what is the largest High and the smallest Low price?\n",
    " \n",
    "Sample output for a)\n",
    " \n",
    " ```{}\n",
    "+-----+-----+-----+\n",
    "|Stock| High|  Low|\n",
    "+-----+-----+-----+\n",
    "| AAPL|19.82|19.34|\n",
    "| AAPL|19.63|19.32|\n",
    "+-----+-----+-----+\n",
    "only showing top 2 rows\n",
    " ```\n",
    " \n",
    "Sample output for b)\n",
    " \n",
    " ```{}\n",
    "+-----+---------+--------+\n",
    "|Stock|max(High)|min(Low)|\n",
    "+-----+---------+--------+\n",
    "| AAPL|   182.13|   13.75|\n",
    "| GOOG|   3037.0|  346.46|\n",
    "| INTC|    69.29|    20.1|\n",
    "| MSFT|   349.67|   26.28|\n",
    "| NFLX|   700.99|   12.96|\n",
    "| NVDA|   346.47|    2.98|\n",
    "+-----+---------+--------+\n",
    " ```\n",
    " "
   ]
  },
  {
   "cell_type": "markdown",
   "id": "a919dbe3",
   "metadata": {},
   "source": [
    "### DataFrame Solutions"
   ]
  },
  {
   "cell_type": "code",
   "execution_count": 35,
   "id": "563eb517",
   "metadata": {},
   "outputs": [
    {
     "name": "stdout",
     "output_type": "stream",
     "text": [
      "+-----+-----+-----+\n",
      "|Stock| High|  Low|\n",
      "+-----+-----+-----+\n",
      "| AAPL|19.82|19.34|\n",
      "| AAPL|19.63|19.32|\n",
      "+-----+-----+-----+\n",
      "only showing top 2 rows\n",
      "\n"
     ]
    }
   ],
   "source": [
    "stocksDF.select('Stock','High','Low').show(2)"
   ]
  },
  {
   "cell_type": "code",
   "execution_count": 39,
   "id": "a0e5be39",
   "metadata": {},
   "outputs": [
    {
     "name": "stdout",
     "output_type": "stream",
     "text": [
      "+-----+---------+--------+\n",
      "|Stock|max(High)|min(Low)|\n",
      "+-----+---------+--------+\n",
      "| AAPL|   182.13|   13.75|\n",
      "| INTC|    69.29|    20.1|\n",
      "| GOOG|   3037.0|  346.46|\n",
      "| NFLX|   700.99|   12.96|\n",
      "| MSFT|   349.67|   26.28|\n",
      "| NVDA|   346.47|    2.98|\n",
      "+-----+---------+--------+\n",
      "\n"
     ]
    }
   ],
   "source": [
    "stocksDF.groupby('Stock').agg(\n",
    "    pmax('High'),\n",
    "    pmin('Low')).show()"
   ]
  },
  {
   "cell_type": "markdown",
   "id": "9283c7c9",
   "metadata": {},
   "source": [
    "### SQL Solutions"
   ]
  },
  {
   "cell_type": "code",
   "execution_count": 158,
   "id": "25338751",
   "metadata": {},
   "outputs": [
    {
     "name": "stdout",
     "output_type": "stream",
     "text": [
      "+-----+-----+-----+\n",
      "|Stock| High|  Low|\n",
      "+-----+-----+-----+\n",
      "| AAPL|19.82|19.34|\n",
      "| AAPL|19.63|19.32|\n",
      "+-----+-----+-----+\n",
      "only showing top 2 rows\n",
      "\n"
     ]
    }
   ],
   "source": [
    "spark.sql(\"\"\"\n",
    "SELECT Stock, High, Low\n",
    "    FROM stocks_table\n",
    "\n",
    "\"\"\").show(2)"
   ]
  },
  {
   "cell_type": "code",
   "execution_count": 160,
   "id": "d509d2fc",
   "metadata": {},
   "outputs": [
    {
     "name": "stdout",
     "output_type": "stream",
     "text": [
      "+-----+---------+--------+\n",
      "|Stock|max(High)|min(Low)|\n",
      "+-----+---------+--------+\n",
      "| AAPL|   182.13|   13.75|\n",
      "| INTC|    69.29|    20.1|\n",
      "| GOOG|   3037.0|  346.46|\n",
      "| NFLX|   700.99|   12.96|\n",
      "| MSFT|   349.67|   26.28|\n",
      "| NVDA|   346.47|    2.98|\n",
      "+-----+---------+--------+\n",
      "\n"
     ]
    }
   ],
   "source": [
    "spark.sql(\"\"\"\n",
    "SELECT Stock, max(High), min(Low)\n",
    "    FROM stocks_table\n",
    "    GROUP BY Stock\n",
    "\n",
    "\"\"\").show()"
   ]
  },
  {
   "cell_type": "markdown",
   "id": "ddf4945c",
   "metadata": {},
   "source": [
    "## Part5 (10 points)\n",
    "\n",
    " - a) Show the original data as shown below. Create HighDate and LowDate columns for each row in the data using the Date column.\n",
    " - b) For each stock, what is the largest High and the smallest Low price along with that respective date? Use the following approach for the solution: Using the Window partition and order operations with row_number, compute separately the HighDate for the largest High price and the LowDate for the smallest Low price and join the two results.\n",
    " \n",
    "Sample output for a)\n",
    "\n",
    "```{}\n",
    "+-----+-----+----------+-----+----------+\n",
    "|Stock| High|  HighDate|  Low|   LowDate|\n",
    "+-----+-----+----------+-----+----------+\n",
    "| AAPL|19.82|2013-01-02|19.34|2013-01-02|\n",
    "| AAPL|19.63|2013-01-03|19.32|2013-01-03|\n",
    "| AAPL|19.24|2013-01-04|18.78|2013-01-04|\n",
    "| AAPL| 18.9|2013-01-07| 18.4|2013-01-07|\n",
    "| AAPL| 19.0|2013-01-08|18.62|2013-01-08|\n",
    "+-----+-----+----------+-----+----------+\n",
    "only showing top 5 rows\n",
    "```\n",
    "\n",
    "Sample output for b)\n",
    "\n",
    "```{}\n",
    "+-----+------+----------+------+----------+\n",
    "|Stock|  High|  HighDate|   Low|   LowDate|\n",
    "+-----+------+----------+------+----------+\n",
    "| AAPL|182.13|2021-12-13| 13.75|2013-04-19|\n",
    "| GOOG|3037.0|2021-11-19|346.46|2013-01-22|\n",
    "| INTC| 69.29|2020-01-24|  20.1|2013-02-22|\n",
    "| MSFT|349.67|2021-11-22| 26.28|2013-01-11|\n",
    "| NFLX|700.99|2021-11-17| 12.96|2013-01-02|\n",
    "| NVDA|346.47|2021-11-22|  2.98|2013-01-15|\n",
    "+-----+------+----------+------+----------+\n",
    "```\n"
   ]
  },
  {
   "cell_type": "markdown",
   "id": "1bece076",
   "metadata": {},
   "source": [
    "### DataFrame Solutions"
   ]
  },
  {
   "cell_type": "code",
   "execution_count": 50,
   "id": "a0f477c7",
   "metadata": {},
   "outputs": [
    {
     "name": "stdout",
     "output_type": "stream",
     "text": [
      "+-----+-----+----------+-----+----------+\n",
      "|Stock| High|  HighDate|  Low|   LowDate|\n",
      "+-----+-----+----------+-----+----------+\n",
      "| AAPL|19.82|2013-01-02|19.34|2013-01-02|\n",
      "| AAPL|19.63|2013-01-03|19.32|2013-01-03|\n",
      "| AAPL|19.24|2013-01-04|18.78|2013-01-04|\n",
      "| AAPL| 18.9|2013-01-07| 18.4|2013-01-07|\n",
      "| AAPL| 19.0|2013-01-08|18.62|2013-01-08|\n",
      "+-----+-----+----------+-----+----------+\n",
      "only showing top 5 rows\n",
      "\n"
     ]
    }
   ],
   "source": [
    "HighLow = stocksDF.withColumn('HighDate',col('Date'))\\\n",
    "        .withColumn('LowDate',col('Date'))\\\n",
    "        .select('Stock','High','HighDate','Low','LowDate')\n",
    "\n",
    "HighLow.show(5)\n",
    "\n",
    "\n"
   ]
  },
  {
   "cell_type": "code",
   "execution_count": 55,
   "id": "32b192d8",
   "metadata": {},
   "outputs": [
    {
     "name": "stdout",
     "output_type": "stream",
     "text": [
      "+-----+------+----------+------+----------+\n",
      "|Stock|  High|  HighDate|   Low|   LowDate|\n",
      "+-----+------+----------+------+----------+\n",
      "| AAPL|182.13|2021-12-13| 13.75|2013-04-19|\n",
      "| GOOG|3037.0|2021-11-19|346.46|2013-01-22|\n",
      "| INTC| 69.29|2020-01-24|  20.1|2013-02-22|\n",
      "| MSFT|349.67|2021-11-22| 26.56|2013-01-09|\n",
      "| NFLX|700.99|2021-11-17| 12.96|2013-01-02|\n",
      "| NVDA|346.47|2021-11-22|  2.98|2013-01-15|\n",
      "+-----+------+----------+------+----------+\n",
      "\n"
     ]
    }
   ],
   "source": [
    "windowSpec = Window.partitionBy(\"Stock\").orderBy(desc('High'))\n",
    "windowSpec2 = Window.partitionBy(\"Stock\").orderBy('High')\n",
    "\n",
    "High = HighLow.withColumn(\n",
    "    \"row\", row_number().over(windowSpec)\n",
    ").filter(\"row == 1\").select('Stock','High','HighDate')\n",
    "\n",
    "Low = HighLow.withColumn(\n",
    "    \"row\", row_number().over(windowSpec2)\n",
    ").filter(\"row == 1\").select('Stock','Low','LowDate')\n",
    "\n",
    "High.join(Low, on = 'Stock').show()"
   ]
  },
  {
   "cell_type": "markdown",
   "id": "d4fc9a1e",
   "metadata": {},
   "source": [
    "### SQL Solutions"
   ]
  },
  {
   "cell_type": "code",
   "execution_count": 212,
   "id": "40bb085c",
   "metadata": {},
   "outputs": [
    {
     "name": "stdout",
     "output_type": "stream",
     "text": [
      "+-----+-----+----------+-----+----------+\n",
      "|Stock| High|  HighDate|  Low|   LowDate|\n",
      "+-----+-----+----------+-----+----------+\n",
      "| AAPL|19.82|2013-01-02|19.34|2013-01-02|\n",
      "| AAPL|19.63|2013-01-03|19.32|2013-01-03|\n",
      "| AAPL|19.24|2013-01-04|18.78|2013-01-04|\n",
      "| AAPL| 18.9|2013-01-07| 18.4|2013-01-07|\n",
      "| AAPL| 19.0|2013-01-08|18.62|2013-01-08|\n",
      "+-----+-----+----------+-----+----------+\n",
      "only showing top 5 rows\n",
      "\n"
     ]
    }
   ],
   "source": [
    "df_1 = spark.sql(\"\"\"\n",
    "SELECT Stock, High, CAST(Date AS DATE) as HighDate,Low, CAST(Date as DATE) as LowDate\n",
    "    FROM stocks_table\n",
    "\n",
    "\"\"\")\n",
    "\n",
    "df_1.show(5)"
   ]
  },
  {
   "cell_type": "code",
   "execution_count": 219,
   "id": "260bb6e9",
   "metadata": {},
   "outputs": [
    {
     "name": "stdout",
     "output_type": "stream",
     "text": [
      "+-----+------+----------+------+----------+\n",
      "|Stock|  High|  HighDate|   Low|   LowDate|\n",
      "+-----+------+----------+------+----------+\n",
      "| AAPL|182.13|2021-12-13| 13.75|2013-04-19|\n",
      "| GOOG|3037.0|2021-11-19|346.46|2013-01-22|\n",
      "| INTC| 69.29|2020-01-24|  20.1|2013-02-22|\n",
      "| MSFT|349.67|2021-11-22| 26.28|2013-01-11|\n",
      "| NFLX|700.99|2021-11-17| 12.96|2013-01-02|\n",
      "| NVDA|346.47|2021-11-22|  2.98|2013-01-15|\n",
      "+-----+------+----------+------+----------+\n",
      "\n"
     ]
    }
   ],
   "source": [
    "df_1.createOrReplaceTempView('table1')\n",
    "\n",
    "\n",
    "High = spark.sql(\"\"\"\n",
    "SELECT Stock, High, HighDate \n",
    "FROM\n",
    "  (SELECT *,\n",
    "    row_number()       OVER(PARTITION BY Stock ORDER BY High DESC) AS row\n",
    "    FROM table1) \n",
    "    WHERE row == 1\n",
    "\"\"\")\n",
    "\n",
    "Low = spark.sql(\"\"\"\n",
    "SELECT Stock, Low, LowDate \n",
    "FROM\n",
    "  (SELECT *,\n",
    "    row_number()       OVER(PARTITION BY Stock ORDER BY Low ASC) AS row\n",
    "    FROM table1) \n",
    "    WHERE row == 1\n",
    "\"\"\")\n",
    "\n",
    "High.createOrReplaceTempView('tableH')\n",
    "Low.createOrReplaceTempView('tableL')\n",
    "\n",
    "spark.sql(\"\"\"\n",
    "    SELECT tableH.Stock, High, HighDate, Low, LowDate FROM \n",
    "        tableH INNER JOIN tableL\n",
    "            ON tableH.Stock = tableL.Stock\n",
    "\"\"\").show()"
   ]
  },
  {
   "cell_type": "markdown",
   "id": "25e0fdf5",
   "metadata": {},
   "source": [
    "## Part 6 (10 points)\n",
    " The following will use (Stock, Year) as the key.\n",
    " \n",
    " - a) Show the Stock, Year, and Volume data as shown below.\n",
    " - b) What is the total volume for each stock symbol per each year in the dataset\n",
    " \n",
    "- Sample output for a)\n",
    "\n",
    "```{}\n",
    "+-----+----+---------+\n",
    "|Stock|Year|   Volume|\n",
    "+-----+----+---------+\n",
    "| AAPL|2013|560518000|\n",
    "| AAPL|2013|352965200|\n",
    "| AAPL|2013|594333600|\n",
    "| AAPL|2013|484156400|\n",
    "| AAPL|2013|458707200|\n",
    "+-----+----+---------+\n",
    "only showing top 5 rows\n",
    "```\n",
    "\n",
    "- Sample output for b)\n",
    "\n",
    "```{}\n",
    "+-----+----+------------+\n",
    "|Stock|Year| sum(Volume)|\n",
    "+-----+----+------------+\n",
    "| AAPL|2013|102421569600|\n",
    "| AAPL|2014| 63657952400|\n",
    "| AAPL|2015| 52264199600|\n",
    "| AAPL|2016| 38729911200|\n",
    "| AAPL|2017| 27243106000|\n",
    "| AAPL|2018| 34156144800|\n",
    "| AAPL|2019| 28254942800|\n",
    "| AAPL|2020| 39863855600|\n",
    "| AAPL|2021| 22746224700|\n",
    "| GOOG|2013|  1055993341|\n",
    "| GOOG|2014|   626749011|\n",
    "| GOOG|2015|   521501318|\n",
    "| GOOG|2016|   461731000|\n",
    "| GOOG|2017|   370605100|\n",
    "| GOOG|2018|   437233300|\n",
    "| GOOG|2019|   356294900|\n",
    "| GOOG|2020|   478595100|\n",
    "| GOOG|2021|   317706800|\n",
    "| INTC|2013|  9856167600|\n",
    "| INTC|2014|  7965304500|\n",
    "+-----+----+------------+\n",
    "only showing top 20 rows\n",
    "```\n"
   ]
  },
  {
   "cell_type": "markdown",
   "id": "ede9aaa9",
   "metadata": {},
   "source": [
    "### DataFrame Solutions"
   ]
  },
  {
   "cell_type": "code",
   "execution_count": 64,
   "id": "4d9aa51e",
   "metadata": {},
   "outputs": [
    {
     "name": "stdout",
     "output_type": "stream",
     "text": [
      "+-----+----+---------+\n",
      "|Stock|Year|   Volume|\n",
      "+-----+----+---------+\n",
      "| AAPL|2013|560518000|\n",
      "| AAPL|2013|352965200|\n",
      "| AAPL|2013|594333600|\n",
      "| AAPL|2013|484156400|\n",
      "| AAPL|2013|458707200|\n",
      "+-----+----+---------+\n",
      "only showing top 5 rows\n",
      "\n"
     ]
    }
   ],
   "source": [
    "stocksDF.selectExpr('Stock','year(Date) as Year','Volume').show(5)"
   ]
  },
  {
   "cell_type": "code",
   "execution_count": 72,
   "id": "ffbd460a",
   "metadata": {},
   "outputs": [
    {
     "name": "stdout",
     "output_type": "stream",
     "text": [
      "+-----+----+------------+\n",
      "|Stock|Year| sum(Volume)|\n",
      "+-----+----+------------+\n",
      "| AAPL|2013|102421569600|\n",
      "| AAPL|2014| 63657952400|\n",
      "| AAPL|2015| 52264199600|\n",
      "| AAPL|2016| 38729911200|\n",
      "| AAPL|2017| 27243106000|\n",
      "| AAPL|2018| 34156144800|\n",
      "| AAPL|2019| 28254942800|\n",
      "| AAPL|2020| 39863855600|\n",
      "| AAPL|2021| 22746224700|\n",
      "| GOOG|2013|  1055993341|\n",
      "| GOOG|2014|   626749011|\n",
      "| GOOG|2015|   521501318|\n",
      "| GOOG|2016|   461731000|\n",
      "| GOOG|2017|   370605100|\n",
      "| GOOG|2018|   437233300|\n",
      "| GOOG|2019|   356294900|\n",
      "| GOOG|2020|   478595100|\n",
      "| GOOG|2021|   317706800|\n",
      "| INTC|2013|  9856167600|\n",
      "| INTC|2014|  7965304500|\n",
      "+-----+----+------------+\n",
      "only showing top 20 rows\n",
      "\n"
     ]
    }
   ],
   "source": [
    "stocksDF.selectExpr('Stock','year(Date) as Year','Volume').groupBy('Stock','Year').sum('Volume').sort('Stock','Year').show(20)\n"
   ]
  },
  {
   "cell_type": "markdown",
   "id": "24a94719",
   "metadata": {},
   "source": [
    "### SQL Solutions"
   ]
  },
  {
   "cell_type": "code",
   "execution_count": 169,
   "id": "422faeb1",
   "metadata": {},
   "outputs": [
    {
     "name": "stdout",
     "output_type": "stream",
     "text": [
      "+-----+----+---------+\n",
      "|Stock|Year|   Volume|\n",
      "+-----+----+---------+\n",
      "| AAPL|2013|560518000|\n",
      "| AAPL|2013|352965200|\n",
      "| AAPL|2013|594333600|\n",
      "| AAPL|2013|484156400|\n",
      "| AAPL|2013|458707200|\n",
      "+-----+----+---------+\n",
      "only showing top 5 rows\n",
      "\n"
     ]
    }
   ],
   "source": [
    "spark.sql(\"\"\"\n",
    "SELECT Stock, year(Date) as Year, Volume\n",
    "    FROM stocks_table\n",
    "\n",
    "\"\"\").show(5)"
   ]
  },
  {
   "cell_type": "code",
   "execution_count": 179,
   "id": "9fb92a2f",
   "metadata": {},
   "outputs": [
    {
     "name": "stdout",
     "output_type": "stream",
     "text": [
      "+-----+----+------------+\n",
      "|Stock|Year| sum(Volume)|\n",
      "+-----+----+------------+\n",
      "| AAPL|2013|102421569600|\n",
      "| AAPL|2014| 63657952400|\n",
      "| AAPL|2015| 52264199600|\n",
      "| AAPL|2016| 38729911200|\n",
      "| AAPL|2017| 27243106000|\n",
      "| AAPL|2018| 34156144800|\n",
      "| AAPL|2019| 28254942800|\n",
      "| AAPL|2020| 39863855600|\n",
      "| AAPL|2021| 22746224700|\n",
      "| GOOG|2013|  1055993341|\n",
      "| GOOG|2014|   626749011|\n",
      "| GOOG|2015|   521501318|\n",
      "| GOOG|2016|   461731000|\n",
      "| GOOG|2017|   370605100|\n",
      "| GOOG|2018|   437233300|\n",
      "| GOOG|2019|   356294900|\n",
      "| GOOG|2020|   478595100|\n",
      "| GOOG|2021|   317706800|\n",
      "| INTC|2013|  9856167600|\n",
      "| INTC|2014|  7965304500|\n",
      "+-----+----+------------+\n",
      "only showing top 20 rows\n",
      "\n"
     ]
    }
   ],
   "source": [
    "spark.sql(\"\"\"\n",
    "SELECT Stock, year(Date) as Year, sum(Volume)\n",
    "    FROM stocks_table\n",
    "    GROUP BY Stock, Year \n",
    "    ORDER BY Stock, Year ASC\n",
    "\n",
    "\"\"\").show()"
   ]
  },
  {
   "cell_type": "markdown",
   "id": "fd14cfaf",
   "metadata": {},
   "source": [
    "## Part7 (20 points)"
   ]
  },
  {
   "cell_type": "markdown",
   "id": "958b2907",
   "metadata": {},
   "source": [
    "- a) Show the Stock, Year, High, and Low values as shown below.\n",
    "- b) For each stock per each year, what is the largest High and the smallest Low price\n",
    "- c) For the above problem, show the dates for the largest High and the smallest Low for each stock per each year. Use the same approach as in 5b.\n",
    "\n",
    "\n",
    "- Sample output for a)\n",
    "\n",
    "```{}\n",
    "+-----+----+-----+-----+\n",
    "|Stock|Year| High|  Low|\n",
    "+-----+----+-----+-----+\n",
    "| AAPL|2013|19.82|19.34|\n",
    "| AAPL|2013|19.63|19.32|\n",
    "+-----+----+-----+-----+\n",
    "only showing top 2 rows\n",
    "```\n",
    "\n",
    "- Sample output for b)\n",
    "\n",
    "```{}\n",
    "+-----+----+---------+--------+\n",
    "|Stock|Year|max(High)|min(Low)|\n",
    "+-----+----+---------+--------+\n",
    "| AAPL|2013|    20.54|   13.75|\n",
    "| AAPL|2014|    29.94|   17.63|\n",
    "| AAPL|2015|    33.63|    23.0|\n",
    "| AAPL|2016|    29.67|   22.37|\n",
    "| AAPL|2017|     44.3|   28.69|\n",
    "| AAPL|2018|    58.37|   36.65|\n",
    "| AAPL|2019|    73.49|    35.5|\n",
    "| AAPL|2020|   138.79|   53.15|\n",
    "| AAPL|2021|   182.13|  116.21|\n",
    "| GOOG|2013|   558.41|  346.46|\n",
    "| GOOG|2014|   612.15|  487.66|\n",
    "| GOOG|2015|   779.98|  486.23|\n",
    "| GOOG|2016|   816.68|  663.06|\n",
    "| GOOG|2017|  1078.49|   775.8|\n",
    "| GOOG|2018|  1273.89|  970.11|\n",
    "| GOOG|2019|   1365.0| 1014.07|\n",
    "| GOOG|2020|   1847.2| 1013.54|\n",
    "| GOOG|2021|   3037.0|  1699.0|\n",
    "| INTC|2013|    26.04|    20.1|\n",
    "| INTC|2014|     37.9|    23.5|\n",
    "+-----+----+---------+--------+\n",
    "only showing top 20 rows\n",
    "\n",
    "```\n",
    "\n",
    "- Sample output for c)\n",
    "\n",
    "```{}\n",
    "+-----+----+-------+----------+-------+----------+\n",
    "|Stock|Year|   High|  HighDate|    Low|   LowDate|\n",
    "+-----+----+-------+----------+-------+----------+\n",
    "| AAPL|2013|  20.54|2013-12-05|  13.75|2013-04-19|\n",
    "| AAPL|2014|  29.94|2014-11-25|  17.63|2014-01-31|\n",
    "| AAPL|2015|  33.63|2015-04-28|   23.0|2015-08-24|\n",
    "| AAPL|2016|  29.67|2016-10-11|  22.37|2016-05-12|\n",
    "| AAPL|2017|   44.3|2017-12-18|  28.69|2017-01-03|\n",
    "| AAPL|2018|  58.37|2018-10-03|  36.65|2018-12-24|\n",
    "| AAPL|2019|  73.49|2019-12-27|   35.5|2019-01-03|\n",
    "| AAPL|2020| 138.79|2020-12-29|  53.15|2020-03-23|\n",
    "| AAPL|2021| 182.13|2021-12-13| 116.21|2021-03-08|\n",
    "| GOOG|2013| 558.41|2013-12-31| 346.46|2013-01-22|\n",
    "| GOOG|2014| 612.15|2014-02-26| 487.66|2014-12-16|\n",
    "| GOOG|2015| 779.98|2015-12-29| 486.23|2015-01-12|\n",
    "| GOOG|2016| 816.68|2016-10-25| 663.06|2016-02-08|\n",
    "| GOOG|2017|1078.49|2017-12-18|  775.8|2017-01-03|\n",
    "| GOOG|2018|1273.89|2018-07-27| 970.11|2018-12-24|\n",
    "| GOOG|2019| 1365.0|2019-12-17|1014.07|2019-01-03|\n",
    "| GOOG|2020| 1847.2|2020-12-03|1013.54|2020-03-23|\n",
    "| GOOG|2021| 3037.0|2021-11-19| 1699.0|2021-01-06|\n",
    "| INTC|2013|  26.04|2013-12-31|   20.1|2013-02-22|\n",
    "| INTC|2014|   37.9|2014-12-05|   23.5|2014-02-05|\n",
    "+-----+----+-------+----------+-------+----------+\n",
    "only showing top 20 rows\n",
    "```\n"
   ]
  },
  {
   "cell_type": "markdown",
   "id": "f76ed7fb",
   "metadata": {},
   "source": [
    "### DataFrame Solutions"
   ]
  },
  {
   "cell_type": "code",
   "execution_count": 74,
   "id": "38a46de2",
   "metadata": {},
   "outputs": [
    {
     "name": "stdout",
     "output_type": "stream",
     "text": [
      "+-----+----+-----+-----+\n",
      "|Stock|Year| High|  Low|\n",
      "+-----+----+-----+-----+\n",
      "| AAPL|2013|19.82|19.34|\n",
      "| AAPL|2013|19.63|19.32|\n",
      "+-----+----+-----+-----+\n",
      "only showing top 2 rows\n",
      "\n"
     ]
    }
   ],
   "source": [
    "stocksDF.selectExpr('Stock','year(Date) as Year','High','Low').show(2)"
   ]
  },
  {
   "cell_type": "code",
   "execution_count": 78,
   "id": "5a232413",
   "metadata": {},
   "outputs": [
    {
     "name": "stdout",
     "output_type": "stream",
     "text": [
      "+-----+----+---------+--------+\n",
      "|Stock|Year|max(High)|min(Low)|\n",
      "+-----+----+---------+--------+\n",
      "| AAPL|2013|    20.54|   13.75|\n",
      "| AAPL|2014|    29.94|   17.63|\n",
      "| AAPL|2015|    33.63|    23.0|\n",
      "| AAPL|2016|    29.67|   22.37|\n",
      "| AAPL|2017|     44.3|   28.69|\n",
      "| AAPL|2018|    58.37|   36.65|\n",
      "| AAPL|2019|    73.49|    35.5|\n",
      "| AAPL|2020|   138.79|   53.15|\n",
      "| AAPL|2021|   182.13|  116.21|\n",
      "| GOOG|2013|   558.41|  346.46|\n",
      "| GOOG|2014|   612.15|  487.66|\n",
      "| GOOG|2015|   779.98|  486.23|\n",
      "| GOOG|2016|   816.68|  663.06|\n",
      "| GOOG|2017|  1078.49|   775.8|\n",
      "| GOOG|2018|  1273.89|  970.11|\n",
      "| GOOG|2019|   1365.0| 1014.07|\n",
      "| GOOG|2020|   1847.2| 1013.54|\n",
      "| GOOG|2021|   3037.0|  1699.0|\n",
      "| INTC|2013|    26.04|    20.1|\n",
      "| INTC|2014|     37.9|    23.5|\n",
      "+-----+----+---------+--------+\n",
      "only showing top 20 rows\n",
      "\n"
     ]
    }
   ],
   "source": [
    "stocksDF.selectExpr('Stock','year(Date) as Year','High','Low').groupBy('Stock','Year').agg(\n",
    "    pmax('High'), pmin('Low')).sort('Stock','Year').show(20)"
   ]
  },
  {
   "cell_type": "code",
   "execution_count": 81,
   "id": "0d413825",
   "metadata": {},
   "outputs": [
    {
     "name": "stdout",
     "output_type": "stream",
     "text": [
      "+-----+----+-------+----------+-------+----------+\n",
      "|Stock|Year|   High|  HighDate|    Low|   LowDate|\n",
      "+-----+----+-------+----------+-------+----------+\n",
      "| AAPL|2013|  20.54|2013-12-05|  13.75|2013-04-19|\n",
      "| AAPL|2014|  29.94|2014-11-25|  17.63|2014-01-31|\n",
      "| AAPL|2015|  33.63|2015-04-28|   26.2|2015-12-31|\n",
      "| AAPL|2016|  29.67|2016-10-11|   22.5|2016-05-13|\n",
      "| AAPL|2017|   44.3|2017-12-18|  28.69|2017-01-03|\n",
      "| AAPL|2018|  58.37|2018-10-03|  36.65|2018-12-24|\n",
      "| AAPL|2019|  73.49|2019-12-27|   35.5|2019-01-03|\n",
      "| AAPL|2020| 138.79|2020-12-29|  53.15|2020-03-23|\n",
      "| AAPL|2021| 182.13|2021-12-13| 118.86|2021-03-30|\n",
      "| GOOG|2013| 558.41|2013-12-31| 346.46|2013-01-22|\n",
      "| GOOG|2014| 612.15|2014-02-26| 495.45|2014-12-17|\n",
      "| GOOG|2015| 779.98|2015-12-29| 486.23|2015-01-12|\n",
      "| GOOG|2016| 816.68|2016-10-25| 663.28|2016-06-27|\n",
      "| GOOG|2017|1078.49|2017-12-18|  775.8|2017-01-03|\n",
      "| GOOG|2018|1273.89|2018-07-27| 970.11|2018-12-24|\n",
      "| GOOG|2019| 1365.0|2019-12-17| 1033.7|2019-06-06|\n",
      "| GOOG|2020| 1847.2|2020-12-03|1013.54|2020-03-23|\n",
      "| GOOG|2021| 3037.0|2021-11-19|1718.02|2021-01-05|\n",
      "| INTC|2013|  26.04|2013-12-31|   20.1|2013-02-22|\n",
      "| INTC|2014|   37.9|2014-12-05|   23.5|2014-02-05|\n",
      "+-----+----+-------+----------+-------+----------+\n",
      "only showing top 20 rows\n",
      "\n"
     ]
    }
   ],
   "source": [
    "windowSpec3 = Window.partitionBy(\"Stock\",'Year').orderBy(desc('High'))\n",
    "windowSpec4 = Window.partitionBy(\"Stock\",'Year').orderBy('High')\n",
    "\n",
    "HighLow = stocksDF.withColumn('HighDate',col('Date'))\\\n",
    "        .withColumn('LowDate',col('Date'))\\\n",
    "        .selectExpr('Stock','year(Date) as Year','High','HighDate','Low','LowDate')\n",
    "\n",
    "High = HighLow.withColumn(\n",
    "    \"row\", row_number().over(windowSpec3)\n",
    ").filter(\"row == 1\").select('Stock','Year','High','HighDate')\n",
    "\n",
    "Low = HighLow.withColumn(\n",
    "    \"row\", row_number().over(windowSpec4)\n",
    ").filter(\"row == 1\").select('Stock','Year','Low','LowDate')\n",
    "\n",
    "High.join(Low, on=['Stock','Year']).show()\n",
    "\n"
   ]
  },
  {
   "cell_type": "markdown",
   "id": "29390ccb",
   "metadata": {},
   "source": [
    "### SQL Solutions"
   ]
  },
  {
   "cell_type": "code",
   "execution_count": 175,
   "id": "c24929e5",
   "metadata": {},
   "outputs": [
    {
     "name": "stdout",
     "output_type": "stream",
     "text": [
      "+-----+----+-----+-----+\n",
      "|Stock|Year| High|  Low|\n",
      "+-----+----+-----+-----+\n",
      "| AAPL|2013|19.82|19.34|\n",
      "| AAPL|2013|19.63|19.32|\n",
      "+-----+----+-----+-----+\n",
      "only showing top 2 rows\n",
      "\n"
     ]
    }
   ],
   "source": [
    "spark.sql(\"\"\"\n",
    "SELECT Stock, year(Date) as Year, High, Low\n",
    "    FROM stocks_table\n",
    "\n",
    "\"\"\").show(2)"
   ]
  },
  {
   "cell_type": "code",
   "execution_count": 178,
   "id": "20e92f11",
   "metadata": {},
   "outputs": [
    {
     "name": "stdout",
     "output_type": "stream",
     "text": [
      "+-----+----+---------+--------+\n",
      "|Stock|Year|max(High)|min(Low)|\n",
      "+-----+----+---------+--------+\n",
      "| AAPL|2013|    20.54|   13.75|\n",
      "| AAPL|2014|    29.94|   17.63|\n",
      "| AAPL|2015|    33.63|    23.0|\n",
      "| AAPL|2016|    29.67|   22.37|\n",
      "| AAPL|2017|     44.3|   28.69|\n",
      "| AAPL|2018|    58.37|   36.65|\n",
      "| AAPL|2019|    73.49|    35.5|\n",
      "| AAPL|2020|   138.79|   53.15|\n",
      "| AAPL|2021|   182.13|  116.21|\n",
      "| GOOG|2013|   558.41|  346.46|\n",
      "| GOOG|2014|   612.15|  487.66|\n",
      "| GOOG|2015|   779.98|  486.23|\n",
      "| GOOG|2016|   816.68|  663.06|\n",
      "| GOOG|2017|  1078.49|   775.8|\n",
      "| GOOG|2018|  1273.89|  970.11|\n",
      "| GOOG|2019|   1365.0| 1014.07|\n",
      "| GOOG|2020|   1847.2| 1013.54|\n",
      "| GOOG|2021|   3037.0|  1699.0|\n",
      "| INTC|2013|    26.04|    20.1|\n",
      "| INTC|2014|     37.9|    23.5|\n",
      "+-----+----+---------+--------+\n",
      "only showing top 20 rows\n",
      "\n"
     ]
    }
   ],
   "source": [
    "spark.sql(\"\"\"\n",
    "SELECT Stock, year(Date) as Year, max(High), min(Low)\n",
    "    FROM stocks_table\n",
    "    GROUP BY Stock, Year\n",
    "    ORDER BY Stock, Year ASC\n",
    "\n",
    "\"\"\").show()"
   ]
  },
  {
   "cell_type": "code",
   "execution_count": 241,
   "id": "efe04ebc",
   "metadata": {},
   "outputs": [
    {
     "name": "stdout",
     "output_type": "stream",
     "text": [
      "+-----+----+-------+----------+-------+----------+\n",
      "|Stock|Year|   High|  HighDate|    Low|   LowDate|\n",
      "+-----+----+-------+----------+-------+----------+\n",
      "| AAPL|2013|  20.54|2013-12-05|  13.75|2013-04-19|\n",
      "| AAPL|2014|  29.94|2014-11-25|  17.63|2014-01-31|\n",
      "| AAPL|2015|  33.63|2015-04-28|   23.0|2015-08-24|\n",
      "| AAPL|2016|  29.67|2016-10-11|  22.37|2016-05-12|\n",
      "| AAPL|2017|   44.3|2017-12-18|  28.69|2017-01-03|\n",
      "| AAPL|2018|  58.37|2018-10-03|  36.65|2018-12-24|\n",
      "| AAPL|2019|  73.49|2019-12-27|   35.5|2019-01-03|\n",
      "| AAPL|2020| 138.79|2020-12-29|  53.15|2020-03-23|\n",
      "| AAPL|2021| 182.13|2021-12-13| 116.21|2021-03-08|\n",
      "| GOOG|2013| 558.41|2013-12-31| 346.46|2013-01-22|\n",
      "| GOOG|2014| 612.15|2014-02-26| 487.66|2014-12-16|\n",
      "| GOOG|2015| 779.98|2015-12-29| 486.23|2015-01-12|\n",
      "| GOOG|2016| 816.68|2016-10-25| 663.06|2016-02-08|\n",
      "| GOOG|2017|1078.49|2017-12-18|  775.8|2017-01-03|\n",
      "| GOOG|2018|1273.89|2018-07-27| 970.11|2018-12-24|\n",
      "| GOOG|2019| 1365.0|2019-12-17|1014.07|2019-01-03|\n",
      "| GOOG|2020| 1847.2|2020-12-03|1013.54|2020-03-23|\n",
      "| GOOG|2021| 3037.0|2021-11-19| 1699.0|2021-01-06|\n",
      "| INTC|2013|  26.04|2013-12-31|   20.1|2013-02-22|\n",
      "| INTC|2014|   37.9|2014-12-05|   23.5|2014-02-05|\n",
      "+-----+----+-------+----------+-------+----------+\n",
      "only showing top 20 rows\n",
      "\n"
     ]
    }
   ],
   "source": [
    "\n",
    "High = spark.sql(\"\"\"\n",
    "SELECT Stock, Year, High, HighDate\n",
    "FROM\n",
    "  (SELECT Stock, year(Date) as Year, High ,Date as HighDate,\n",
    "    row_number()       OVER(PARTITION BY Stock, year(Date) ORDER BY High DESC) AS row\n",
    "    FROM stocks_table) \n",
    "    WHERE row == 1\n",
    "\"\"\")\n",
    "\n",
    "Low = spark.sql(\"\"\"\n",
    "SELECT Stock, Year, Low, LowDate\n",
    "FROM\n",
    "  (SELECT Stock, year(Date) as Year, Low, Date as LowDate,\n",
    "    row_number()       OVER(PARTITION BY Stock, year(Date) ORDER BY Low ASC) AS row\n",
    "    FROM stocks_table) \n",
    "    WHERE row == 1\n",
    "\"\"\")\n",
    "\n",
    "High.createOrReplaceTempView('tableH')\n",
    "Low.createOrReplaceTempView('tableL')\n",
    "\n",
    "spark.sql(\"\"\"\n",
    "    SELECT tableH.Stock, tableH.Year, High, HighDate, Low, LowDate FROM \n",
    "        tableH INNER JOIN tableL\n",
    "            ON (tableH.Stock = tableL.Stock AND tableH.Year = tableL.Year)\n",
    "\"\"\").show()"
   ]
  },
  {
   "cell_type": "markdown",
   "id": "8b0b87ee",
   "metadata": {},
   "source": [
    "## Part 8 (20 points)"
   ]
  },
  {
   "cell_type": "markdown",
   "id": "a9efca95",
   "metadata": {},
   "source": [
    " - a) Filter the dataset for Google with the net percent change  of Close and Open values as shown below.\n",
    " - b) Filter the dataset for Netflix with the net percent change  of Close and Open values as shown below.\n",
    " - c) Join the above two as shown below.\n",
    " - d) Using the result from c), first filter the Google values if its net percent change is higher, and then filter the Netflix values if its net percent change is higher, and form the UNION of the two. Show the results as shown below.\n",
    " - e) using the result from d), select the Year, Stock, and net percent change as shown below.\n",
    " - f) Show the sum of the net_percent_change values for each Stock per each year.\n",
    " \n",
    " "
   ]
  },
  {
   "cell_type": "markdown",
   "id": "54207005",
   "metadata": {},
   "source": [
    "- Sample solution for a)\n",
    "\n",
    "```{}\n",
    "+----------+------+------+------+----------+\n",
    "|      Date|Stock1| Open1|Close1|NetChange1|\n",
    "+----------+------+------+------+----------+\n",
    "|2013-01-02|  GOOG|358.37|360.27|      0.53|\n",
    "|2013-01-03|  GOOG|361.11|360.48|     -0.17|\n",
    "|2013-01-04|  GOOG|363.31|367.61|      1.18|\n",
    "|2013-01-07|  GOOG|366.35| 366.0|      -0.1|\n",
    "|2013-01-08|  GOOG| 366.4|365.28|     -0.31|\n",
    "+----------+------+------+------+----------+\n",
    "only showing top 5 rows\n",
    "```\n",
    "\n",
    "- Sample solution for b)\n",
    "\n",
    "```{}\n",
    "+----------+------+-----+------+----------+\n",
    "|      Date|Stock2|Open2|Close2|NetChange2|\n",
    "+----------+------+-----+------+----------+\n",
    "|2013-01-02|  NFLX| 13.6| 13.14|     -3.38|\n",
    "|2013-01-03|  NFLX|13.14|  13.8|      5.02|\n",
    "|2013-01-04|  NFLX|13.79| 13.71|     -0.58|\n",
    "|2013-01-07|  NFLX|13.77| 14.17|       2.9|\n",
    "|2013-01-08|  NFLX|14.29| 13.88|     -2.87|\n",
    "+----------+------+-----+------+----------+\n",
    "only showing top 5 rows\n",
    "```\n",
    "\n",
    "- Sample solution for c)\n",
    "\n",
    "```{}\n",
    "+----------+------+------+------+----------+------+-----+------+----------+\n",
    "|      Date|Stock1| Open1|Close1|NetChange1|Stock2|Open2|Close2|NetChange2|\n",
    "+----------+------+------+------+----------+------+-----+------+----------+\n",
    "|2013-01-02|  GOOG|358.37|360.27|      0.53|  NFLX| 13.6| 13.14|     -3.38|\n",
    "|2013-01-03|  GOOG|361.11|360.48|     -0.17|  NFLX|13.14|  13.8|      5.02|\n",
    "|2013-01-04|  GOOG|363.31|367.61|      1.18|  NFLX|13.79| 13.71|     -0.58|\n",
    "|2013-01-07|  GOOG|366.35| 366.0|      -0.1|  NFLX|13.77| 14.17|       2.9|\n",
    "|2013-01-08|  GOOG| 366.4|365.28|     -0.31|  NFLX|14.29| 13.88|     -2.87|\n",
    "+----------+------+------+------+----------+------+-----+------+----------+\n",
    "only showing top 5 rows\n",
    "```\n",
    "\n",
    "- Sample solution for d)\n",
    "\n",
    "```{}\n",
    "+----------+-----+------+------+---------+\n",
    "|      Date|Stock|  Open| Close|NetChange|\n",
    "+----------+-----+------+------+---------+\n",
    "|2013-01-02| GOOG|358.37|360.27|     0.53|\n",
    "|2013-01-03| NFLX| 13.14|  13.8|     5.02|\n",
    "|2013-01-04| GOOG|363.31|367.61|     1.18|\n",
    "|2013-01-07| NFLX| 13.77| 14.17|      2.9|\n",
    "|2013-01-08| GOOG| 366.4|365.28|    -0.31|\n",
    "|2013-01-09| GOOG|364.77|367.68|      0.8|\n",
    "|2013-01-10| NFLX|  13.8|  14.0|     1.45|\n",
    "|2013-01-11| NFLX| 14.03| 14.47|     3.14|\n",
    "|2013-01-14| NFLX| 14.43| 14.78|     2.43|\n",
    "|2013-01-15| GOOG|358.32|361.11|     0.78|\n",
    "|2013-01-16| GOOG|359.85|356.26|     -1.0|\n",
    "|2013-01-17| NFLX| 14.01| 13.96|    -0.36|\n",
    "|2013-01-18| GOOG|353.85|350.94|    -0.82|\n",
    "|2013-01-22| GOOG|351.01|350.12|    -0.25|\n",
    "|2013-01-23| NFLX| 13.88| 14.75|     6.27|\n",
    "|2013-01-24| NFLX| 20.57| 20.98|     1.99|\n",
    "|2013-01-25| NFLX| 20.81| 24.22|    16.39|\n",
    "|2013-01-28| GOOG|374.48|373.96|    -0.14|\n",
    "|2013-01-29| NFLX| 22.59| 24.16|     6.95|\n",
    "|2013-01-30| GOOG|375.46|375.51|     0.01|\n",
    "+----------+-----+------+------+---------+\n",
    "```\n",
    "\n",
    "- Sample solution for e)\n",
    "\n",
    "```{}\n",
    "+----+-----+---------+\n",
    "|Year|Stock|NetChange|\n",
    "+----+-----+---------+\n",
    "|2013| GOOG|     0.53|\n",
    "|2013| NFLX|     5.02|\n",
    "|2013| GOOG|     1.18|\n",
    "|2013| NFLX|      2.9|\n",
    "|2013| GOOG|    -0.31|\n",
    "|2013| GOOG|      0.8|\n",
    "|2013| NFLX|     1.45|\n",
    "|2013| NFLX|     3.14|\n",
    "|2013| NFLX|     2.43|\n",
    "|2013| GOOG|     0.78|\n",
    "|2013| GOOG|     -1.0|\n",
    "|2013| NFLX|    -0.36|\n",
    "|2013| GOOG|    -0.82|\n",
    "|2013| GOOG|    -0.25|\n",
    "|2013| NFLX|     6.27|\n",
    "|2013| NFLX|     1.99|\n",
    "|2013| NFLX|    16.39|\n",
    "|2013| GOOG|    -0.14|\n",
    "|2013| NFLX|     6.95|\n",
    "|2013| GOOG|     0.01|\n",
    "+----+-----+---------+\n",
    "only showing top 20 rows\n",
    "\n",
    "```\n",
    "\n",
    "- Sample solution for f)\n",
    "\n",
    "```{}\n",
    "+----+-----+--------------+\n",
    "|Year|Stock|TotalNetChange|\n",
    "+----+-----+--------------+\n",
    "|2013| GOOG|         26.02|\n",
    "|2013| NFLX|        241.05|\n",
    "|2014| GOOG|         -4.03|\n",
    "|2014| NFLX|        141.55|\n",
    "|2015| GOOG|         30.11|\n",
    "|2015| NFLX|        185.94|\n",
    "|2016| GOOG|          0.72|\n",
    "|2016| NFLX|         168.4|\n",
    "|2017| GOOG|         17.07|\n",
    "|2017| NFLX|        109.73|\n",
    "|2018| GOOG|          -8.9|\n",
    "|2018| NFLX|        190.29|\n",
    "|2019| GOOG|         31.82|\n",
    "|2019| NFLX|        139.83|\n",
    "|2020| GOOG|          70.9|\n",
    "|2020| NFLX|        167.45|\n",
    "|2021| GOOG|         46.09|\n",
    "|2021| NFLX|         99.57|\n",
    "+----+-----+--------------+\n",
    "```\n",
    "\n"
   ]
  },
  {
   "cell_type": "markdown",
   "id": "8f71c14d",
   "metadata": {},
   "source": [
    "### DataFrame Solutions"
   ]
  },
  {
   "cell_type": "code",
   "execution_count": 242,
   "id": "9ca17d31",
   "metadata": {},
   "outputs": [
    {
     "name": "stdout",
     "output_type": "stream",
     "text": [
      "+----------+------+------+------+----------+\n",
      "|      Date|Stock1| Open1|Close1|NetChange1|\n",
      "+----------+------+------+------+----------+\n",
      "|2013-01-02|  GOOG|358.37|360.27|      0.53|\n",
      "|2013-01-03|  GOOG|361.11|360.48|     -0.17|\n",
      "|2013-01-04|  GOOG|363.31|367.61|      1.18|\n",
      "|2013-01-07|  GOOG|366.35| 366.0|      -0.1|\n",
      "|2013-01-08|  GOOG| 366.4|365.28|     -0.31|\n",
      "+----------+------+------+------+----------+\n",
      "only showing top 5 rows\n",
      "\n"
     ]
    }
   ],
   "source": [
    "dfg = stocksDF.selectExpr('Date','Stock as Stock1','Open as Open1','Close as Close1',\"ROUND((Close-Open)/Open*100,2) as NetChange1\").filter(col('Stock') == 'GOOG')\n",
    "dfg.show(5)\n",
    "\n"
   ]
  },
  {
   "cell_type": "code",
   "execution_count": 243,
   "id": "fd66f580",
   "metadata": {},
   "outputs": [
    {
     "name": "stdout",
     "output_type": "stream",
     "text": [
      "+----------+------+-----+------+----------+\n",
      "|      Date|Stock2|Open2|Close2|NetChange2|\n",
      "+----------+------+-----+------+----------+\n",
      "|2013-01-02|  NFLX| 13.6| 13.14|     -3.38|\n",
      "|2013-01-03|  NFLX|13.14|  13.8|      5.02|\n",
      "|2013-01-04|  NFLX|13.79| 13.71|     -0.58|\n",
      "|2013-01-07|  NFLX|13.77| 14.17|       2.9|\n",
      "|2013-01-08|  NFLX|14.29| 13.88|     -2.87|\n",
      "+----------+------+-----+------+----------+\n",
      "only showing top 5 rows\n",
      "\n"
     ]
    }
   ],
   "source": [
    "dfn = stocksDF.selectExpr('Date','Stock as Stock2','Open as Open2','Close as Close2',\"ROUND((Close-Open)/Open*100,2) as NetChange2\").filter(col('Stock') == 'NFLX')\n",
    "dfn.show(5)\n"
   ]
  },
  {
   "cell_type": "code",
   "execution_count": 244,
   "id": "0eccdb35",
   "metadata": {},
   "outputs": [
    {
     "name": "stdout",
     "output_type": "stream",
     "text": [
      "+----------+------+------+------+----------+------+-----+------+----------+\n",
      "|      Date|Stock1| Open1|Close1|NetChange1|Stock2|Open2|Close2|NetChange2|\n",
      "+----------+------+------+------+----------+------+-----+------+----------+\n",
      "|2013-01-02|  GOOG|358.37|360.27|      0.53|  NFLX| 13.6| 13.14|     -3.38|\n",
      "|2013-01-03|  GOOG|361.11|360.48|     -0.17|  NFLX|13.14|  13.8|      5.02|\n",
      "|2013-01-04|  GOOG|363.31|367.61|      1.18|  NFLX|13.79| 13.71|     -0.58|\n",
      "|2013-01-07|  GOOG|366.35| 366.0|      -0.1|  NFLX|13.77| 14.17|       2.9|\n",
      "|2013-01-08|  GOOG| 366.4|365.28|     -0.31|  NFLX|14.29| 13.88|     -2.87|\n",
      "+----------+------+------+------+----------+------+-----+------+----------+\n",
      "only showing top 5 rows\n",
      "\n"
     ]
    }
   ],
   "source": [
    "netchanges = dfg.join(dfn, on = 'Date')\n",
    "netchanges.show(5)"
   ]
  },
  {
   "cell_type": "code",
   "execution_count": 265,
   "id": "8e4a57b4",
   "metadata": {},
   "outputs": [
    {
     "name": "stdout",
     "output_type": "stream",
     "text": [
      "+----------+-----+------+------+---------+\n",
      "|      Date|Stock|  Open| Close|NetChange|\n",
      "+----------+-----+------+------+---------+\n",
      "|2013-01-02| GOOG|358.37|360.27|     0.53|\n",
      "|2013-01-03| NFLX| 13.14|  13.8|     5.02|\n",
      "|2013-01-04| GOOG|363.31|367.61|     1.18|\n",
      "|2013-01-07| NFLX| 13.77| 14.17|      2.9|\n",
      "|2013-01-08| GOOG| 366.4|365.28|    -0.31|\n",
      "|2013-01-09| GOOG|364.77|367.68|      0.8|\n",
      "|2013-01-10| NFLX|  13.8|  14.0|     1.45|\n",
      "|2013-01-11| NFLX| 14.03| 14.47|     3.14|\n",
      "|2013-01-14| NFLX| 14.43| 14.78|     2.43|\n",
      "|2013-01-15| GOOG|358.32|361.11|     0.78|\n",
      "|2013-01-16| GOOG|359.85|356.26|     -1.0|\n",
      "|2013-01-17| NFLX| 14.01| 13.96|    -0.36|\n",
      "|2013-01-18| GOOG|353.85|350.94|    -0.82|\n",
      "|2013-01-22| GOOG|351.01|350.12|    -0.25|\n",
      "|2013-01-23| NFLX| 13.88| 14.75|     6.27|\n",
      "|2013-01-24| NFLX| 20.57| 20.98|     1.99|\n",
      "|2013-01-25| NFLX| 20.81| 24.22|    16.39|\n",
      "|2013-01-28| GOOG|374.48|373.96|    -0.14|\n",
      "|2013-01-29| NFLX| 22.59| 24.16|     6.95|\n",
      "|2013-01-30| GOOG|375.46|375.51|     0.01|\n",
      "+----------+-----+------+------+---------+\n",
      "only showing top 20 rows\n",
      "\n"
     ]
    }
   ],
   "source": [
    "high_g = netchanges.filter(col(\"NetChange1\") > col(\"NetChange2\")).selectExpr('Date','Stock1 as Stock','Open1 as Open','Close1 as Close','NetChange1 as NetChange')\n",
    "high_n = netchanges.filter(col(\"NetChange1\") <= col(\"NetChange2\")).selectExpr('Date','Stock2 as Stock','Open2 as Open','Close2 as Close','NetChange2 as NetChange')\n",
    "\n",
    "HighNC = high_n.union(high_g).sort('Date')\n",
    "HighNC.show()\n"
   ]
  },
  {
   "cell_type": "code",
   "execution_count": 266,
   "id": "595cfe61",
   "metadata": {},
   "outputs": [
    {
     "name": "stdout",
     "output_type": "stream",
     "text": [
      "+----+-----+---------+\n",
      "|Year|Stock|NetChange|\n",
      "+----+-----+---------+\n",
      "|2013| GOOG|     0.53|\n",
      "|2013| NFLX|     5.02|\n",
      "|2013| GOOG|     1.18|\n",
      "|2013| NFLX|      2.9|\n",
      "|2013| GOOG|    -0.31|\n",
      "|2013| GOOG|      0.8|\n",
      "|2013| NFLX|     1.45|\n",
      "|2013| NFLX|     3.14|\n",
      "|2013| NFLX|     2.43|\n",
      "|2013| GOOG|     0.78|\n",
      "|2013| GOOG|     -1.0|\n",
      "|2013| NFLX|    -0.36|\n",
      "|2013| GOOG|    -0.82|\n",
      "|2013| GOOG|    -0.25|\n",
      "|2013| NFLX|     6.27|\n",
      "|2013| NFLX|     1.99|\n",
      "|2013| NFLX|    16.39|\n",
      "|2013| GOOG|    -0.14|\n",
      "|2013| NFLX|     6.95|\n",
      "|2013| GOOG|     0.01|\n",
      "+----+-----+---------+\n",
      "only showing top 20 rows\n",
      "\n"
     ]
    }
   ],
   "source": [
    "yearNC = HighNC.selectExpr('year(Date) as Year','Stock','NetChange')\n",
    "yearNC.show()"
   ]
  },
  {
   "cell_type": "code",
   "execution_count": 267,
   "id": "0628c8b7",
   "metadata": {},
   "outputs": [
    {
     "name": "stdout",
     "output_type": "stream",
     "text": [
      "+----+-----+--------------+\n",
      "|Year|Stock|TotalNetChange|\n",
      "+----+-----+--------------+\n",
      "|2013| GOOG|         26.02|\n",
      "|2013| NFLX|        241.05|\n",
      "|2014| GOOG|         -4.03|\n",
      "|2014| NFLX|        141.55|\n",
      "|2015| GOOG|         30.11|\n",
      "|2015| NFLX|        185.94|\n",
      "|2016| GOOG|          0.72|\n",
      "|2016| NFLX|         168.4|\n",
      "|2017| GOOG|         17.07|\n",
      "|2017| NFLX|        109.73|\n",
      "|2018| GOOG|          -8.9|\n",
      "|2018| NFLX|        190.29|\n",
      "|2019| GOOG|         31.82|\n",
      "|2019| NFLX|        139.83|\n",
      "|2020| GOOG|          70.9|\n",
      "|2020| NFLX|        167.45|\n",
      "|2021| GOOG|         46.09|\n",
      "|2021| NFLX|         99.57|\n",
      "+----+-----+--------------+\n",
      "\n"
     ]
    }
   ],
   "source": [
    "from pyspark.sql.functions import sum, round\n",
    "yearNC.groupBy('Year','Stock').agg(round(sum('NetChange'),2).alias('TotalNetChange')).sort('Year','Stock').show() \n",
    "\n",
    "                                                                     \n",
    "                                                                     "
   ]
  },
  {
   "cell_type": "markdown",
   "id": "35776302",
   "metadata": {},
   "source": [
    "### SQL Solutions"
   ]
  },
  {
   "cell_type": "code",
   "execution_count": 189,
   "id": "a5352569",
   "metadata": {},
   "outputs": [
    {
     "name": "stdout",
     "output_type": "stream",
     "text": [
      "+----------+------+------+------+----------+\n",
      "|      Date|Stock1| Open1|Close1|NetChange1|\n",
      "+----------+------+------+------+----------+\n",
      "|2013-01-02|  GOOG|358.37|360.27|      0.53|\n",
      "|2013-01-03|  GOOG|361.11|360.48|     -0.17|\n",
      "|2013-01-04|  GOOG|363.31|367.61|      1.18|\n",
      "|2013-01-07|  GOOG|366.35| 366.0|      -0.1|\n",
      "|2013-01-08|  GOOG| 366.4|365.28|     -0.31|\n",
      "+----------+------+------+------+----------+\n",
      "only showing top 5 rows\n",
      "\n"
     ]
    }
   ],
   "source": [
    "df_A = spark.sql(\"\"\"\n",
    "SELECT Date, Stock as Stock1, Open as Open1, Close as Close1, ROUND((Close-Open)/Open*100,2) as NetChange1\n",
    "    FROM stocks_table\n",
    "    WHERE Stock == 'GOOG'\n",
    "\n",
    "\"\"\")\n",
    "\n",
    "df_A.show(5)"
   ]
  },
  {
   "cell_type": "code",
   "execution_count": 190,
   "id": "b424caab",
   "metadata": {},
   "outputs": [
    {
     "name": "stdout",
     "output_type": "stream",
     "text": [
      "+----------+------+-----+------+----------+\n",
      "|      Date|Stock2|Open2|Close2|NetChange2|\n",
      "+----------+------+-----+------+----------+\n",
      "|2013-01-02|  NFLX| 13.6| 13.14|     -3.38|\n",
      "|2013-01-03|  NFLX|13.14|  13.8|      5.02|\n",
      "|2013-01-04|  NFLX|13.79| 13.71|     -0.58|\n",
      "|2013-01-07|  NFLX|13.77| 14.17|       2.9|\n",
      "|2013-01-08|  NFLX|14.29| 13.88|     -2.87|\n",
      "+----------+------+-----+------+----------+\n",
      "only showing top 5 rows\n",
      "\n"
     ]
    }
   ],
   "source": [
    "df_B = spark.sql(\"\"\"\n",
    "SELECT Date, Stock as Stock2, Open as Open2, Close as Close2, ROUND((Close-Open)/Open*100,2) as NetChange2\n",
    "    FROM stocks_table\n",
    "    WHERE Stock == 'NFLX'\n",
    "\n",
    "\"\"\")\n",
    "\n",
    "df_B.show(5)"
   ]
  },
  {
   "cell_type": "code",
   "execution_count": 198,
   "id": "87d785aa",
   "metadata": {},
   "outputs": [
    {
     "name": "stdout",
     "output_type": "stream",
     "text": [
      "+----------+------+------+------+----------+------+-----+------+----------+\n",
      "|      Date|Stock1| Open1|Close1|NetChange1|Stock2|Open2|Close2|NetChange2|\n",
      "+----------+------+------+------+----------+------+-----+------+----------+\n",
      "|2013-01-02|  GOOG|358.37|360.27|      0.53|  NFLX| 13.6| 13.14|     -3.38|\n",
      "|2013-01-03|  GOOG|361.11|360.48|     -0.17|  NFLX|13.14|  13.8|      5.02|\n",
      "|2013-01-04|  GOOG|363.31|367.61|      1.18|  NFLX|13.79| 13.71|     -0.58|\n",
      "|2013-01-07|  GOOG|366.35| 366.0|      -0.1|  NFLX|13.77| 14.17|       2.9|\n",
      "|2013-01-08|  GOOG| 366.4|365.28|     -0.31|  NFLX|14.29| 13.88|     -2.87|\n",
      "+----------+------+------+------+----------+------+-----+------+----------+\n",
      "only showing top 5 rows\n",
      "\n"
     ]
    }
   ],
   "source": [
    "df_A.createOrReplaceTempView('tableA')\n",
    "df_B.createOrReplaceTempView('tableB')\n",
    "\n",
    "df_c = spark.sql(\"\"\"\n",
    "    SELECT tableA.Date, Stock1,Open1,Close1,NetChange1,Stock2,Open2,Close2,NetChange2 FROM \n",
    "        tableA INNER JOIN tableB\n",
    "            ON tableA.Date = tableB.Date\n",
    "\"\"\")\n",
    "\n",
    "df_c.show(5)"
   ]
  },
  {
   "cell_type": "code",
   "execution_count": 268,
   "id": "46a927b8",
   "metadata": {},
   "outputs": [
    {
     "name": "stdout",
     "output_type": "stream",
     "text": [
      "+----------+-----+------+------+---------+\n",
      "|      Date|Stock|  Open| Close|NetChange|\n",
      "+----------+-----+------+------+---------+\n",
      "|2013-01-02| GOOG|358.37|360.27|     0.53|\n",
      "|2013-01-03| NFLX| 13.14|  13.8|     5.02|\n",
      "|2013-01-04| GOOG|363.31|367.61|     1.18|\n",
      "|2013-01-07| NFLX| 13.77| 14.17|      2.9|\n",
      "|2013-01-08| GOOG| 366.4|365.28|    -0.31|\n",
      "|2013-01-09| GOOG|364.77|367.68|      0.8|\n",
      "|2013-01-10| NFLX|  13.8|  14.0|     1.45|\n",
      "|2013-01-11| NFLX| 14.03| 14.47|     3.14|\n",
      "|2013-01-14| NFLX| 14.43| 14.78|     2.43|\n",
      "|2013-01-15| GOOG|358.32|361.11|     0.78|\n",
      "|2013-01-16| GOOG|359.85|356.26|     -1.0|\n",
      "|2013-01-17| NFLX| 14.01| 13.96|    -0.36|\n",
      "|2013-01-18| GOOG|353.85|350.94|    -0.82|\n",
      "|2013-01-22| GOOG|351.01|350.12|    -0.25|\n",
      "|2013-01-23| NFLX| 13.88| 14.75|     6.27|\n",
      "|2013-01-24| NFLX| 20.57| 20.98|     1.99|\n",
      "|2013-01-25| NFLX| 20.81| 24.22|    16.39|\n",
      "|2013-01-28| GOOG|374.48|373.96|    -0.14|\n",
      "|2013-01-29| NFLX| 22.59| 24.16|     6.95|\n",
      "|2013-01-30| GOOG|375.46|375.51|     0.01|\n",
      "+----------+-----+------+------+---------+\n",
      "only showing top 20 rows\n",
      "\n"
     ]
    }
   ],
   "source": [
    "df_c.createOrReplaceTempView('tableC')\n",
    "\n",
    "df_d = spark.sql(\"\"\"\n",
    "SELECT Date,Stock, Open, Close, NetChange FROM\n",
    "(SELECT Date,Stock1 as Stock, Open1 as Open, Close1 as Close, NetChange1 as NetChange\n",
    "    FROM tableC\n",
    "    WHERE NetChange1 > NetChange2)\n",
    "UNION\n",
    "(SELECT Date,Stock2 as Stock, Open2 as Open, Close2 as Close, NetChange2 as NetChange\n",
    "    FROM tableC\n",
    "    WHERE NetChange1 <= NetChange2)\n",
    "        ORDER BY Date\n",
    "\n",
    "\"\"\")\n",
    "\n",
    "df_d.show()\n",
    "\n",
    "\n",
    "\n"
   ]
  },
  {
   "cell_type": "code",
   "execution_count": 269,
   "id": "7a9c4128",
   "metadata": {},
   "outputs": [
    {
     "name": "stdout",
     "output_type": "stream",
     "text": [
      "+----+-----+---------+\n",
      "|Year|Stock|NetChange|\n",
      "+----+-----+---------+\n",
      "|2013| GOOG|     0.53|\n",
      "|2013| NFLX|     5.02|\n",
      "|2013| GOOG|     1.18|\n",
      "|2013| NFLX|      2.9|\n",
      "|2013| GOOG|    -0.31|\n",
      "|2013| GOOG|      0.8|\n",
      "|2013| NFLX|     1.45|\n",
      "|2013| NFLX|     3.14|\n",
      "|2013| NFLX|     2.43|\n",
      "|2013| GOOG|     0.78|\n",
      "|2013| GOOG|     -1.0|\n",
      "|2013| NFLX|    -0.36|\n",
      "|2013| GOOG|    -0.82|\n",
      "|2013| GOOG|    -0.25|\n",
      "|2013| NFLX|     6.27|\n",
      "|2013| NFLX|     1.99|\n",
      "|2013| NFLX|    16.39|\n",
      "|2013| GOOG|    -0.14|\n",
      "|2013| NFLX|     6.95|\n",
      "|2013| GOOG|     0.01|\n",
      "+----+-----+---------+\n",
      "only showing top 20 rows\n",
      "\n"
     ]
    }
   ],
   "source": [
    "df_d.createOrReplaceTempView('tableD')\n",
    "\n",
    "spark.sql(\"\"\"\n",
    "    SELECT year(Date) as Year, Stock,NetChange FROM tableD\n",
    "\"\"\").show()\n"
   ]
  },
  {
   "cell_type": "code",
   "execution_count": 270,
   "id": "0459d05c",
   "metadata": {},
   "outputs": [
    {
     "name": "stdout",
     "output_type": "stream",
     "text": [
      "+----+-----+--------------+\n",
      "|Year|Stock|TotalNetChange|\n",
      "+----+-----+--------------+\n",
      "|2013| NFLX|        241.05|\n",
      "|2013| GOOG|         26.02|\n",
      "|2014| NFLX|        141.55|\n",
      "|2014| GOOG|         -4.03|\n",
      "|2015| NFLX|        185.94|\n",
      "|2015| GOOG|         30.11|\n",
      "|2016| NFLX|         168.4|\n",
      "|2016| GOOG|          0.72|\n",
      "|2017| NFLX|        109.73|\n",
      "|2017| GOOG|         17.07|\n",
      "|2018| NFLX|        190.29|\n",
      "|2018| GOOG|          -8.9|\n",
      "|2019| NFLX|        139.83|\n",
      "|2019| GOOG|         31.82|\n",
      "|2020| NFLX|        167.45|\n",
      "|2020| GOOG|          70.9|\n",
      "|2021| NFLX|         99.57|\n",
      "|2021| GOOG|         46.09|\n",
      "+----+-----+--------------+\n",
      "\n"
     ]
    }
   ],
   "source": [
    "spark.sql(\"\"\"\n",
    "    SELECT year(Date) as Year, Stock,ROUND(sum(NetChange),2) as TotalNetChange FROM tableD\n",
    "    GROUP BY Year, Stock\n",
    "    ORDER BY Year\n",
    "\"\"\").show()"
   ]
  },
  {
   "cell_type": "code",
   "execution_count": null,
   "id": "aa9a0c09",
   "metadata": {},
   "outputs": [],
   "source": [
    "spark.stop()"
   ]
  },
  {
   "cell_type": "code",
   "execution_count": 211,
   "id": "960b4787",
   "metadata": {},
   "outputs": [],
   "source": []
  },
  {
   "cell_type": "code",
   "execution_count": null,
   "id": "14197c40",
   "metadata": {},
   "outputs": [],
   "source": []
  }
 ],
 "metadata": {
  "kernelspec": {
   "display_name": "Python 3",
   "language": "python",
   "name": "python3"
  },
  "language_info": {
   "codemirror_mode": {
    "name": "ipython",
    "version": 3
   },
   "file_extension": ".py",
   "mimetype": "text/x-python",
   "name": "python",
   "nbconvert_exporter": "python",
   "pygments_lexer": "ipython3",
   "version": "3.8.8"
  },
  "nbTranslate": {
   "displayLangs": [
    "*"
   ],
   "hotkey": "alt-t",
   "langInMainMenu": true,
   "sourceLang": "en",
   "targetLang": "fr",
   "useGoogleTranslate": true
  },
  "toc": {
   "base_numbering": 1,
   "nav_menu": {},
   "number_sections": false,
   "sideBar": true,
   "skip_h1_title": true,
   "title_cell": "Table of Contents",
   "title_sidebar": "Contents",
   "toc_cell": false,
   "toc_position": {
    "height": "calc(100% - 180px)",
    "left": "10px",
    "top": "150px",
    "width": "165px"
   },
   "toc_section_display": true,
   "toc_window_display": true
  }
 },
 "nbformat": 4,
 "nbformat_minor": 5
}
