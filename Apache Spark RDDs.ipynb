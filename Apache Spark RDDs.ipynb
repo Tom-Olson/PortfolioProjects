{
 "cells": [
  {
   "cell_type": "markdown",
   "id": "660d0b98",
   "metadata": {},
   "source": [
    "# CS777 HW1 Using Spark RDDs only"
   ]
  },
  {
   "cell_type": "code",
   "execution_count": 1,
   "id": "4d63ab6f",
   "metadata": {},
   "outputs": [],
   "source": [
    "from pyspark import SparkContext\n",
    "\n",
    "sc = SparkContext(\"local[4]\", \"hw1\")"
   ]
  },
  {
   "cell_type": "code",
   "execution_count": 2,
   "id": "7a6b1346",
   "metadata": {},
   "outputs": [],
   "source": [
    "import wget"
   ]
  },
  {
   "cell_type": "code",
   "execution_count": 3,
   "id": "3a646f4b",
   "metadata": {},
   "outputs": [
    {
     "data": {
      "text/plain": [
       "'stocks_2013_2021 (2).txt'"
      ]
     },
     "execution_count": 3,
     "metadata": {},
     "output_type": "execute_result"
    }
   ],
   "source": [
    "fileName = 'https://people.bu.edu/kalathur/datasets/stocks_2013_2021.txt'\n",
    "wget.download(fileName)"
   ]
  },
  {
   "cell_type": "code",
   "execution_count": 4,
   "id": "3d5863a4",
   "metadata": {},
   "outputs": [
    {
     "data": {
      "text/plain": [
       "stocks_2013_2021.txt MapPartitionsRDD[1] at textFile at NativeMethodAccessorImpl.java:0"
      ]
     },
     "execution_count": 4,
     "metadata": {},
     "output_type": "execute_result"
    }
   ],
   "source": [
    "stocksFile = sc.textFile(\"stocks_2013_2021.txt\")\n",
    "stocksFile"
   ]
  },
  {
   "cell_type": "code",
   "execution_count": 5,
   "id": "f3e43e4f",
   "metadata": {},
   "outputs": [
    {
     "data": {
      "text/plain": [
       "['AAPL,2013-01-02,19.78,19.82,19.34,16.96,560518000',\n",
       " 'AAPL,2013-01-03,19.57,19.63,19.32,16.75,352965200',\n",
       " 'AAPL,2013-01-04,19.18,19.24,18.78,16.28,594333600',\n",
       " 'AAPL,2013-01-07,18.64,18.9,18.4,16.18,484156400']"
      ]
     },
     "execution_count": 5,
     "metadata": {},
     "output_type": "execute_result"
    }
   ],
   "source": [
    "stocksFile.take(4)"
   ]
  },
  {
   "cell_type": "markdown",
   "id": "37afb697",
   "metadata": {},
   "source": [
    "**File format**:\n",
    "\n",
    "Stock,Date,Open,High,Low,Close,Volume"
   ]
  },
  {
   "cell_type": "markdown",
   "id": "d4325479",
   "metadata": {},
   "source": [
    "## Part1 (10 points)"
   ]
  },
  {
   "cell_type": "markdown",
   "id": "bf1245e4",
   "metadata": {},
   "source": [
    "**1a)** Map each line of the text file to a list of tokens. Show the first 2 entries.\n",
    "\n",
    "Sample Output:\n",
    "<pre>\n",
    "[['AAPL', '2013-01-02', '19.78', '19.82', '19.34', '16.96', '560518000'],\n",
    " ['AAPL', '2013-01-03', '19.57', '19.63', '19.32', '16.75', '352965200']]\n",
    "</pre>"
   ]
  },
  {
   "cell_type": "code",
   "execution_count": 6,
   "id": "78bdf924",
   "metadata": {},
   "outputs": [
    {
     "data": {
      "text/plain": [
       "[['AAPL', '2013-01-02', '19.78', '19.82', '19.34', '16.96', '560518000'],\n",
       " ['AAPL', '2013-01-03', '19.57', '19.63', '19.32', '16.75', '352965200']]"
      ]
     },
     "execution_count": 6,
     "metadata": {},
     "output_type": "execute_result"
    }
   ],
   "source": [
    "result_1A = stocksFile.map(lambda x: x.split(','))\n",
    "result_1A.take(2)"
   ]
  },
  {
   "cell_type": "markdown",
   "id": "b8c56967",
   "metadata": {},
   "source": [
    "**1b)** Map each list of tokens from the above step and perform type conversions. The Open. High, Low, and Close values should be converted to *float*. The Volume should be converted to *int*. Show the first 2 entries.\n",
    "\n",
    "Sample Output:\n",
    "\n",
    "<pre>\n",
    "[['AAPL', '2013-01-02', 19.78, 19.82, 19.34, 16.96, 560518000],\n",
    " ['AAPL', '2013-01-03', 19.57, 19.63, 19.32, 16.75, 352965200]]\n",
    "</pre>\n"
   ]
  },
  {
   "cell_type": "code",
   "execution_count": 7,
   "id": "3390434f",
   "metadata": {},
   "outputs": [
    {
     "data": {
      "text/plain": [
       "[['AAPL', '2013-01-02', 19.78, 19.82, 19.34, 16.96, 560518000],\n",
       " ['AAPL', '2013-01-03', 19.57, 19.63, 19.32, 16.75, 352965200]]"
      ]
     },
     "execution_count": 7,
     "metadata": {},
     "output_type": "execute_result"
    }
   ],
   "source": [
    "result_1B = result_1A.map(lambda x: [x[0],x[1],float(x[2]),float(x[3]),float(x[4]),float(x[5]),int(x[6])])\n",
    "result_1B.take(2)"
   ]
  },
  {
   "cell_type": "markdown",
   "id": "d3b3c5ec",
   "metadata": {},
   "source": [
    "**1c)** How many total entries are there in the dataset?"
   ]
  },
  {
   "cell_type": "code",
   "execution_count": 8,
   "id": "182da974",
   "metadata": {},
   "outputs": [
    {
     "data": {
      "text/plain": [
       "13596"
      ]
     },
     "execution_count": 8,
     "metadata": {},
     "output_type": "execute_result"
    }
   ],
   "source": [
    "result_1B.count()"
   ]
  },
  {
   "cell_type": "markdown",
   "id": "bcc6d0fb",
   "metadata": {},
   "source": [
    "**1d)** How many entries are there in the dataset for each Stock?\n",
    "\n",
    "Sample Output:\n",
    "\n",
    "<pre>\n",
    "defaultdict(int,\n",
    "            {'AAPL': 2266,\n",
    "             'GOOG': 2266,\n",
    "             'INTC': 2266,\n",
    "             'MSFT': 2266,\n",
    "             'NFLX': 2266,\n",
    "             'NVDA': 2266})\n",
    "</pre>"
   ]
  },
  {
   "cell_type": "code",
   "execution_count": 9,
   "id": "2b7fe005",
   "metadata": {},
   "outputs": [
    {
     "data": {
      "text/plain": [
       "defaultdict(int,\n",
       "            {'AAPL': 2266,\n",
       "             'GOOG': 2266,\n",
       "             'INTC': 2266,\n",
       "             'MSFT': 2266,\n",
       "             'NFLX': 2266,\n",
       "             'NVDA': 2266})"
      ]
     },
     "execution_count": 9,
     "metadata": {},
     "output_type": "execute_result"
    }
   ],
   "source": [
    "result_1B.map(lambda x: (x[0],1)).countByKey()\n"
   ]
  },
  {
   "cell_type": "markdown",
   "id": "5a476426",
   "metadata": {},
   "source": [
    "## Part2 (10 points)"
   ]
  },
  {
   "cell_type": "markdown",
   "id": "70ec915c",
   "metadata": {},
   "source": [
    "**2a)** Map the data from 1b) to a new RDD with only the (Stock,Volume) data. Show the first two entries.\n",
    "\n",
    "Sample Output:\n",
    "\n",
    "<pre>\n",
    "[('AAPL', 560518000), ('AAPL', 352965200)]\n",
    "</pre>"
   ]
  },
  {
   "cell_type": "code",
   "execution_count": 10,
   "id": "c9c2bf26",
   "metadata": {},
   "outputs": [
    {
     "data": {
      "text/plain": [
       "[('AAPL', 560518000), ('AAPL', 352965200)]"
      ]
     },
     "execution_count": 10,
     "metadata": {},
     "output_type": "execute_result"
    }
   ],
   "source": [
    "newRDD = result_1B.map(lambda x: (x[0],x[-1]))\n",
    "newRDD.take(2)"
   ]
  },
  {
   "cell_type": "markdown",
   "id": "b47b997e",
   "metadata": {},
   "source": [
    "**2b)** Using the RDD from 2a), what is the total volume for each stock symbol in the dataset? Show the results.\n",
    "\n",
    "Sample Output:\n",
    "<pre>\n",
    "[('INTC', 65334389200),\n",
    " ('AAPL', 409337906700),\n",
    " ('GOOG', 4626409870),\n",
    " ('MSFT', 73349882000),\n",
    " ('NFLX', 28981935000),\n",
    " ('NVDA', 98721855200)]\n",
    " \n",
    " </pre>"
   ]
  },
  {
   "cell_type": "code",
   "execution_count": 11,
   "id": "b4d444e2",
   "metadata": {},
   "outputs": [
    {
     "data": {
      "text/plain": [
       "[('INTC', 65334389200),\n",
       " ('AAPL', 409337906700),\n",
       " ('GOOG', 4626409870),\n",
       " ('MSFT', 73349882000),\n",
       " ('NFLX', 28981935000),\n",
       " ('NVDA', 98721855200)]"
      ]
     },
     "execution_count": 11,
     "metadata": {},
     "output_type": "execute_result"
    }
   ],
   "source": [
    "result_2B = newRDD.reduceByKey(lambda x,y: x+y)\n",
    "result_2B.take(6)"
   ]
  },
  {
   "cell_type": "markdown",
   "id": "85442c1d",
   "metadata": {},
   "source": [
    "**2c)** Show the above results in the sorted order based on the Stock symbol using Python *sorted* function on the previous results.\n",
    "\n"
   ]
  },
  {
   "cell_type": "code",
   "execution_count": 12,
   "id": "6056de75",
   "metadata": {},
   "outputs": [
    {
     "data": {
      "text/plain": [
       "[('AAPL', 409337906700),\n",
       " ('GOOG', 4626409870),\n",
       " ('INTC', 65334389200),\n",
       " ('MSFT', 73349882000),\n",
       " ('NFLX', 28981935000),\n",
       " ('NVDA', 98721855200)]"
      ]
     },
     "execution_count": 12,
     "metadata": {},
     "output_type": "execute_result"
    }
   ],
   "source": [
    "sorted(result_2B.take(6))"
   ]
  },
  {
   "cell_type": "markdown",
   "id": "61af4ee7",
   "metadata": {},
   "source": [
    "**2d)** Using Spark *sortBy* operation, sort the resulting RDD from 2b) in the descending order of trading value and show the results. \n"
   ]
  },
  {
   "cell_type": "code",
   "execution_count": 13,
   "id": "502be78b",
   "metadata": {},
   "outputs": [
    {
     "data": {
      "text/plain": [
       "[('AAPL', 409337906700),\n",
       " ('NVDA', 98721855200),\n",
       " ('MSFT', 73349882000),\n",
       " ('INTC', 65334389200),\n",
       " ('NFLX', 28981935000),\n",
       " ('GOOG', 4626409870)]"
      ]
     },
     "execution_count": 13,
     "metadata": {},
     "output_type": "execute_result"
    }
   ],
   "source": [
    "result_2D = result_2B.sortBy(lambda x: x[1], ascending=False)\n",
    "result_2D.take(6)"
   ]
  },
  {
   "cell_type": "markdown",
   "id": "8cbd623d",
   "metadata": {},
   "source": [
    "## Part 3 (10 points)"
   ]
  },
  {
   "cell_type": "markdown",
   "id": "0aed9588",
   "metadata": {},
   "source": [
    "**3a)** Map the data from 1b) to a new RDD with only the (Stock,[Open, Close]) data. Show the first two entries.\n",
    "\n",
    "Sample Output:\n",
    "<pre>\n",
    "[('AAPL', [19.78, 16.96]), ('AAPL', [19.57, 16.75])]\n",
    "</pre>"
   ]
  },
  {
   "cell_type": "code",
   "execution_count": 14,
   "id": "838c4e05",
   "metadata": {},
   "outputs": [
    {
     "data": {
      "text/plain": [
       "[('AAPL', [19.78, 16.96]), ('AAPL', [19.57, 16.75])]"
      ]
     },
     "execution_count": 14,
     "metadata": {},
     "output_type": "execute_result"
    }
   ],
   "source": [
    "result_3A = result_1B.map(lambda x: (x[0],[x[2],x[5]]))\n",
    "result_3A.take(2)"
   ]
  },
  {
   "cell_type": "markdown",
   "id": "20fe1d90",
   "metadata": {},
   "source": [
    "**3b)** Using the above RDD, for each stock, how many days over the entire dataset did that stock's closing price was above the opening price? Show the results in descreasing order as shown below. First map the RDD to (Stock, 1/0), i.e., 1 if the condition is true, 0 if false. Then, use reduceByKey followed by sortBy.\n",
    "\n",
    "Sample Output:\n",
    "<pre>\n",
    "[('GOOG', 1166),\n",
    " ('NFLX', 1125),\n",
    " ('NVDA', 525),\n",
    " ('AAPL', 202),\n",
    " ('MSFT', 153),\n",
    " ('INTC', 55)]\n",
    " </pre>"
   ]
  },
  {
   "cell_type": "code",
   "execution_count": 15,
   "id": "5c15fb93",
   "metadata": {},
   "outputs": [
    {
     "data": {
      "text/plain": [
       "[('GOOG', 1166),\n",
       " ('NFLX', 1125),\n",
       " ('NVDA', 525),\n",
       " ('AAPL', 202),\n",
       " ('MSFT', 153),\n",
       " ('INTC', 55)]"
      ]
     },
     "execution_count": 15,
     "metadata": {},
     "output_type": "execute_result"
    }
   ],
   "source": [
    "result_3B = result_3A.map(lambda x: (x[0], 1 if x[1][1]-x[1][0]>0 else 0 ) ).reduceByKey(lambda x,y: x+y).sortBy(lambda x: x[1], ascending=False)\n",
    "result_3B.take(6)"
   ]
  },
  {
   "cell_type": "markdown",
   "id": "a14d1314",
   "metadata": {},
   "source": [
    "## Part4 (10 points)"
   ]
  },
  {
   "cell_type": "markdown",
   "id": "ecda4aed",
   "metadata": {},
   "source": [
    "**4a)** Map the data from 1b) to a new RDD with only the (Stock,[High, Low]) data. Show the first two entries.\n",
    "\n",
    "Sample Output:\n",
    "<pre>\n",
    "[('AAPL', [19.82, 19.34]), ('AAPL', [19.63, 19.32])]\n",
    "</pre>"
   ]
  },
  {
   "cell_type": "code",
   "execution_count": 16,
   "id": "1e2abfeb",
   "metadata": {},
   "outputs": [
    {
     "data": {
      "text/plain": [
       "[('AAPL', [19.82, 19.34]), ('AAPL', [19.63, 19.32])]"
      ]
     },
     "execution_count": 16,
     "metadata": {},
     "output_type": "execute_result"
    }
   ],
   "source": [
    "result_4A = result_1B.map(lambda x: (x[0],[x[3],x[4]]))\n",
    "result_4A.take(2)"
   ]
  },
  {
   "cell_type": "markdown",
   "id": "70819fc8",
   "metadata": {},
   "source": [
    "**4b)** Using a single reduceByKey on the above RDD, for each stock, what is the largest High and the smallest Low price? Show the results in sorted order using Python *sorted* function.\n",
    "\n",
    "Sample Output:\n",
    "<pre>\n",
    "[('AAPL', (182.13, 13.75)),\n",
    " ('GOOG', (3037.0, 346.46)),\n",
    " ('INTC', (69.29, 20.1)),\n",
    " ('MSFT', (349.67, 26.28)),\n",
    " ('NFLX', (700.99, 12.96)),\n",
    " ('NVDA', (346.47, 2.98))]\n",
    " </pre>"
   ]
  },
  {
   "cell_type": "code",
   "execution_count": 17,
   "id": "d509d2fc",
   "metadata": {},
   "outputs": [
    {
     "data": {
      "text/plain": [
       "[('AAPL', (182.13, 13.75)),\n",
       " ('GOOG', (3037.0, 346.46)),\n",
       " ('INTC', (69.29, 20.1)),\n",
       " ('MSFT', (349.67, 26.28)),\n",
       " ('NFLX', (700.99, 12.96)),\n",
       " ('NVDA', (346.47, 2.98))]"
      ]
     },
     "execution_count": 17,
     "metadata": {},
     "output_type": "execute_result"
    }
   ],
   "source": [
    "result_4B = result_4A.reduceByKey(lambda x,y: (max(x[0],y[0]),min(x[1],y[1])))\n",
    "sorted(result_4B.take(6))"
   ]
  },
  {
   "cell_type": "markdown",
   "id": "ddf4945c",
   "metadata": {},
   "source": [
    "## Part5 (10 points)"
   ]
  },
  {
   "cell_type": "markdown",
   "id": "a74cacd5",
   "metadata": {},
   "source": [
    "**5a)** Map the data from 1b) to a new RDD with only the (Stock,[(High, Date), (Low, Date)]) data. Show the first two entries.\n",
    "\n",
    "Sample Output:\n",
    "<pre>\n",
    "[('AAPL', [(19.82, '2013-01-02'), (19.34, '2013-01-02')]),\n",
    " ('AAPL', [(19.63, '2013-01-03'), (19.32, '2013-01-03')])]\n",
    "</pre>"
   ]
  },
  {
   "cell_type": "code",
   "execution_count": 18,
   "id": "40bb085c",
   "metadata": {},
   "outputs": [
    {
     "data": {
      "text/plain": [
       "[('AAPL', [(19.82, '2013-01-02'), (19.34, '2013-01-02')]),\n",
       " ('AAPL', [(19.63, '2013-01-03'), (19.32, '2013-01-03')])]"
      ]
     },
     "execution_count": 18,
     "metadata": {},
     "output_type": "execute_result"
    }
   ],
   "source": [
    "result_5A = result_1B.map(lambda x: (x[0],[(x[3],x[1]),(x[4],x[1])]))\n",
    "result_5A.take(2)"
   ]
  },
  {
   "cell_type": "markdown",
   "id": "d3891394",
   "metadata": {},
   "source": [
    "**5b)** Using a single reduceByKey on the above RDD, for each stock, what is the largest High and the smallest Low price along with that respective date? Show the results in sorted order using Python *sorted* function.\n",
    "\n",
    "Sample Output:\n",
    "\n",
    "<pre>\n",
    "[('AAPL', [(182.13, '2021-12-13'), (13.75, '2013-04-19')]),\n",
    " ('GOOG', [(3037.0, '2021-11-19'), (346.46, '2013-01-22')]),\n",
    " ('INTC', [(69.29, '2020-01-24'), (20.1, '2013-02-22')]),\n",
    " ('MSFT', [(349.67, '2021-11-22'), (26.28, '2013-01-11')]),\n",
    " ('NFLX', [(700.99, '2021-11-17'), (12.96, '2013-01-02')]),\n",
    " ('NVDA', [(346.47, '2021-11-22'), (2.98, '2013-01-15')])]\n",
    " </pre>"
   ]
  },
  {
   "cell_type": "code",
   "execution_count": 19,
   "id": "260bb6e9",
   "metadata": {},
   "outputs": [
    {
     "data": {
      "text/plain": [
       "[('AAPL', [(182.13, '2021-12-13'), (13.75, '2013-04-19')]),\n",
       " ('GOOG', [(3037.0, '2021-11-19'), (346.46, '2013-01-22')]),\n",
       " ('INTC', [(69.29, '2020-01-24'), (20.1, '2013-02-22')]),\n",
       " ('MSFT', [(349.67, '2021-11-22'), (26.28, '2013-01-11')]),\n",
       " ('NFLX', [(700.99, '2021-11-17'), (12.96, '2013-01-02')]),\n",
       " ('NVDA', [(346.47, '2021-11-22'), (2.98, '2013-01-15')])]"
      ]
     },
     "execution_count": 19,
     "metadata": {},
     "output_type": "execute_result"
    }
   ],
   "source": [
    "result_5B = result_5A.reduceByKey(lambda x,y: [(max(x[0][0],y[0][0]), x[0][1] if x[0][0] > y[0][0] else y[0][1]),(min(x[1][0],y[1][0]), x[1][1] if x[1][0] < y[1][0] else y[1][1])])\n",
    "sorted(result_5B.take(6))"
   ]
  },
  {
   "cell_type": "markdown",
   "id": "25e0fdf5",
   "metadata": {},
   "source": [
    "## Part 6 (10 points)\n",
    " - The following will use (Stock, Year) as the key."
   ]
  },
  {
   "cell_type": "markdown",
   "id": "9ec9f877",
   "metadata": {},
   "source": [
    "**6a)** Map the data from 1b) to a new RDD with only the ((Stock, Year),Volume) data. Show the first two entries.\n",
    "\n",
    "Sample Output:\n",
    "<pre>\n",
    "[(('AAPL', '2013'), 560518000), (('AAPL', '2013'), 352965200)]\n",
    "</pre>\n",
    "\n"
   ]
  },
  {
   "cell_type": "code",
   "execution_count": 20,
   "id": "e70a2216",
   "metadata": {},
   "outputs": [
    {
     "data": {
      "text/plain": [
       "[(('AAPL', '2013'), 560518000), (('AAPL', '2013'), 352965200)]"
      ]
     },
     "execution_count": 20,
     "metadata": {},
     "output_type": "execute_result"
    }
   ],
   "source": [
    "result_6A = result_1B.map(lambda x: ( (x[0],x[1][0:4]), x[6] ))\n",
    "result_6A.take(2)"
   ]
  },
  {
   "cell_type": "markdown",
   "id": "0d518a6d",
   "metadata": {},
   "source": [
    "**6b)** Using the RDD from 6a), what is the total volume for each stock symbol per each year  in the dataset? Show the results using Python *sorted* function.\n",
    "\n",
    "Sample Output:\n",
    "<pre>\n",
    "[(('AAPL', '2013'), 102421569600),\n",
    " (('AAPL', '2014'), 63657952400),\n",
    " (('AAPL', '2015'), 52264199600),\n",
    " (('AAPL', '2016'), 38729911200),\n",
    " (('AAPL', '2017'), 27243106000),\n",
    " (('AAPL', '2018'), 34156144800),\n",
    " (('AAPL', '2019'), 28254942800),\n",
    " (('AAPL', '2020'), 39863855600),\n",
    " (('AAPL', '2021'), 22746224700),\n",
    " (('GOOG', '2013'), 1055993341),\n",
    " (('GOOG', '2014'), 626749011),\n",
    " (('GOOG', '2015'), 521501318),\n",
    " (('GOOG', '2016'), 461731000),\n",
    " (('GOOG', '2017'), 370605100),\n",
    " (('GOOG', '2018'), 437233300),\n",
    " (('GOOG', '2019'), 356294900),\n",
    " (('GOOG', '2020'), 478595100),\n",
    " (('GOOG', '2021'), 317706800),\n",
    " (('INTC', '2013'), 9856167600),\n",
    " (('INTC', '2014'), 7965304500),\n",
    " (('INTC', '2015'), 7633745600),\n",
    " (('INTC', '2016'), 5763208600),\n",
    " (('INTC', '2017'), 5999715600),\n",
    " (('INTC', '2018'), 7379750000),\n",
    " (('INTC', '2019'), 5519974300),\n",
    " (('INTC', '2020'), 7989672500),\n",
    " (('INTC', '2021'), 7226850500),\n",
    " (('MSFT', '2013'), 12251098000),\n",
    " (('MSFT', '2014'), 8399600600),\n",
    " (('MSFT', '2015'), 9059455900),\n",
    " (('MSFT', '2016'), 7819726800),\n",
    " (('MSFT', '2017'), 5631478600),\n",
    " (('MSFT', '2018'), 7929137400),\n",
    " (('MSFT', '2019'), 6194410500),\n",
    " (('MSFT', '2020'), 9527876900),\n",
    " (('MSFT', '2021'), 6537097300),\n",
    " (('NFLX', '2013'), 6915790700),\n",
    " (('NFLX', '2014'), 4898415200),\n",
    " (('NFLX', '2015'), 4681123800),\n",
    " (('NFLX', '2016'), 3234743600),\n",
    " (('NFLX', '2017'), 1654091200),\n",
    " (('NFLX', '2018'), 2878875800),\n",
    " (('NFLX', '2019'), 1980147700),\n",
    " (('NFLX', '2020'), 1754276900),\n",
    " (('NFLX', '2021'), 984470100),\n",
    " (('NVDA', '2013'), 8914737600),\n",
    " (('NVDA', '2014'), 7155693600),\n",
    " (('NVDA', '2015'), 7818756400),\n",
    " (('NVDA', '2016'), 11159860400),\n",
    " (('NVDA', '2017'), 17215246800),\n",
    " (('NVDA', '2018'), 13756960800),\n",
    " (('NVDA', '2019'), 11501271600),\n",
    " (('NVDA', '2020'), 12165638000),\n",
    " (('NVDA', '2021'), 9033690000)]\n",
    " </pre>"
   ]
  },
  {
   "cell_type": "code",
   "execution_count": 21,
   "id": "9fb92a2f",
   "metadata": {},
   "outputs": [
    {
     "data": {
      "text/plain": [
       "[(('AAPL', '2013'), 102421569600),\n",
       " (('AAPL', '2014'), 63657952400),\n",
       " (('AAPL', '2015'), 52264199600),\n",
       " (('AAPL', '2016'), 38729911200),\n",
       " (('AAPL', '2017'), 27243106000),\n",
       " (('AAPL', '2018'), 34156144800),\n",
       " (('AAPL', '2019'), 28254942800),\n",
       " (('AAPL', '2020'), 39863855600),\n",
       " (('AAPL', '2021'), 22746224700),\n",
       " (('GOOG', '2013'), 1055993341),\n",
       " (('GOOG', '2014'), 626749011),\n",
       " (('GOOG', '2015'), 521501318),\n",
       " (('GOOG', '2016'), 461731000),\n",
       " (('GOOG', '2017'), 370605100),\n",
       " (('GOOG', '2018'), 437233300),\n",
       " (('GOOG', '2019'), 356294900),\n",
       " (('GOOG', '2020'), 478595100),\n",
       " (('GOOG', '2021'), 317706800),\n",
       " (('INTC', '2013'), 9856167600),\n",
       " (('INTC', '2014'), 7965304500),\n",
       " (('INTC', '2015'), 7633745600),\n",
       " (('INTC', '2016'), 5763208600),\n",
       " (('INTC', '2017'), 5999715600),\n",
       " (('INTC', '2018'), 7379750000),\n",
       " (('INTC', '2019'), 5519974300),\n",
       " (('INTC', '2020'), 7989672500),\n",
       " (('INTC', '2021'), 7226850500),\n",
       " (('MSFT', '2013'), 12251098000),\n",
       " (('MSFT', '2014'), 8399600600),\n",
       " (('MSFT', '2015'), 9059455900),\n",
       " (('MSFT', '2016'), 7819726800),\n",
       " (('MSFT', '2017'), 5631478600),\n",
       " (('MSFT', '2018'), 7929137400),\n",
       " (('MSFT', '2019'), 6194410500),\n",
       " (('MSFT', '2020'), 9527876900),\n",
       " (('MSFT', '2021'), 6537097300),\n",
       " (('NFLX', '2013'), 6915790700),\n",
       " (('NFLX', '2014'), 4898415200),\n",
       " (('NFLX', '2015'), 4681123800),\n",
       " (('NFLX', '2016'), 3234743600),\n",
       " (('NFLX', '2017'), 1654091200),\n",
       " (('NFLX', '2018'), 2878875800),\n",
       " (('NFLX', '2019'), 1980147700),\n",
       " (('NFLX', '2020'), 1754276900),\n",
       " (('NFLX', '2021'), 984470100),\n",
       " (('NVDA', '2013'), 8914737600),\n",
       " (('NVDA', '2014'), 7155693600),\n",
       " (('NVDA', '2015'), 7818756400),\n",
       " (('NVDA', '2016'), 11159860400),\n",
       " (('NVDA', '2017'), 17215246800),\n",
       " (('NVDA', '2018'), 13756960800),\n",
       " (('NVDA', '2019'), 11501271600),\n",
       " (('NVDA', '2020'), 12165638000),\n",
       " (('NVDA', '2021'), 9033690000)]"
      ]
     },
     "execution_count": 21,
     "metadata": {},
     "output_type": "execute_result"
    }
   ],
   "source": [
    "result_6B = result_6A.reduceByKey(lambda x,y: x+y)\n",
    "sorted(result_6B.collect())"
   ]
  },
  {
   "cell_type": "markdown",
   "id": "fd14cfaf",
   "metadata": {},
   "source": [
    "## Part7 (20 points)"
   ]
  },
  {
   "cell_type": "markdown",
   "id": "958b2907",
   "metadata": {},
   "source": [
    "**7a)** Map the data from 1b) to a new RDD with only the ((Stock, Year), [High, Low]) data. Show the first two entries.\n",
    "\n",
    "Sample Output:\n",
    "<pre>\n",
    "[(('AAPL', '2013'), [19.82, 19.34]), (('AAPL', '2013'), [19.63, 19.32])]\n",
    "</pre>"
   ]
  },
  {
   "cell_type": "code",
   "execution_count": 22,
   "id": "32cbc551",
   "metadata": {},
   "outputs": [
    {
     "data": {
      "text/plain": [
       "[(('AAPL', '2013'), [19.82, 19.34]), (('AAPL', '2013'), [19.63, 19.32])]"
      ]
     },
     "execution_count": 22,
     "metadata": {},
     "output_type": "execute_result"
    }
   ],
   "source": [
    "result_7A = result_1B.map(lambda x: ( (x[0],x[1][0:4]), [x[3],x[4]] ))\n",
    "result_7A.take(2)"
   ]
  },
  {
   "cell_type": "markdown",
   "id": "49ca625f",
   "metadata": {},
   "source": [
    "**7b)** Using a single reduceByKey on the above RDD, for each stock per each year, what is the largest High and the smallest Low price? Show the results in sorted order using Python *sorted* function.\n",
    "\n",
    "Sample Output:\n",
    "<pre>\n",
    "[(('AAPL', '2013'), (20.54, 13.75)),\n",
    " (('AAPL', '2014'), (29.94, 17.63)),\n",
    " (('AAPL', '2015'), (33.63, 23.0)),\n",
    " (('AAPL', '2016'), (29.67, 22.37)),\n",
    " (('AAPL', '2017'), (44.3, 28.69)),\n",
    " (('AAPL', '2018'), (58.37, 36.65)),\n",
    " (('AAPL', '2019'), (73.49, 35.5)),\n",
    " (('AAPL', '2020'), (138.79, 53.15)),\n",
    " (('AAPL', '2021'), (182.13, 116.21)),\n",
    " (('GOOG', '2013'), (558.41, 346.46)),\n",
    " (('GOOG', '2014'), (612.15, 487.66)),\n",
    " (('GOOG', '2015'), (779.98, 486.23)),\n",
    " (('GOOG', '2016'), (816.68, 663.06)),\n",
    " (('GOOG', '2017'), (1078.49, 775.8)),\n",
    " (('GOOG', '2018'), (1273.89, 970.11)),\n",
    " (('GOOG', '2019'), (1365.0, 1014.07)),\n",
    " (('GOOG', '2020'), (1847.2, 1013.54)),\n",
    " (('GOOG', '2021'), (3037.0, 1699.0)),\n",
    " (('INTC', '2013'), (26.04, 20.1)),\n",
    " (('INTC', '2014'), (37.9, 23.5)),\n",
    " (('INTC', '2015'), (37.49, 24.87)),\n",
    " (('INTC', '2016'), (38.36, 27.68)),\n",
    " (('INTC', '2017'), (47.64, 33.23)),\n",
    " (('INTC', '2018'), (57.6, 42.04)),\n",
    " (('INTC', '2019'), (60.48, 42.86)),\n",
    " (('INTC', '2020'), (69.29, 43.61)),\n",
    " (('INTC', '2021'), (68.49, 47.87)),\n",
    " (('MSFT', '2013'), (38.98, 26.28)),\n",
    " (('MSFT', '2014'), (50.05, 34.63)),\n",
    " (('MSFT', '2015'), (56.85, 39.72)),\n",
    " (('MSFT', '2016'), (64.1, 48.04)),\n",
    " (('MSFT', '2017'), (87.5, 61.95)),\n",
    " (('MSFT', '2018'), (116.18, 83.83)),\n",
    " (('MSFT', '2019'), (159.55, 97.2)),\n",
    " (('MSFT', '2020'), (232.86, 132.52)),\n",
    " (('MSFT', '2021'), (349.67, 211.94)),\n",
    " (('NFLX', '2013'), (55.59, 12.96)),\n",
    " (('NFLX', '2014'), (69.9, 42.79)),\n",
    " (('NFLX', '2015'), (133.27, 45.26)),\n",
    " (('NFLX', '2016'), (129.29, 79.95)),\n",
    " (('NFLX', '2017'), (204.38, 124.31)),\n",
    " (('NFLX', '2018'), (423.21, 195.42)),\n",
    " (('NFLX', '2019'), (385.99, 252.28)),\n",
    " (('NFLX', '2020'), (575.37, 290.25)),\n",
    " (('NFLX', '2021'), (700.99, 478.54)),\n",
    " (('NVDA', '2013'), (4.08, 2.98)),\n",
    " (('NVDA', '2014'), (5.31, 3.83)),\n",
    " (('NVDA', '2015'), (8.48, 4.74)),\n",
    " (('NVDA', '2016'), (29.98, 6.19)),\n",
    " (('NVDA', '2017'), (54.67, 23.79)),\n",
    " (('NVDA', '2018'), (73.19, 31.11)),\n",
    " (('NVDA', '2019'), (60.45, 31.92)),\n",
    " (('NVDA', '2020'), (147.27, 45.17)),\n",
    " (('NVDA', '2021'), (346.47, 115.67))]\n",
    " </pre>"
   ]
  },
  {
   "cell_type": "code",
   "execution_count": 23,
   "id": "a3ce3370",
   "metadata": {},
   "outputs": [
    {
     "data": {
      "text/plain": [
       "[(('AAPL', '2013'), (20.54, 13.75)),\n",
       " (('AAPL', '2014'), (29.94, 17.63)),\n",
       " (('AAPL', '2015'), (33.63, 23.0)),\n",
       " (('AAPL', '2016'), (29.67, 22.37)),\n",
       " (('AAPL', '2017'), (44.3, 28.69)),\n",
       " (('AAPL', '2018'), (58.37, 36.65)),\n",
       " (('AAPL', '2019'), (73.49, 35.5)),\n",
       " (('AAPL', '2020'), (138.79, 53.15)),\n",
       " (('AAPL', '2021'), (182.13, 116.21)),\n",
       " (('GOOG', '2013'), (558.41, 346.46)),\n",
       " (('GOOG', '2014'), (612.15, 487.66)),\n",
       " (('GOOG', '2015'), (779.98, 486.23)),\n",
       " (('GOOG', '2016'), (816.68, 663.06)),\n",
       " (('GOOG', '2017'), (1078.49, 775.8)),\n",
       " (('GOOG', '2018'), (1273.89, 970.11)),\n",
       " (('GOOG', '2019'), (1365.0, 1014.07)),\n",
       " (('GOOG', '2020'), (1847.2, 1013.54)),\n",
       " (('GOOG', '2021'), (3037.0, 1699.0)),\n",
       " (('INTC', '2013'), (26.04, 20.1)),\n",
       " (('INTC', '2014'), (37.9, 23.5)),\n",
       " (('INTC', '2015'), (37.49, 24.87)),\n",
       " (('INTC', '2016'), (38.36, 27.68)),\n",
       " (('INTC', '2017'), (47.64, 33.23)),\n",
       " (('INTC', '2018'), (57.6, 42.04)),\n",
       " (('INTC', '2019'), (60.48, 42.86)),\n",
       " (('INTC', '2020'), (69.29, 43.61)),\n",
       " (('INTC', '2021'), (68.49, 47.87)),\n",
       " (('MSFT', '2013'), (38.98, 26.28)),\n",
       " (('MSFT', '2014'), (50.05, 34.63)),\n",
       " (('MSFT', '2015'), (56.85, 39.72)),\n",
       " (('MSFT', '2016'), (64.1, 48.04)),\n",
       " (('MSFT', '2017'), (87.5, 61.95)),\n",
       " (('MSFT', '2018'), (116.18, 83.83)),\n",
       " (('MSFT', '2019'), (159.55, 97.2)),\n",
       " (('MSFT', '2020'), (232.86, 132.52)),\n",
       " (('MSFT', '2021'), (349.67, 211.94)),\n",
       " (('NFLX', '2013'), (55.59, 12.96)),\n",
       " (('NFLX', '2014'), (69.9, 42.79)),\n",
       " (('NFLX', '2015'), (133.27, 45.26)),\n",
       " (('NFLX', '2016'), (129.29, 79.95)),\n",
       " (('NFLX', '2017'), (204.38, 124.31)),\n",
       " (('NFLX', '2018'), (423.21, 195.42)),\n",
       " (('NFLX', '2019'), (385.99, 252.28)),\n",
       " (('NFLX', '2020'), (575.37, 290.25)),\n",
       " (('NFLX', '2021'), (700.99, 478.54)),\n",
       " (('NVDA', '2013'), (4.08, 2.98)),\n",
       " (('NVDA', '2014'), (5.31, 3.83)),\n",
       " (('NVDA', '2015'), (8.48, 4.74)),\n",
       " (('NVDA', '2016'), (29.98, 6.19)),\n",
       " (('NVDA', '2017'), (54.67, 23.79)),\n",
       " (('NVDA', '2018'), (73.19, 31.11)),\n",
       " (('NVDA', '2019'), (60.45, 31.92)),\n",
       " (('NVDA', '2020'), (147.27, 45.17)),\n",
       " (('NVDA', '2021'), (346.47, 115.67))]"
      ]
     },
     "execution_count": 23,
     "metadata": {},
     "output_type": "execute_result"
    }
   ],
   "source": [
    "result_7B = result_7A.reduceByKey(lambda x,y: (max(x[0],y[0]),min(x[1],y[1])))\n",
    "sorted(result_7B.collect())"
   ]
  },
  {
   "cell_type": "markdown",
   "id": "fed869b9",
   "metadata": {},
   "source": [
    "**7c)** For the above problem, show the dates for the largest High and the smallest Low for each stock per each year."
   ]
  },
  {
   "cell_type": "code",
   "execution_count": 24,
   "id": "93f49763",
   "metadata": {},
   "outputs": [
    {
     "data": {
      "text/plain": [
       "[(('AAPL', '2013'), ((20.54, '2013-12-05'), (13.75, '2013-04-19'))),\n",
       " (('AAPL', '2014'), ((29.94, '2014-11-25'), (17.63, '2014-01-31'))),\n",
       " (('AAPL', '2015'), ((33.63, '2015-04-28'), (23.0, '2015-08-24'))),\n",
       " (('AAPL', '2016'), ((29.67, '2016-10-11'), (22.37, '2016-05-12'))),\n",
       " (('AAPL', '2017'), ((44.3, '2017-12-18'), (28.69, '2017-01-03'))),\n",
       " (('AAPL', '2018'), ((58.37, '2018-10-03'), (36.65, '2018-12-24'))),\n",
       " (('AAPL', '2019'), ((73.49, '2019-12-27'), (35.5, '2019-01-03'))),\n",
       " (('AAPL', '2020'), ((138.79, '2020-12-29'), (53.15, '2020-03-23'))),\n",
       " (('AAPL', '2021'), ((182.13, '2021-12-13'), (116.21, '2021-03-08'))),\n",
       " (('GOOG', '2013'), ((558.41, '2013-12-31'), (346.46, '2013-01-22'))),\n",
       " (('GOOG', '2014'), ((612.15, '2014-02-26'), (487.66, '2014-12-16'))),\n",
       " (('GOOG', '2015'), ((779.98, '2015-12-29'), (486.23, '2015-01-12'))),\n",
       " (('GOOG', '2016'), ((816.68, '2016-10-25'), (663.06, '2016-02-08'))),\n",
       " (('GOOG', '2017'), ((1078.49, '2017-12-18'), (775.8, '2017-01-03'))),\n",
       " (('GOOG', '2018'), ((1273.89, '2018-07-27'), (970.11, '2018-12-24'))),\n",
       " (('GOOG', '2019'), ((1365.0, '2019-12-17'), (1014.07, '2019-01-03'))),\n",
       " (('GOOG', '2020'), ((1847.2, '2020-12-03'), (1013.54, '2020-03-23'))),\n",
       " (('GOOG', '2021'), ((3037.0, '2021-11-19'), (1699.0, '2021-01-06'))),\n",
       " (('INTC', '2013'), ((26.04, '2013-12-31'), (20.1, '2013-02-22'))),\n",
       " (('INTC', '2014'), ((37.9, '2014-12-05'), (23.5, '2014-02-05'))),\n",
       " (('INTC', '2015'), ((37.49, '2015-01-13'), (24.87, '2015-08-24'))),\n",
       " (('INTC', '2016'), ((38.36, '2016-10-10'), (27.68, '2016-02-11'))),\n",
       " (('INTC', '2017'), ((47.64, '2017-12-20'), (33.23, '2017-07-10'))),\n",
       " (('INTC', '2018'), ((57.6, '2018-06-04'), (42.04, '2018-02-09'))),\n",
       " (('INTC', '2019'), ((60.48, '2019-12-27'), (42.86, '2019-05-23'))),\n",
       " (('INTC', '2020'), ((69.29, '2020-01-24'), (43.61, '2020-10-30'))),\n",
       " (('INTC', '2021'), ((68.49, '2021-04-12'), (47.87, '2021-10-27'))),\n",
       " (('MSFT', '2013'), ((38.98, '2013-12-04'), (26.28, '2013-01-11'))),\n",
       " (('MSFT', '2014'), ((50.05, '2014-11-14'), (34.63, '2014-01-14'))),\n",
       " (('MSFT', '2015'), ((56.85, '2015-12-29'), (39.72, '2015-08-24'))),\n",
       " (('MSFT', '2016'), ((64.1, '2016-12-22'), (48.04, '2016-06-27'))),\n",
       " (('MSFT', '2017'), ((87.5, '2017-12-18'), (61.95, '2017-01-12'))),\n",
       " (('MSFT', '2018'), ((116.18, '2018-10-03'), (83.83, '2018-02-09'))),\n",
       " (('MSFT', '2019'), ((159.55, '2019-12-27'), (97.2, '2019-01-03'))),\n",
       " (('MSFT', '2020'), ((232.86, '2020-09-02'), (132.52, '2020-03-23'))),\n",
       " (('MSFT', '2021'), ((349.67, '2021-11-22'), (211.94, '2021-01-06'))),\n",
       " (('NFLX', '2013'), ((55.59, '2013-10-22'), (12.96, '2013-01-02'))),\n",
       " (('NFLX', '2014'), ((69.9, '2014-09-09'), (42.79, '2014-04-28'))),\n",
       " (('NFLX', '2015'), ((133.27, '2015-12-07'), (45.26, '2015-01-12'))),\n",
       " (('NFLX', '2016'), ((129.29, '2016-10-24'), (79.95, '2016-02-08'))),\n",
       " (('NFLX', '2017'), ((204.38, '2017-10-17'), (124.31, '2017-01-03'))),\n",
       " (('NFLX', '2018'), ((423.21, '2018-06-21'), (195.42, '2018-01-02'))),\n",
       " (('NFLX', '2019'), ((385.99, '2019-05-01'), (252.28, '2019-09-24'))),\n",
       " (('NFLX', '2020'), ((575.37, '2020-07-13'), (290.25, '2020-03-17'))),\n",
       " (('NFLX', '2021'), ((700.99, '2021-11-17'), (478.54, '2021-05-19'))),\n",
       " (('NVDA', '2013'), ((4.08, '2013-11-15'), (2.98, '2013-01-15'))),\n",
       " (('NVDA', '2014'), ((5.31, '2014-12-08'), (3.83, '2014-02-05'))),\n",
       " (('NVDA', '2015'), ((8.48, '2015-12-30'), (4.74, '2015-02-02'))),\n",
       " (('NVDA', '2016'), ((29.98, '2016-12-28'), (6.19, '2016-02-12'))),\n",
       " (('NVDA', '2017'), ((54.67, '2017-11-10'), (23.79, '2017-03-06'))),\n",
       " (('NVDA', '2018'), ((73.19, '2018-10-02'), (31.11, '2018-12-26'))),\n",
       " (('NVDA', '2019'), ((60.45, '2019-12-23'), (31.92, '2019-01-03'))),\n",
       " (('NVDA', '2020'), ((147.27, '2020-09-02'), (45.17, '2020-03-18'))),\n",
       " (('NVDA', '2021'), ((346.47, '2021-11-22'), (115.67, '2021-03-08')))]"
      ]
     },
     "execution_count": 24,
     "metadata": {},
     "output_type": "execute_result"
    }
   ],
   "source": [
    "result_7C_1 = result_1B.map(lambda x: ( (x[0],x[1][0:4]), [x[3],x[1]] )).reduceByKey(lambda x,y: (max(x[0],y[0]),x[1] if x[0]>y[0] else y[1]))\n",
    "result_7C_2 = result_1B.map(lambda x: ( (x[0],x[1][0:4]), [x[4],x[1]] )).reduceByKey(lambda x,y: (min(x[0],y[0]),x[1] if x[0]<y[0] else y[1]))\n",
    "result_7C = result_7C_1.join(result_7C_2)\n",
    "sorted(result_7C.collect())\n"
   ]
  },
  {
   "cell_type": "markdown",
   "id": "8b0b87ee",
   "metadata": {},
   "source": [
    "### Part 8 (20 points)"
   ]
  },
  {
   "cell_type": "markdown",
   "id": "a9efca95",
   "metadata": {},
   "source": [
    "**8a)** Filter the dataset for Google (GOOG) and map to a new RDD with the following structure:\n",
    "\n",
    "(Date, [Stock, Open, Close, net_percent_change])\n",
    "\n",
    "Show the first 4 entries.\n",
    "\n",
    "Sample Output:\n",
    "<pre>\n",
    "[('2013-01-02', ['GOOG', 358.37, 360.27, 0.53]),\n",
    " ('2013-01-03', ['GOOG', 361.11, 360.48, -0.17]),\n",
    " ('2013-01-04', ['GOOG', 363.31, 367.61, 1.18]),\n",
    " ('2013-01-07', ['GOOG', 366.35, 366.0, -0.1])]\n",
    " </pre>"
   ]
  },
  {
   "cell_type": "code",
   "execution_count": 25,
   "id": "39fa2dc5",
   "metadata": {},
   "outputs": [
    {
     "data": {
      "text/plain": [
       "[('2013-01-02', ['GOOG', 358.37, 360.27, 0.53]),\n",
       " ('2013-01-03', ['GOOG', 361.11, 360.48, -0.17]),\n",
       " ('2013-01-04', ['GOOG', 363.31, 367.61, 1.18]),\n",
       " ('2013-01-07', ['GOOG', 366.35, 366.0, -0.1])]"
      ]
     },
     "execution_count": 25,
     "metadata": {},
     "output_type": "execute_result"
    }
   ],
   "source": [
    "result_8A = result_1B.filter(lambda x: x[0]=='GOOG').map(lambda x: (x[1], [x[0],x[2],x[5],round((x[5]-x[2])/x[2]*100,2)]))\n",
    "result_8A.take(4)"
   ]
  },
  {
   "cell_type": "markdown",
   "id": "15da33f5",
   "metadata": {},
   "source": [
    "**8b)** Filter the dataset for Netflix (NFLX) and map to a new RDD with the following structure:\n",
    "\n",
    "(Date, [Stock, Open, Close, net_percent_change])\n",
    "\n",
    "Show the first 4 entries.\n",
    "\n",
    "<pre>\n",
    "[('2013-01-02', ['NFLX', 13.6, 13.14, -3.38]),\n",
    " ('2013-01-03', ['NFLX', 13.14, 13.8, 5.02]),\n",
    " ('2013-01-04', ['NFLX', 13.79, 13.71, -0.58]),\n",
    " ('2013-01-07', ['NFLX', 13.77, 14.17, 2.9])]\n",
    " </pre>"
   ]
  },
  {
   "cell_type": "code",
   "execution_count": 26,
   "id": "f4c38e26",
   "metadata": {},
   "outputs": [
    {
     "data": {
      "text/plain": [
       "[('2013-01-02', ['NFLX', 13.6, 13.14, -3.38]),\n",
       " ('2013-01-03', ['NFLX', 13.14, 13.8, 5.02]),\n",
       " ('2013-01-04', ['NFLX', 13.79, 13.71, -0.58]),\n",
       " ('2013-01-07', ['NFLX', 13.77, 14.17, 2.9])]"
      ]
     },
     "execution_count": 26,
     "metadata": {},
     "output_type": "execute_result"
    }
   ],
   "source": [
    "result_8B = result_1B.filter(lambda x: x[0]=='NFLX').map(lambda x: (x[1], [x[0],x[2],x[5],round((x[5]-x[2])/x[2]*100,2)]))\n",
    "result_8B.take(4)"
   ]
  },
  {
   "cell_type": "markdown",
   "id": "9483d4fe",
   "metadata": {},
   "source": [
    "**8c)** Create a new RDD by joining the Google RDD with Netflix RDD.\n",
    "Show the first 4 entries using *takeOrdered* action.\n",
    "\n",
    "Sample Output:\n",
    "<pre>\n",
    "[('2013-01-02',\n",
    "  (['GOOG', 358.37, 360.27, 0.53], ['NFLX', 13.6, 13.14, -3.38])),\n",
    " ('2013-01-03',\n",
    "  (['GOOG', 361.11, 360.48, -0.17], ['NFLX', 13.14, 13.8, 5.02])),\n",
    " ('2013-01-04',\n",
    "  (['GOOG', 363.31, 367.61, 1.18], ['NFLX', 13.79, 13.71, -0.58])),\n",
    " ('2013-01-07', (['GOOG', 366.35, 366.0, -0.1], ['NFLX', 13.77, 14.17, 2.9]))]\n",
    "</pre>\n"
   ]
  },
  {
   "cell_type": "code",
   "execution_count": 27,
   "id": "70823e10",
   "metadata": {},
   "outputs": [
    {
     "data": {
      "text/plain": [
       "[('2013-01-02',\n",
       "  (['GOOG', 358.37, 360.27, 0.53], ['NFLX', 13.6, 13.14, -3.38])),\n",
       " ('2013-01-03',\n",
       "  (['GOOG', 361.11, 360.48, -0.17], ['NFLX', 13.14, 13.8, 5.02])),\n",
       " ('2013-01-04',\n",
       "  (['GOOG', 363.31, 367.61, 1.18], ['NFLX', 13.79, 13.71, -0.58])),\n",
       " ('2013-01-07', (['GOOG', 366.35, 366.0, -0.1], ['NFLX', 13.77, 14.17, 2.9]))]"
      ]
     },
     "execution_count": 27,
     "metadata": {},
     "output_type": "execute_result"
    }
   ],
   "source": [
    "result_8C = result_8A.join(result_8B)\n",
    "result_8C.takeOrdered(4)"
   ]
  },
  {
   "cell_type": "markdown",
   "id": "97f8abea",
   "metadata": {},
   "source": [
    "**8d)** Map the above RDD to keep only the entry with the larger net percent change between the two stocks for each date.\n",
    "Show the first 4 entries using takeOrdered action.\n",
    "\n",
    "Sample Output:\n",
    "<pre>\n",
    "[('2013-01-02', ['GOOG', 358.37, 360.27, 0.53]),\n",
    " ('2013-01-03', ['NFLX', 13.14, 13.8, 5.02]),\n",
    " ('2013-01-04', ['GOOG', 363.31, 367.61, 1.18]),\n",
    " ('2013-01-07', ['NFLX', 13.77, 14.17, 2.9])]\n",
    " </pre>"
   ]
  },
  {
   "cell_type": "code",
   "execution_count": 28,
   "id": "5ba29d34",
   "metadata": {},
   "outputs": [
    {
     "data": {
      "text/plain": [
       "[('2013-01-02', ['GOOG', 358.37, 360.27, 0.53]),\n",
       " ('2013-01-03', ['NFLX', 13.14, 13.8, 5.02]),\n",
       " ('2013-01-04', ['GOOG', 363.31, 367.61, 1.18]),\n",
       " ('2013-01-07', ['NFLX', 13.77, 14.17, 2.9])]"
      ]
     },
     "execution_count": 28,
     "metadata": {},
     "output_type": "execute_result"
    }
   ],
   "source": [
    "result_8D = result_8C.map(lambda x: (x[0],x[1][0] if x[1][0][3] > x[1][1][3] else x[1][1] ))\n",
    "result_8D.takeOrdered(4)"
   ]
  },
  {
   "cell_type": "markdown",
   "id": "95b02f96",
   "metadata": {},
   "source": [
    "**8e**) Map the above RDD to the following RDD structure.\n",
    "\n",
    "((Year, Stock), net_percent_change)\n",
    "\n",
    "Show the results using takeSample(False, 10, seed=123) action.\n",
    "\n",
    "Sample Output:\n",
    "<pre>\n",
    "[(('2013', 'NFLX'), 4.64),\n",
    " (('2016', 'NFLX'), 2.05),\n",
    " (('2019', 'NFLX'), -0.46),\n",
    " (('2014', 'NFLX'), 0.16),\n",
    " (('2019', 'NFLX'), 0.51),\n",
    " (('2020', 'NFLX'), 1.73),\n",
    " (('2018', 'GOOG'), -0.43),\n",
    " (('2018', 'GOOG'), 0.5),\n",
    " (('2013', 'GOOG'), 0.04),\n",
    " (('2015', 'GOOG'), 0.02)]\n",
    " </pre>"
   ]
  },
  {
   "cell_type": "code",
   "execution_count": 29,
   "id": "cff55c7d",
   "metadata": {},
   "outputs": [
    {
     "data": {
      "text/plain": [
       "[(('2013', 'NFLX'), 4.64),\n",
       " (('2016', 'NFLX'), 2.05),\n",
       " (('2019', 'NFLX'), -0.46),\n",
       " (('2014', 'NFLX'), 0.16),\n",
       " (('2019', 'NFLX'), 0.51),\n",
       " (('2020', 'NFLX'), 1.73),\n",
       " (('2018', 'GOOG'), -0.43),\n",
       " (('2018', 'GOOG'), 0.5),\n",
       " (('2013', 'GOOG'), 0.04),\n",
       " (('2015', 'GOOG'), 0.02)]"
      ]
     },
     "execution_count": 29,
     "metadata": {},
     "output_type": "execute_result"
    }
   ],
   "source": [
    "result_8e = result_8D.map(lambda x: ((x[0][:4],x[1][0]),x[1][3]))\n",
    "result_8e.takeSample(False,10,seed=123)"
   ]
  },
  {
   "cell_type": "markdown",
   "id": "5d684908",
   "metadata": {},
   "source": [
    "**8f)** For the above RDD, show the sum of the net_percent_change values for each Stock per each year. Use Python *sorted* function to show the results.\n",
    "\n",
    "Sample Output:\n",
    "<pre>\n",
    "[(('2013', 'GOOG'), 26.02),\n",
    " (('2013', 'NFLX'), 241.04999999999998),\n",
    " (('2014', 'GOOG'), -4.030000000000002),\n",
    " (('2014', 'NFLX'), 141.55000000000004),\n",
    " (('2015', 'GOOG'), 30.110000000000003),\n",
    " (('2015', 'NFLX'), 185.94000000000003),\n",
    " (('2016', 'GOOG'), 0.7200000000000029),\n",
    " (('2016', 'NFLX'), 168.39999999999998),\n",
    " (('2017', 'GOOG'), 17.07),\n",
    " (('2017', 'NFLX'), 109.73000000000002),\n",
    " (('2018', 'GOOG'), -8.899999999999999),\n",
    " (('2018', 'NFLX'), 190.29000000000002),\n",
    " (('2019', 'GOOG'), 31.82),\n",
    " (('2019', 'NFLX'), 139.82999999999998),\n",
    " (('2020', 'GOOG'), 70.9),\n",
    " (('2020', 'NFLX'), 167.45),\n",
    " (('2021', 'GOOG'), 46.09),\n",
    " (('2021', 'NFLX'), 99.57)]\n",
    " </pre>"
   ]
  },
  {
   "cell_type": "code",
   "execution_count": 30,
   "id": "87d785aa",
   "metadata": {},
   "outputs": [
    {
     "data": {
      "text/plain": [
       "[(('2013', 'GOOG'), 26.02),\n",
       " (('2013', 'NFLX'), 241.04999999999998),\n",
       " (('2014', 'GOOG'), -4.030000000000002),\n",
       " (('2014', 'NFLX'), 141.55000000000004),\n",
       " (('2015', 'GOOG'), 30.110000000000003),\n",
       " (('2015', 'NFLX'), 185.94000000000003),\n",
       " (('2016', 'GOOG'), 0.7200000000000029),\n",
       " (('2016', 'NFLX'), 168.39999999999998),\n",
       " (('2017', 'GOOG'), 17.07),\n",
       " (('2017', 'NFLX'), 109.73000000000002),\n",
       " (('2018', 'GOOG'), -8.899999999999999),\n",
       " (('2018', 'NFLX'), 190.29000000000002),\n",
       " (('2019', 'GOOG'), 31.82),\n",
       " (('2019', 'NFLX'), 139.82999999999998),\n",
       " (('2020', 'GOOG'), 70.9),\n",
       " (('2020', 'NFLX'), 167.45),\n",
       " (('2021', 'GOOG'), 46.09),\n",
       " (('2021', 'NFLX'), 99.57)]"
      ]
     },
     "execution_count": 30,
     "metadata": {},
     "output_type": "execute_result"
    }
   ],
   "source": [
    "result_8F = result_8e.reduceByKey(lambda x,y: x+y)\n",
    "sorted(result_8F.collect())"
   ]
  },
  {
   "cell_type": "code",
   "execution_count": null,
   "id": "46a927b8",
   "metadata": {},
   "outputs": [],
   "source": []
  },
  {
   "cell_type": "code",
   "execution_count": null,
   "id": "840e8028",
   "metadata": {},
   "outputs": [],
   "source": []
  },
  {
   "cell_type": "code",
   "execution_count": null,
   "id": "0459d05c",
   "metadata": {},
   "outputs": [],
   "source": []
  },
  {
   "cell_type": "code",
   "execution_count": 31,
   "id": "aa9a0c09",
   "metadata": {},
   "outputs": [],
   "source": [
    "sc.stop()"
   ]
  },
  {
   "cell_type": "code",
   "execution_count": null,
   "id": "f371852a",
   "metadata": {},
   "outputs": [],
   "source": []
  }
 ],
 "metadata": {
  "kernelspec": {
   "display_name": "Python 3",
   "language": "python",
   "name": "python3"
  },
  "language_info": {
   "codemirror_mode": {
    "name": "ipython",
    "version": 3
   },
   "file_extension": ".py",
   "mimetype": "text/x-python",
   "name": "python",
   "nbconvert_exporter": "python",
   "pygments_lexer": "ipython3",
   "version": "3.8.8"
  },
  "nbTranslate": {
   "displayLangs": [
    "*"
   ],
   "hotkey": "alt-t",
   "langInMainMenu": true,
   "sourceLang": "en",
   "targetLang": "fr",
   "useGoogleTranslate": true
  },
  "toc": {
   "base_numbering": 1,
   "nav_menu": {},
   "number_sections": false,
   "sideBar": true,
   "skip_h1_title": true,
   "title_cell": "Table of Contents",
   "title_sidebar": "Contents",
   "toc_cell": false,
   "toc_position": {
    "height": "calc(100% - 180px)",
    "left": "10px",
    "top": "150px",
    "width": "165px"
   },
   "toc_section_display": true,
   "toc_window_display": true
  }
 },
 "nbformat": 4,
 "nbformat_minor": 5
}
