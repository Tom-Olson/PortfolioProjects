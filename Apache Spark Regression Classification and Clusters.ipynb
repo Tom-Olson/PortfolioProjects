{
 "cells": [
  {
   "cell_type": "code",
   "execution_count": 1,
   "id": "60974e0f",
   "metadata": {},
   "outputs": [],
   "source": [
    "from pyspark.sql import SparkSession\n",
    "from pyspark.sql.functions import expr\n",
    "import numpy as np\n",
    "import matplotlib.pyplot as plt\n",
    "import seaborn as sns\n",
    "sns.set_style('whitegrid')\n",
    "import wget\n",
    "\n",
    "from pyspark.ml.feature import VectorAssembler\n",
    "from pyspark.ml.regression import LinearRegression\n",
    "from pyspark.ml.classification import LogisticRegression\n",
    "from pyspark.ml.evaluation import RegressionEvaluator\n",
    "from pyspark.ml.feature import StringIndexer\n",
    "from pyspark.mllib.evaluation import MulticlassMetrics\n",
    "from pyspark.sql.types import FloatType\n",
    "from pyspark.ml.classification import NaiveBayes\n",
    "from pyspark.ml import Pipeline\n",
    "from pyspark.ml.evaluation import MulticlassClassificationEvaluator\n",
    "from pyspark.ml.classification import DecisionTreeClassifier\n",
    "from pyspark.ml.classification import RandomForestClassifier\n",
    "from pyspark.ml.feature import IndexToString,VectorIndexer\n",
    "from pyspark.ml.evaluation import BinaryClassificationEvaluator\n",
    "from pyspark.ml.clustering import KMeans\n",
    "from pyspark.ml.evaluation import ClusteringEvaluator\n",
    "\n"
   ]
  },
  {
   "cell_type": "code",
   "execution_count": 2,
   "id": "4093c055",
   "metadata": {},
   "outputs": [
    {
     "data": {
      "text/html": [
       "\n",
       "            <div>\n",
       "                <p><b>SparkSession - in-memory</b></p>\n",
       "                \n",
       "        <div>\n",
       "            <p><b>SparkContext</b></p>\n",
       "\n",
       "            <p><a href=\"http://192.168.1.57:4040\">Spark UI</a></p>\n",
       "\n",
       "            <dl>\n",
       "              <dt>Version</dt>\n",
       "                <dd><code>v3.2.0</code></dd>\n",
       "              <dt>Master</dt>\n",
       "                <dd><code>local[*]</code></dd>\n",
       "              <dt>AppName</dt>\n",
       "                <dd><code>RDD_ML</code></dd>\n",
       "            </dl>\n",
       "        </div>\n",
       "        \n",
       "            </div>\n",
       "        "
      ],
      "text/plain": [
       "<pyspark.sql.session.SparkSession at 0x7fa5f80a8940>"
      ]
     },
     "execution_count": 2,
     "metadata": {},
     "output_type": "execute_result"
    }
   ],
   "source": [
    "spark = SparkSession.Builder().appName(\"RDD_ML\").config(\n",
    "    'spark.sql.shuffle.partitions', '6').getOrCreate()\n",
    "spark"
   ]
  },
  {
   "cell_type": "code",
   "execution_count": 3,
   "id": "5a4f36bf",
   "metadata": {},
   "outputs": [
    {
     "data": {
      "text/plain": [
       "'stocks_2013_2021.txt'"
      ]
     },
     "execution_count": 3,
     "metadata": {},
     "output_type": "execute_result"
    }
   ],
   "source": [
    "fileName = 'https://people.bu.edu/kalathur/datasets/stocks_2013_2021.txt'\n",
    "wget.download(fileName)"
   ]
  },
  {
   "cell_type": "code",
   "execution_count": 4,
   "id": "45360948",
   "metadata": {},
   "outputs": [
    {
     "name": "stdout",
     "output_type": "stream",
     "text": [
      "root\n",
      " |-- Stock: string (nullable = true)\n",
      " |-- Date: string (nullable = true)\n",
      " |-- Open: double (nullable = true)\n",
      " |-- High: double (nullable = true)\n",
      " |-- Low: double (nullable = true)\n",
      " |-- Close: double (nullable = true)\n",
      " |-- Volume: integer (nullable = true)\n",
      "\n"
     ]
    }
   ],
   "source": [
    "stocksDF = spark.read.csv( \"stocks_2013_2021.txt\", header=False, inferSchema=True,\n",
    ").toDF('Stock','Date','Open','High',\n",
    "       'Low','Close','Volume'\n",
    "      )\n",
    "stocksDF.printSchema()"
   ]
  },
  {
   "cell_type": "markdown",
   "id": "1744b541",
   "metadata": {
    "heading_collapsed": true
   },
   "source": [
    "# Question 1"
   ]
  },
  {
   "cell_type": "markdown",
   "id": "5680152a",
   "metadata": {
    "heading_collapsed": true,
    "hidden": true
   },
   "source": [
    "### Entire Dataset"
   ]
  },
  {
   "cell_type": "code",
   "execution_count": 5,
   "id": "973628a0",
   "metadata": {
    "hidden": true
   },
   "outputs": [
    {
     "name": "stdout",
     "output_type": "stream",
     "text": [
      "+-----+----------+-----+-----+-----+-----+---------+\n",
      "|Stock|      Date| Open| High|  Low|Close|   Volume|\n",
      "+-----+----------+-----+-----+-----+-----+---------+\n",
      "| AAPL|2013-01-02|19.78|19.82|19.34|16.96|560518000|\n",
      "| AAPL|2013-01-03|19.57|19.63|19.32|16.75|352965200|\n",
      "| AAPL|2013-01-04|19.18|19.24|18.78|16.28|594333600|\n",
      "| AAPL|2013-01-07|18.64| 18.9| 18.4|16.18|484156400|\n",
      "| AAPL|2013-01-08| 18.9| 19.0|18.62|16.23|458707200|\n",
      "+-----+----------+-----+-----+-----+-----+---------+\n",
      "only showing top 5 rows\n",
      "\n"
     ]
    }
   ],
   "source": [
    "stocksDF.show(5)"
   ]
  },
  {
   "cell_type": "code",
   "execution_count": 6,
   "id": "272f7a16",
   "metadata": {
    "hidden": true
   },
   "outputs": [
    {
     "name": "stdout",
     "output_type": "stream",
     "text": [
      "+------------------------------+\n",
      "|inputFeatures                 |\n",
      "+------------------------------+\n",
      "|[19.78,19.82,19.34,5.60518E8] |\n",
      "|[19.57,19.63,19.32,3.529652E8]|\n",
      "|[19.18,19.24,18.78,5.943336E8]|\n",
      "|[18.64,18.9,18.4,4.841564E8]  |\n",
      "|[18.9,19.0,18.62,4.587072E8]  |\n",
      "+------------------------------+\n",
      "only showing top 5 rows\n",
      "\n"
     ]
    }
   ],
   "source": [
    "cols = ['Open','High','Low','Volume']\n",
    "\n",
    "#create the vector assembler \n",
    "vec_assembler = VectorAssembler(\n",
    "    inputCols = cols,\n",
    "    outputCol = 'inputFeatures')\n",
    "\n",
    "#transform the values\n",
    "features_df = vec_assembler.transform(stocksDF)\n",
    "\n",
    "features_df.select('inputFeatures').show(5, truncate=False)"
   ]
  },
  {
   "cell_type": "code",
   "execution_count": 7,
   "id": "4f682b12",
   "metadata": {
    "hidden": true
   },
   "outputs": [
    {
     "data": {
      "text/plain": [
       "DataFrame[inputFeatures: vector, Close: double]"
      ]
     },
     "execution_count": 7,
     "metadata": {},
     "output_type": "execute_result"
    }
   ],
   "source": [
    "#create model data containing input features and output column\n",
    "model_df=features_df.select('inputFeatures','Close')\n",
    "model_df"
   ]
  },
  {
   "cell_type": "code",
   "execution_count": 8,
   "id": "99ccf5c2",
   "metadata": {
    "hidden": true
   },
   "outputs": [
    {
     "name": "stdout",
     "output_type": "stream",
     "text": [
      "+------------------------------+-----+\n",
      "|inputFeatures                 |Close|\n",
      "+------------------------------+-----+\n",
      "|[19.78,19.82,19.34,5.60518E8] |16.96|\n",
      "|[19.57,19.63,19.32,3.529652E8]|16.75|\n",
      "|[19.18,19.24,18.78,5.943336E8]|16.28|\n",
      "|[18.64,18.9,18.4,4.841564E8]  |16.18|\n",
      "|[18.9,19.0,18.62,4.587072E8]  |16.23|\n",
      "+------------------------------+-----+\n",
      "only showing top 5 rows\n",
      "\n"
     ]
    }
   ],
   "source": [
    "model_df.show(5,truncate=False)"
   ]
  },
  {
   "cell_type": "code",
   "execution_count": 9,
   "id": "baa54972",
   "metadata": {
    "hidden": true
   },
   "outputs": [],
   "source": [
    "#Build Linear Regression model \n",
    "\n",
    "lr = LinearRegression(\n",
    "    featuresCol='inputFeatures',\n",
    "    labelCol='Close',\n",
    "    regParam=0.001)\n",
    "\n",
    "#fit the linear regression model on training data set \n",
    "lr_model=lr.fit(model_df)"
   ]
  },
  {
   "cell_type": "code",
   "execution_count": 10,
   "id": "c6612464",
   "metadata": {
    "hidden": true
   },
   "outputs": [
    {
     "data": {
      "text/plain": [
       "-1.92298672147336"
      ]
     },
     "execution_count": 10,
     "metadata": {},
     "output_type": "execute_result"
    }
   ],
   "source": [
    "lr_model.intercept"
   ]
  },
  {
   "cell_type": "code",
   "execution_count": 11,
   "id": "83016fbf",
   "metadata": {
    "hidden": true
   },
   "outputs": [
    {
     "data": {
      "text/plain": [
       "DenseVector([-0.5468, 0.7813, 0.7672, -0.0])"
      ]
     },
     "execution_count": 11,
     "metadata": {},
     "output_type": "execute_result"
    }
   ],
   "source": [
    "lr_model.coefficients"
   ]
  },
  {
   "cell_type": "code",
   "execution_count": 12,
   "id": "4f81e8c7",
   "metadata": {
    "hidden": true
   },
   "outputs": [],
   "source": [
    "predictions = lr_model.evaluate(model_df)"
   ]
  },
  {
   "cell_type": "code",
   "execution_count": 19,
   "id": "e83893f4",
   "metadata": {
    "hidden": true
   },
   "outputs": [
    {
     "name": "stdout",
     "output_type": "stream",
     "text": [
      "13596\n",
      "0.9999409000366504\n",
      "12.150027899603396\n",
      "3.4856890136102785\n",
      "205572.20588323826\n"
     ]
    }
   ],
   "source": [
    "print(predictions.numInstances)\n",
    "print(predictions.r2)\n",
    "print(predictions.meanSquaredError)\n",
    "print(predictions.rootMeanSquaredError)\n",
    "print(predictions.explainedVariance)\n"
   ]
  },
  {
   "cell_type": "code",
   "execution_count": 17,
   "id": "f4833cce",
   "metadata": {
    "hidden": true
   },
   "outputs": [
    {
     "name": "stdout",
     "output_type": "stream",
     "text": [
      "+--------------------+\n",
      "|           residuals|\n",
      "+--------------------+\n",
      "|  -0.312549496177418|\n",
      "| -0.5888470695291375|\n",
      "|-0.41908352857776876|\n",
      "| -0.3183704941385237|\n",
      "| -0.3872438662972222|\n",
      "+--------------------+\n",
      "only showing top 5 rows\n",
      "\n"
     ]
    }
   ],
   "source": [
    "#view the residual errors based on predictions \n",
    "\n",
    "predictions.residuals.show(5)"
   ]
  },
  {
   "cell_type": "code",
   "execution_count": 20,
   "id": "3df4f78c",
   "metadata": {
    "hidden": true
   },
   "outputs": [
    {
     "name": "stdout",
     "output_type": "stream",
     "text": [
      "+---------------+-----+---------------+---------------+\n",
      "|  inputFeatures|Close|     prediction|       residual|\n",
      "+---------------+-----+---------------+---------------+\n",
      "|[19.78,19.82...|16.96|17.272549496...|-0.312549496...|\n",
      "|[19.57,19.63...|16.75|17.338847069...|-0.588847069...|\n",
      "|[19.18,19.24...|16.28|16.699083528...|-0.419083528...|\n",
      "|[18.64,18.9,...|16.18|16.498370494...|-0.318370494...|\n",
      "|[18.9,19.0,1...|16.23|16.617243866...|-0.387243866...|\n",
      "|[18.66,18.75...|15.97|16.435767341...|-0.465767341...|\n",
      "|[18.88,18.88...|16.17|16.294215407...|-0.124215407...|\n",
      "|[18.61,18.76...|16.07|16.587023239...|-0.517023239...|\n",
      "|[17.95,18.12...| 15.5|15.667107454...|-0.167107454...|\n",
      "|[17.8,17.82,...|15.01|15.021279312...|-0.011279312...|\n",
      "|[17.67,18.19...|15.63|15.737890621...|-0.107890621...|\n",
      "|[18.23,18.24...|15.53|15.863255470...|-0.333255470...|\n",
      "|[17.8,17.94,...|15.45|15.699880905...|-0.249880905...|\n",
      "|[18.02,18.14...|15.59|15.749819700...|-0.159819700...|\n",
      "|[18.17,18.39...|15.88|15.863524878...|0.0164751210...|\n",
      "|[16.43,16.63...|13.92|13.611069643...|0.3089303565...|\n",
      "|[16.13,16.29...|13.59|13.235564657...|0.3544353427...|\n",
      "|[15.64,16.19...| 13.9|13.683012058...|0.2169879419...|\n",
      "|[16.38,16.44...|14.16|14.037696511...|0.1223034881...|\n",
      "|[16.32,16.52...|14.11|14.279900852...|-0.169900852...|\n",
      "+---------------+-----+---------------+---------------+\n",
      "only showing top 20 rows\n",
      "\n"
     ]
    }
   ],
   "source": [
    "lr_predictions = lr_model.transform(model_df)\n",
    "lr_predictions.withColumn(\n",
    "    'residual', expr('Close - prediction')\n",
    ").show(truncate=15)"
   ]
  },
  {
   "cell_type": "code",
   "execution_count": 21,
   "id": "59ac1ed7",
   "metadata": {
    "hidden": true
   },
   "outputs": [],
   "source": [
    "lrevaluator = RegressionEvaluator(\n",
    "    predictionCol=\"prediction\", \n",
    "    labelCol=\"Close\", \n",
    "    metricName=\"rmse\")"
   ]
  },
  {
   "cell_type": "code",
   "execution_count": 22,
   "id": "e3498cbb",
   "metadata": {
    "hidden": true
   },
   "outputs": [
    {
     "data": {
      "text/plain": [
       "3.4856890136102785"
      ]
     },
     "execution_count": 22,
     "metadata": {},
     "output_type": "execute_result"
    }
   ],
   "source": [
    "lrevaluator.evaluate(lr_predictions)"
   ]
  },
  {
   "cell_type": "markdown",
   "id": "3abe748d",
   "metadata": {
    "heading_collapsed": true,
    "hidden": true
   },
   "source": [
    "### 70/30 Split"
   ]
  },
  {
   "cell_type": "code",
   "execution_count": 23,
   "id": "602a9802",
   "metadata": {
    "hidden": true
   },
   "outputs": [
    {
     "data": {
      "text/plain": [
       "(9394, 4202)"
      ]
     },
     "execution_count": 23,
     "metadata": {},
     "output_type": "execute_result"
    }
   ],
   "source": [
    "#split the data into 70/30 ratio for train test purpose\n",
    "train_df, test_df = model_df.randomSplit(\n",
    "    [0.7,0.3], seed = 2964)\n",
    "\n",
    "train_df.count(), test_df.count()"
   ]
  },
  {
   "cell_type": "code",
   "execution_count": 24,
   "id": "7134ccb3",
   "metadata": {
    "hidden": true
   },
   "outputs": [],
   "source": [
    "#Build Linear Regression model \n",
    "\n",
    "lr = LinearRegression(\n",
    "    featuresCol='inputFeatures',\n",
    "    labelCol='Close',\n",
    "    regParam=0.001)\n",
    "\n",
    "#fit the linear regression model on training data set \n",
    "lr_model=lr.fit(train_df)"
   ]
  },
  {
   "cell_type": "code",
   "execution_count": 25,
   "id": "bb2b0881",
   "metadata": {
    "hidden": true
   },
   "outputs": [
    {
     "data": {
      "text/plain": [
       "-1.8810104551092344"
      ]
     },
     "execution_count": 25,
     "metadata": {},
     "output_type": "execute_result"
    }
   ],
   "source": [
    "lr_model.intercept"
   ]
  },
  {
   "cell_type": "code",
   "execution_count": 26,
   "id": "e338f568",
   "metadata": {
    "hidden": true
   },
   "outputs": [
    {
     "data": {
      "text/plain": [
       "DenseVector([-0.5736, 0.8036, 0.7712, -0.0])"
      ]
     },
     "execution_count": 26,
     "metadata": {},
     "output_type": "execute_result"
    }
   ],
   "source": [
    "lr_model.coefficients"
   ]
  },
  {
   "cell_type": "code",
   "execution_count": 27,
   "id": "68514e0b",
   "metadata": {
    "hidden": true
   },
   "outputs": [],
   "source": [
    "training_predictions = lr_model.evaluate(train_df)"
   ]
  },
  {
   "cell_type": "code",
   "execution_count": 28,
   "id": "699a1a20",
   "metadata": {
    "hidden": true
   },
   "outputs": [
    {
     "name": "stdout",
     "output_type": "stream",
     "text": [
      "9394\n",
      "0.9999434486503465\n",
      "11.606578262472144\n",
      "3.4068428584940844\n",
      "205228.02666782995\n"
     ]
    }
   ],
   "source": [
    "print(training_predictions.numInstances)\n",
    "print(training_predictions.r2)\n",
    "print(training_predictions.meanSquaredError)\n",
    "print(training_predictions.rootMeanSquaredError)\n",
    "print(training_predictions.explainedVariance)\n"
   ]
  },
  {
   "cell_type": "code",
   "execution_count": 29,
   "id": "3bfb1fb8",
   "metadata": {
    "hidden": true
   },
   "outputs": [],
   "source": [
    "#make predictions on test data \n",
    "test_results = lr_model.evaluate(test_df)"
   ]
  },
  {
   "cell_type": "code",
   "execution_count": 30,
   "id": "1b712ec5",
   "metadata": {
    "hidden": true
   },
   "outputs": [
    {
     "name": "stdout",
     "output_type": "stream",
     "text": [
      "0.9999348542339032 13.440323897850286 3.6661047308894883\n"
     ]
    }
   ],
   "source": [
    "print(test_results.r2, \n",
    "test_results.meanSquaredError,\n",
    "test_results.rootMeanSquaredError)"
   ]
  },
  {
   "cell_type": "code",
   "execution_count": 31,
   "id": "6c91b458",
   "metadata": {
    "hidden": true
   },
   "outputs": [
    {
     "name": "stdout",
     "output_type": "stream",
     "text": [
      "+------------------+\n",
      "|         residuals|\n",
      "+------------------+\n",
      "| 1.681222959280807|\n",
      "|1.6982601403059643|\n",
      "|1.6843910965973639|\n",
      "|  1.68494910453541|\n",
      "|1.6996291992542132|\n",
      "+------------------+\n",
      "only showing top 5 rows\n",
      "\n"
     ]
    }
   ],
   "source": [
    "#view the residual errors based on predictions \n",
    "\n",
    "test_results.residuals.show(5)"
   ]
  },
  {
   "cell_type": "code",
   "execution_count": 32,
   "id": "f967b388",
   "metadata": {
    "hidden": true
   },
   "outputs": [
    {
     "name": "stdout",
     "output_type": "stream",
     "text": [
      "+---------------+-----+---------------+---------------+\n",
      "|  inputFeatures|Close|     prediction|       residual|\n",
      "+---------------+-----+---------------+---------------+\n",
      "|[3.02,3.06,3...| 2.82|1.1387770407...|1.6812229592...|\n",
      "|[3.04,3.04,3...|  2.8|1.1017398596...|1.6982601403...|\n",
      "|[3.04,3.11,3...| 2.85|1.1656089034...|1.6843910965...|\n",
      "|[3.06,3.08,3...| 2.82|1.1350508954...|1.6849491045...|\n",
      "|[3.06,3.11,3...| 2.88|1.1803708007...|1.6996291992...|\n",
      "|[3.06,3.13,3...| 2.88|1.1973546865...|1.6826453134...|\n",
      "|[3.08,3.12,3...| 2.83|1.1704406492...|1.6595593507...|\n",
      "|[3.09,3.1,3....| 2.86|1.1770913948...|1.6829086051...|\n",
      "|[3.09,3.13,3...| 2.89|1.2107905149...|1.6792094850...|\n",
      "|[3.11,3.17,3...| 2.86|1.1965856447...|1.6634143552...|\n",
      "|[3.11,3.18,3...| 2.94|1.2464649151...|1.6935350848...|\n",
      "|[3.12,3.16,3...| 2.89|1.2226675414...|1.6673324585...|\n",
      "|[3.12,3.17,3...| 2.91|1.2451103192...|1.6648896807...|\n",
      "|[3.14,3.15,3...| 2.85|1.1891301384...|1.6608698615...|\n",
      "|[3.14,3.18,3...| 2.94|1.2530575181...|1.6869424818...|\n",
      "|[3.14,3.19,3...| 2.96|1.2597978575...|1.7002021424...|\n",
      "|[3.15,3.2,3....| 2.86|1.2080376283...|1.6519623716...|\n",
      "|[3.17,3.19,3...| 2.95|1.2721570263...|1.6778429736...|\n",
      "|[3.17,3.2,3....| 2.94|1.2182063872...|1.7217936127...|\n",
      "|[3.18,3.19,3...|  2.9|1.2336877404...|1.6663122595...|\n",
      "+---------------+-----+---------------+---------------+\n",
      "only showing top 20 rows\n",
      "\n"
     ]
    }
   ],
   "source": [
    "lr_predictions = lr_model.transform(test_df)\n",
    "lr_predictions.withColumn(\n",
    "    'residual', expr('Close - prediction')\n",
    ").show(truncate=15)"
   ]
  },
  {
   "cell_type": "code",
   "execution_count": 33,
   "id": "07fe3cc6",
   "metadata": {
    "hidden": true
   },
   "outputs": [],
   "source": [
    "lrevaluator = RegressionEvaluator(\n",
    "    predictionCol=\"prediction\", \n",
    "    labelCol=\"Close\", \n",
    "    metricName=\"rmse\")"
   ]
  },
  {
   "cell_type": "code",
   "execution_count": 34,
   "id": "53b5705e",
   "metadata": {
    "hidden": true
   },
   "outputs": [
    {
     "data": {
      "text/plain": [
       "3.6661047308894883"
      ]
     },
     "execution_count": 34,
     "metadata": {},
     "output_type": "execute_result"
    }
   ],
   "source": [
    "lrevaluator.evaluate(lr_predictions)"
   ]
  },
  {
   "cell_type": "markdown",
   "id": "ac6fd5ed",
   "metadata": {
    "heading_collapsed": true
   },
   "source": [
    "# Question 2"
   ]
  },
  {
   "cell_type": "markdown",
   "id": "6734854e",
   "metadata": {
    "heading_collapsed": true,
    "hidden": true
   },
   "source": [
    "### Entire Dataset"
   ]
  },
  {
   "cell_type": "code",
   "execution_count": 35,
   "id": "8be866ca",
   "metadata": {
    "hidden": true
   },
   "outputs": [
    {
     "name": "stdout",
     "output_type": "stream",
     "text": [
      "+-----+-----+\n",
      "|Stock|count|\n",
      "+-----+-----+\n",
      "| MSFT| 2266|\n",
      "| NFLX| 2266|\n",
      "| INTC| 2266|\n",
      "| NVDA| 2266|\n",
      "| AAPL| 2266|\n",
      "| GOOG| 2266|\n",
      "+-----+-----+\n",
      "\n"
     ]
    }
   ],
   "source": [
    "stocksDF.groupBy('Stock').count().show()"
   ]
  },
  {
   "cell_type": "code",
   "execution_count": 36,
   "id": "59c01393",
   "metadata": {
    "hidden": true
   },
   "outputs": [
    {
     "name": "stdout",
     "output_type": "stream",
     "text": [
      "+-----+---------+\n",
      "|Stock|Stock_Num|\n",
      "+-----+---------+\n",
      "|AAPL |0.0      |\n",
      "|AAPL |0.0      |\n",
      "|AAPL |0.0      |\n",
      "|AAPL |0.0      |\n",
      "|AAPL |0.0      |\n",
      "|AAPL |0.0      |\n",
      "+-----+---------+\n",
      "only showing top 6 rows\n",
      "\n"
     ]
    }
   ],
   "source": [
    "stock_indexer = StringIndexer(\n",
    "    inputCols =[\"Stock\"], \n",
    "    outputCols=[\"Stock_Num\"])\n",
    "\n",
    "\n",
    "\n",
    "df = stock_indexer.fit(stocksDF).transform(stocksDF)\n",
    "df.select('Stock', 'Stock_Num').show(6,False)"
   ]
  },
  {
   "cell_type": "code",
   "execution_count": 37,
   "id": "193c1dfc",
   "metadata": {
    "hidden": true,
    "scrolled": true
   },
   "outputs": [
    {
     "name": "stdout",
     "output_type": "stream",
     "text": [
      "+---------+-----+\n",
      "|Stock_Num|count|\n",
      "+---------+-----+\n",
      "|      0.0| 2266|\n",
      "|      5.0| 2266|\n",
      "|      1.0| 2266|\n",
      "|      3.0| 2266|\n",
      "|      4.0| 2266|\n",
      "|      2.0| 2266|\n",
      "+---------+-----+\n",
      "\n"
     ]
    }
   ],
   "source": [
    "df.groupBy('Stock_Num').count().show()"
   ]
  },
  {
   "cell_type": "code",
   "execution_count": 38,
   "id": "7943eb1c",
   "metadata": {
    "hidden": true
   },
   "outputs": [
    {
     "name": "stdout",
     "output_type": "stream",
     "text": [
      "+------------------------------------+---------+\n",
      "|features                            |Stock_Num|\n",
      "+------------------------------------+---------+\n",
      "|[19.78,19.82,19.34,16.96,5.60518E8] |0.0      |\n",
      "|[19.57,19.63,19.32,16.75,3.529652E8]|0.0      |\n",
      "|[19.18,19.24,18.78,16.28,5.943336E8]|0.0      |\n",
      "|[18.64,18.9,18.4,16.18,4.841564E8]  |0.0      |\n",
      "|[18.9,19.0,18.62,16.23,4.587072E8]  |0.0      |\n",
      "|[18.66,18.75,18.43,15.97,4.076044E8]|0.0      |\n",
      "+------------------------------------+---------+\n",
      "only showing top 6 rows\n",
      "\n"
     ]
    }
   ],
   "source": [
    "\n",
    "cols = ['Open','High','Low','Close','Volume']\n",
    "\n",
    "df_assembler = VectorAssembler(\n",
    "    inputCols=cols, \n",
    "    outputCol=\"features\")\n",
    "\n",
    "df = df_assembler.transform(df)\n",
    "model_df = df.select(['features','Stock_Num'])\n",
    "\n",
    "model_df.show(6, False)"
   ]
  },
  {
   "cell_type": "code",
   "execution_count": 39,
   "id": "26b027e2",
   "metadata": {
    "hidden": true
   },
   "outputs": [
    {
     "data": {
      "text/plain": [
       "[Row(features=DenseVector([19.78, 19.82, 19.34, 16.96, 560518000.0]), Stock_Num=0.0),\n",
       " Row(features=DenseVector([19.57, 19.63, 19.32, 16.75, 352965200.0]), Stock_Num=0.0),\n",
       " Row(features=DenseVector([19.18, 19.24, 18.78, 16.28, 594333600.0]), Stock_Num=0.0),\n",
       " Row(features=DenseVector([18.64, 18.9, 18.4, 16.18, 484156400.0]), Stock_Num=0.0),\n",
       " Row(features=DenseVector([18.9, 19.0, 18.62, 16.23, 458707200.0]), Stock_Num=0.0),\n",
       " Row(features=DenseVector([18.66, 18.75, 18.43, 15.97, 407604400.0]), Stock_Num=0.0)]"
      ]
     },
     "execution_count": 39,
     "metadata": {},
     "output_type": "execute_result"
    }
   ],
   "source": [
    "model_df.take(6)"
   ]
  },
  {
   "cell_type": "code",
   "execution_count": 40,
   "id": "a416a8d0",
   "metadata": {
    "hidden": true
   },
   "outputs": [],
   "source": [
    "log_reg = LogisticRegression(regParam=0.01, elasticNetParam=0,labelCol='Stock_Num').fit(model_df)"
   ]
  },
  {
   "cell_type": "code",
   "execution_count": 41,
   "id": "dfa378f1",
   "metadata": {
    "hidden": true
   },
   "outputs": [
    {
     "data": {
      "text/plain": [
       "DataFrame[features: vector, Stock_Num: double, rawPrediction: vector, probability: vector, prediction: double]"
      ]
     },
     "execution_count": 41,
     "metadata": {},
     "output_type": "execute_result"
    }
   ],
   "source": [
    "train_results = log_reg.evaluate(model_df)\n",
    "pred = train_results.predictions\n",
    "pred"
   ]
  },
  {
   "cell_type": "code",
   "execution_count": 42,
   "id": "fa53466c",
   "metadata": {
    "hidden": true
   },
   "outputs": [
    {
     "name": "stdout",
     "output_type": "stream",
     "text": [
      "+---------+----------+------------------------------------------------------------------------------------------+\n",
      "|Stock_Num|prediction|                                                                               probability|\n",
      "+---------+----------+------------------------------------------------------------------------------------------+\n",
      "|      0.0|       0.0|[0.9999991849050203,1.2649245158640198E-10,6.91006689889872E-10,1.8168859192140865E-8,2...|\n",
      "|      0.0|       0.0|[0.999601181214037,3.7952898387711006E-7,5.293229790488374E-6,3.315531902972442E-5,1.13...|\n",
      "|      0.0|       0.0|[0.9999996997271836,3.408078378976128E-11,1.6153482794031262E-10,5.344546141885152E-9,3...|\n",
      "|      0.0|       0.0|[0.9999921147859062,2.38338342845662E-9,1.866022651239005E-8,2.878331751195578E-7,1.215...|\n",
      "|      0.0|       0.0|[0.9999831922250861,6.374030768438562E-9,5.581426646607183E-8,7.22869730995306E-7,4.582...|\n",
      "|      0.0|       0.0|[0.9999226021921016,4.5670108295436806E-8,5.054009767481556E-7,4.5922382258724066E-6,6....|\n",
      "|      0.0|       0.0|[0.9999997542507852,2.6120918236886316E-11,1.2064748782332277E-10,4.176600262370645E-9,...|\n",
      "|      0.0|       0.0|[0.9995691503701519,4.1352821862296903E-7,5.9135985091084185E-6,3.623110741073594E-5,1....|\n",
      "|      0.0|       0.0|[0.999999995158378,1.5263252634009456E-13,3.9213102199212224E-13,3.3874043895574526E-11...|\n",
      "|      0.0|       0.0|[0.9999999999275622,6.206193997081438E-16,8.444017712881654E-16,1.9481816184297565E-13,...|\n",
      "|      0.0|       0.0|[0.9999999825650877,8.139971605619613E-13,2.5457811152832115E-12,1.6287669578635439E-10...|\n",
      "|      0.0|       0.0|[0.9999804228012691,7.679316666725544E-9,6.961308353890221E-8,8.669879449974305E-7,5.94...|\n",
      "|      0.0|       0.0|[0.9999889524585925,3.6444403694624923E-9,3.042405720296756E-8,4.320964469588852E-7,2.1...|\n",
      "|      0.0|       0.0|[0.9999845071946037,5.6616988057797504E-9,4.96289047614477E-8,6.521628883172931E-7,3.94...|\n",
      "|      0.0|       0.0|[0.9999999998866969,1.126347785485105E-15,1.6235511571880776E-15,3.384603666767927E-13,...|\n",
      "|      0.0|       0.0|[1.0,9.982670281769261E-26,9.991533598643222E-27,1.292671265788077E-22,9.20065416632436...|\n",
      "|      0.0|       0.0|[0.9999999999999958,1.7148075745323035E-21,5.392957543674396E-22,1.214123380934629E-18,...|\n",
      "|      0.0|       0.0|[0.9999999989255315,2.0614716728889332E-14,4.3501291658429146E-14,5.289040147969295E-12...|\n",
      "|      0.0|       0.0|[0.9999993977543228,8.100935456662717E-11,4.45339105658165E-10,1.2353911300071683E-8,1....|\n",
      "|      0.0|       0.0|[0.9999413732945427,3.085301173576692E-8,3.39263842941996E-7,3.2488427608440766E-6,3.96...|\n",
      "+---------+----------+------------------------------------------------------------------------------------------+\n",
      "only showing top 20 rows\n",
      "\n"
     ]
    }
   ],
   "source": [
    "pred.select('Stock_Num', 'prediction', \n",
    "                     'probability').show(truncate=90)"
   ]
  },
  {
   "cell_type": "code",
   "execution_count": 43,
   "id": "3a0ca8e7",
   "metadata": {
    "hidden": true
   },
   "outputs": [
    {
     "data": {
      "text/plain": [
       "0.6102530155928214"
      ]
     },
     "execution_count": 43,
     "metadata": {},
     "output_type": "execute_result"
    }
   ],
   "source": [
    "train_results.accuracy"
   ]
  },
  {
   "cell_type": "code",
   "execution_count": 44,
   "id": "f4492b81",
   "metadata": {
    "hidden": true
   },
   "outputs": [
    {
     "data": {
      "text/plain": [
       "5299"
      ]
     },
     "execution_count": 44,
     "metadata": {},
     "output_type": "execute_result"
    }
   ],
   "source": [
    "pred.filter('Stock_Num != prediction').count()"
   ]
  },
  {
   "cell_type": "code",
   "execution_count": 45,
   "id": "c09bceef",
   "metadata": {
    "hidden": true
   },
   "outputs": [
    {
     "name": "stdout",
     "output_type": "stream",
     "text": [
      "+----------+-----+\n",
      "|prediction|label|\n",
      "+----------+-----+\n",
      "|       0.0|  0.0|\n",
      "|       0.0|  0.0|\n",
      "|       0.0|  0.0|\n",
      "|       0.0|  0.0|\n",
      "|       0.0|  0.0|\n",
      "+----------+-----+\n",
      "only showing top 5 rows\n",
      "\n"
     ]
    }
   ],
   "source": [
    "predictionAndLabel = pred.withColumn(\n",
    "    'label', pred['Stock_Num'].cast(FloatType())).select(\n",
    "     \"prediction\", \"label\")\n",
    "\n",
    "predictionAndLabel.show(5)"
   ]
  },
  {
   "cell_type": "code",
   "execution_count": 46,
   "id": "3843b8c7",
   "metadata": {
    "hidden": true
   },
   "outputs": [
    {
     "name": "stdout",
     "output_type": "stream",
     "text": [
      "DenseMatrix([[2048.,    0.,    0.,   61.,    0.,  157.],\n",
      "             [   0., 2060.,    0.,    0.,  206.,    0.],\n",
      "             [  33.,    0., 1964.,    0.,    0.,  269.],\n",
      "             [  53.,    0.,  971.,  444.,  498.,  300.],\n",
      "             [  10.,  294.,  649.,  104., 1163.,   46.],\n",
      "             [ 196.,    0., 1095.,  215.,  142.,  618.]])\n"
     ]
    }
   ],
   "source": [
    "metrics = MulticlassMetrics(predictionAndLabel.rdd)\n",
    "\n",
    "print(metrics.confusionMatrix())"
   ]
  },
  {
   "cell_type": "markdown",
   "id": "7c017d48",
   "metadata": {
    "heading_collapsed": true,
    "hidden": true
   },
   "source": [
    "### 70/30 Split"
   ]
  },
  {
   "cell_type": "code",
   "execution_count": 47,
   "id": "26b2d02a",
   "metadata": {
    "hidden": true
   },
   "outputs": [
    {
     "data": {
      "text/plain": [
       "(9394, 4202)"
      ]
     },
     "execution_count": 47,
     "metadata": {},
     "output_type": "execute_result"
    }
   ],
   "source": [
    "#split the data \n",
    "training_df, test_df = model_df.randomSplit([0.70,0.30], seed=2964)\n",
    "training_df.count(), test_df.count()"
   ]
  },
  {
   "cell_type": "code",
   "execution_count": 48,
   "id": "9de5bb95",
   "metadata": {
    "hidden": true
   },
   "outputs": [],
   "source": [
    "log_reg = LogisticRegression(regParam=0.01, elasticNetParam=0,labelCol='Stock_Num').fit(training_df)"
   ]
  },
  {
   "cell_type": "code",
   "execution_count": 49,
   "id": "e218f183",
   "metadata": {
    "hidden": true
   },
   "outputs": [
    {
     "data": {
      "text/plain": [
       "DataFrame[features: vector, Stock_Num: double, rawPrediction: vector, probability: vector, prediction: double]"
      ]
     },
     "execution_count": 49,
     "metadata": {},
     "output_type": "execute_result"
    }
   ],
   "source": [
    "train_results = log_reg.evaluate(training_df)\n",
    "train_pred = train_results.predictions\n",
    "train_pred"
   ]
  },
  {
   "cell_type": "code",
   "execution_count": 50,
   "id": "7f95836c",
   "metadata": {
    "hidden": true,
    "scrolled": true
   },
   "outputs": [
    {
     "name": "stdout",
     "output_type": "stream",
     "text": [
      "+---------+----------+------------------------------------------------------------------------------------------+\n",
      "|Stock_Num|prediction|                                                                               probability|\n",
      "+---------+----------+------------------------------------------------------------------------------------------+\n",
      "|      5.0|       2.0|[0.06128722829785416,0.004327028845090835,0.3339721258134178,0.20678595355704835,0.1117...|\n",
      "|      5.0|       2.0|[0.052383093039583835,0.004366013971947353,0.3435332672443427,0.20698104635788828,0.119...|\n",
      "|      5.0|       5.0|[0.12900980678829954,0.003974851341785912,0.2775225277923555,0.1972743003505005,0.07653...|\n",
      "|      5.0|       5.0|[0.14193585184819194,0.003901154305611763,0.2687918905449958,0.19468980627428728,0.0721...|\n",
      "|      5.0|       2.0|[0.07046078581192247,0.004284642226481119,0.32483070812822695,0.20617675370015062,0.104...|\n",
      "|      5.0|       2.0|[0.055073300720015705,0.004354927840583747,0.34055871282026534,0.20697667565981967,0.11...|\n",
      "|      5.0|       2.0|[0.07517034107193327,0.0042649858641103594,0.3203320041401485,0.20576708217498094,0.101...|\n",
      "|      5.0|       0.0|[0.33361574069759503,0.0028512384665238667,0.17065737929986136,0.1501174555692556,0.034...|\n",
      "|      5.0|       2.0|[0.07601725084768408,0.004258847619697823,0.3195784470154264,0.2056611698481716,0.10133...|\n",
      "|      5.0|       2.0|[0.05456156233227836,0.004357894992023224,0.3411052258843817,0.2069893119339108,0.11751...|\n",
      "|      5.0|       5.0|[0.11364111005167148,0.004059359705345295,0.2885750024475016,0.20013099560408518,0.0823...|\n",
      "|      5.0|       5.0|[0.11107346259270208,0.0040745146198785595,0.2904823180911683,0.20059506400047797,0.083...|\n",
      "|      5.0|       2.0|[0.0884444404599666,0.00419691631373498,0.308552440167825,0.20416682869217795,0.0941297...|\n",
      "|      5.0|       5.0|[0.11310342465191289,0.004063590775579986,0.2889588851685098,0.2002407713446507,0.08260...|\n",
      "|      5.0|       5.0|[0.14179927386506455,0.0039039779662582725,0.26885687663784835,0.19474088958238397,0.07...|\n",
      "|      5.0|       2.0|[0.05487994909605875,0.00435901070396547,0.3407160362700154,0.20701013038662044,0.11726...|\n",
      "|      5.0|       2.0|[0.051029949422962365,0.004373997332065051,0.34501784966520455,0.20699075386780125,0.12...|\n",
      "|      5.0|       5.0|[0.10052751301629147,0.004135332696613503,0.2985858345003244,0.20239553665530954,0.0881...|\n",
      "|      5.0|       2.0|[0.0693765921785034,0.004294150905724437,0.3258093165175542,0.20630965739509763,0.10577...|\n",
      "|      5.0|       2.0|[0.04920640149906066,0.004381722847328803,0.34709671826108157,0.20695262822108063,0.122...|\n",
      "+---------+----------+------------------------------------------------------------------------------------------+\n",
      "only showing top 20 rows\n",
      "\n"
     ]
    }
   ],
   "source": [
    "train_pred.select('Stock_Num', 'prediction', \n",
    "                     'probability').show(truncate=90)"
   ]
  },
  {
   "cell_type": "code",
   "execution_count": 51,
   "id": "95c4573d",
   "metadata": {
    "hidden": true
   },
   "outputs": [
    {
     "data": {
      "text/plain": [
       "3650"
      ]
     },
     "execution_count": 51,
     "metadata": {},
     "output_type": "execute_result"
    }
   ],
   "source": [
    "train_pred.filter('Stock_Num != prediction').count()"
   ]
  },
  {
   "cell_type": "code",
   "execution_count": 52,
   "id": "acfcfe23",
   "metadata": {
    "hidden": true
   },
   "outputs": [
    {
     "data": {
      "text/plain": [
       "<pyspark.ml.classification.LogisticRegressionSummary at 0x7fa6234e7b50>"
      ]
     },
     "execution_count": 52,
     "metadata": {},
     "output_type": "execute_result"
    }
   ],
   "source": [
    "# Evaluate against test data\n",
    "test_results = log_reg.evaluate(test_df)\n",
    "test_results"
   ]
  },
  {
   "cell_type": "code",
   "execution_count": 53,
   "id": "c7babfe4",
   "metadata": {
    "hidden": true
   },
   "outputs": [
    {
     "data": {
      "text/plain": [
       "0.6054259876249405"
      ]
     },
     "execution_count": 53,
     "metadata": {},
     "output_type": "execute_result"
    }
   ],
   "source": [
    "test_results.accuracy"
   ]
  },
  {
   "cell_type": "code",
   "execution_count": 54,
   "id": "e2039558",
   "metadata": {
    "hidden": true
   },
   "outputs": [
    {
     "data": {
      "text/plain": [
       "1658"
      ]
     },
     "execution_count": 54,
     "metadata": {},
     "output_type": "execute_result"
    }
   ],
   "source": [
    "predictions = test_results.predictions\n",
    "\n",
    "predictions.filter('Stock_Num != prediction').count()"
   ]
  },
  {
   "cell_type": "code",
   "execution_count": 55,
   "id": "7a0c783a",
   "metadata": {
    "hidden": true
   },
   "outputs": [
    {
     "name": "stdout",
     "output_type": "stream",
     "text": [
      "+----------+-----+\n",
      "|prediction|label|\n",
      "+----------+-----+\n",
      "|       2.0|  5.0|\n",
      "|       2.0|  5.0|\n",
      "|       5.0|  5.0|\n",
      "|       2.0|  5.0|\n",
      "|       5.0|  5.0|\n",
      "+----------+-----+\n",
      "only showing top 5 rows\n",
      "\n"
     ]
    }
   ],
   "source": [
    "predictionAndLabel = predictions.withColumn(\n",
    "    'label', predictions['Stock_Num'].cast(FloatType())).select(\n",
    "     \"prediction\", \"label\")\n",
    "\n",
    "predictionAndLabel.show(5)"
   ]
  },
  {
   "cell_type": "code",
   "execution_count": 56,
   "id": "215ea404",
   "metadata": {
    "hidden": true
   },
   "outputs": [
    {
     "name": "stdout",
     "output_type": "stream",
     "text": [
      "DenseMatrix([[605.,   0.,   0.,  22.,   0.,  52.],\n",
      "             [  0., 651.,   0.,   0.,  73.,   0.],\n",
      "             [ 12.,   0., 602.,   0.,   0.,  77.],\n",
      "             [ 22.,   0., 298., 133., 173.,  98.],\n",
      "             [  5.,  75., 188.,  27., 375.,  16.],\n",
      "             [ 57.,   0., 348.,  54.,  61., 178.]])\n"
     ]
    }
   ],
   "source": [
    "metrics = MulticlassMetrics(predictionAndLabel.rdd)\n",
    "\n",
    "print(metrics.confusionMatrix())"
   ]
  },
  {
   "cell_type": "markdown",
   "id": "b367e2fc",
   "metadata": {
    "heading_collapsed": true
   },
   "source": [
    "# Question 3"
   ]
  },
  {
   "cell_type": "markdown",
   "id": "a8c5345b",
   "metadata": {
    "heading_collapsed": true,
    "hidden": true
   },
   "source": [
    "### Entire Dataset"
   ]
  },
  {
   "cell_type": "code",
   "execution_count": 57,
   "id": "834a236c",
   "metadata": {
    "hidden": true
   },
   "outputs": [],
   "source": [
    "# Convert target into numerical categories\n",
    "stock_indexer = StringIndexer(\n",
    "    inputCol=\"Stock\", outputCol=\"label\")"
   ]
  },
  {
   "cell_type": "code",
   "execution_count": 58,
   "id": "df06e320",
   "metadata": {
    "hidden": true
   },
   "outputs": [],
   "source": [
    "cols = ['Open','High','Low','Close','Volume']\n",
    "\n",
    "df_assembler = VectorAssembler(\n",
    "    inputCols=cols, \n",
    "    outputCol=\"features\")"
   ]
  },
  {
   "cell_type": "code",
   "execution_count": 59,
   "id": "7a3f2096",
   "metadata": {
    "hidden": true
   },
   "outputs": [],
   "source": [
    "# NaiveBayes model\n",
    "# Regularize NaiveBayes - additive smoothing (Laplace smoothing)\n",
    "\n",
    "nb_stock = NaiveBayes(smoothing=1.0, modelType=\"multinomial\")"
   ]
  },
  {
   "cell_type": "code",
   "execution_count": 60,
   "id": "85f5af73",
   "metadata": {
    "hidden": true
   },
   "outputs": [],
   "source": [
    "# Chain label indexer, vector assembler and model in a pipeline\n",
    "pipeline_nb_stock = Pipeline(\n",
    "    stages= [stock_indexer, df_assembler, nb_stock])"
   ]
  },
  {
   "cell_type": "code",
   "execution_count": 61,
   "id": "793f9e46",
   "metadata": {
    "hidden": true
   },
   "outputs": [],
   "source": [
    "# train the model\n",
    "\n",
    "model_nb_stock = pipeline_nb_stock.fit(stocksDF)"
   ]
  },
  {
   "cell_type": "code",
   "execution_count": 62,
   "id": "30f81a97",
   "metadata": {
    "hidden": true
   },
   "outputs": [
    {
     "name": "stdout",
     "output_type": "stream",
     "text": [
      "root\n",
      " |-- Stock: string (nullable = true)\n",
      " |-- Date: string (nullable = true)\n",
      " |-- Open: double (nullable = true)\n",
      " |-- High: double (nullable = true)\n",
      " |-- Low: double (nullable = true)\n",
      " |-- Close: double (nullable = true)\n",
      " |-- Volume: integer (nullable = true)\n",
      " |-- label: double (nullable = false)\n",
      " |-- features: vector (nullable = true)\n",
      " |-- rawPrediction: vector (nullable = true)\n",
      " |-- probability: vector (nullable = true)\n",
      " |-- prediction: double (nullable = false)\n",
      "\n"
     ]
    }
   ],
   "source": [
    "# predict on data\n",
    "predictions_nb_stock = model_nb_stock.transform(stocksDF)\n",
    "\n",
    "predictions_nb_stock.printSchema()"
   ]
  },
  {
   "cell_type": "code",
   "execution_count": 63,
   "id": "ad2c5688",
   "metadata": {
    "hidden": true
   },
   "outputs": [
    {
     "name": "stdout",
     "output_type": "stream",
     "text": [
      "+-----+----------+-------------------------+\n",
      "|label|prediction|              probability|\n",
      "+-----+----------+-------------------------+\n",
      "|  0.0|       0.0|[1.0,0.0,0.0,0.0,0.0,0.0]|\n",
      "|  0.0|       0.0|[1.0,0.0,0.0,0.0,0.0,0.0]|\n",
      "|  0.0|       0.0|[1.0,0.0,0.0,0.0,0.0,0.0]|\n",
      "|  0.0|       0.0|[1.0,0.0,0.0,0.0,0.0,0.0]|\n",
      "|  0.0|       0.0|[1.0,0.0,0.0,0.0,0.0,0.0]|\n",
      "|  0.0|       0.0|[1.0,0.0,0.0,0.0,0.0,0.0]|\n",
      "|  0.0|       0.0|[1.0,0.0,0.0,0.0,0.0,0.0]|\n",
      "|  0.0|       0.0|[1.0,0.0,0.0,0.0,0.0,0.0]|\n",
      "|  0.0|       0.0|[1.0,0.0,0.0,0.0,0.0,0.0]|\n",
      "|  0.0|       0.0|[1.0,0.0,0.0,0.0,0.0,0.0]|\n",
      "|  0.0|       0.0|[1.0,0.0,0.0,0.0,0.0,0.0]|\n",
      "|  0.0|       0.0|[1.0,0.0,0.0,0.0,0.0,0.0]|\n",
      "|  0.0|       0.0|[1.0,0.0,0.0,0.0,0.0,0.0]|\n",
      "|  0.0|       0.0|[1.0,0.0,0.0,0.0,0.0,0.0]|\n",
      "|  0.0|       0.0|[1.0,0.0,0.0,0.0,0.0,0.0]|\n",
      "|  0.0|       0.0|[1.0,0.0,0.0,0.0,0.0,0.0]|\n",
      "|  0.0|       0.0|[1.0,0.0,0.0,0.0,0.0,0.0]|\n",
      "|  0.0|       0.0|[1.0,0.0,0.0,0.0,0.0,0.0]|\n",
      "|  0.0|       0.0|[1.0,0.0,0.0,0.0,0.0,0.0]|\n",
      "|  0.0|       0.0|[1.0,0.0,0.0,0.0,0.0,0.0]|\n",
      "+-----+----------+-------------------------+\n",
      "only showing top 20 rows\n",
      "\n"
     ]
    }
   ],
   "source": [
    "predictions_nb_stock.select(\n",
    "    \"label\", \"prediction\", \"probability\").show(truncate=35)"
   ]
  },
  {
   "cell_type": "code",
   "execution_count": 64,
   "id": "0c74a66b",
   "metadata": {
    "hidden": true
   },
   "outputs": [
    {
     "name": "stdout",
     "output_type": "stream",
     "text": [
      "Model Accuracy:  0.5419976463665784\n"
     ]
    }
   ],
   "source": [
    "evaluator = MulticlassClassificationEvaluator(\n",
    "    labelCol=\"label\", predictionCol=\"prediction\",\n",
    "    metricName=\"accuracy\")\n",
    "\n",
    "accuracy = evaluator.evaluate(predictions_nb_stock)\n",
    "print (\"Model Accuracy: \", accuracy)"
   ]
  },
  {
   "cell_type": "code",
   "execution_count": 65,
   "id": "ddbba7f5",
   "metadata": {
    "hidden": true
   },
   "outputs": [
    {
     "name": "stdout",
     "output_type": "stream",
     "text": [
      "+-----+----------+-----------------------------------+\n",
      "|label|prediction|                        probability|\n",
      "+-----+----------+-----------------------------------+\n",
      "|  0.0|       5.0|[0.14831209582688593,0.0,1.81635...|\n",
      "|  0.0|       5.0|[0.0012130752660390657,0.0,1.340...|\n",
      "|  0.0|       5.0|[2.0811068679618525E-20,0.0,6.23...|\n",
      "|  0.0|       5.0|[5.150912625894955E-6,0.0,2.1943...|\n",
      "|  0.0|       5.0|[0.006441697892105662,0.0,7.4783...|\n",
      "|  0.0|       5.0|[4.224907220846558E-8,0.0,7.4703...|\n",
      "|  0.0|       5.0|[0.14693346283385614,0.0,1.85048...|\n",
      "|  0.0|       5.0|[0.13740555403924157,0.0,1.56970...|\n",
      "|  0.0|       5.0|[7.026949904971718E-21,0.0,8.549...|\n",
      "|  0.0|       5.0|[1.1928690060986805E-7,0.0,4.882...|\n",
      "|  0.0|       5.0|[4.730261776721211E-4,0.0,4.2184...|\n",
      "|  0.0|       5.0|[4.709785501754925E-13,0.0,5.481...|\n",
      "|  0.0|       5.0|[0.2574709622358075,0.0,1.045927...|\n",
      "|  0.0|       5.0|[4.8150313774942965E-6,0.0,3.669...|\n",
      "|  0.0|       5.0|[4.152663722303897E-4,0.0,1.1149...|\n",
      "|  0.0|       5.0|[1.4093363611546503E-27,0.0,5.04...|\n",
      "|  0.0|       5.0|[5.562794718163174E-11,0.0,5.336...|\n",
      "|  0.0|       5.0|[2.0166795867886833E-6,0.0,3.254...|\n",
      "|  0.0|       5.0|[2.726626125876569E-18,0.0,1.250...|\n",
      "|  0.0|       5.0|[3.633514346643591E-5,0.0,8.9448...|\n",
      "+-----+----------+-----------------------------------+\n",
      "only showing top 20 rows\n",
      "\n"
     ]
    }
   ],
   "source": [
    "predictions_nb_stock.filter('label != prediction').select(\n",
    "    \"label\", \"prediction\", \"probability\").show(truncate=35)"
   ]
  },
  {
   "cell_type": "code",
   "execution_count": 66,
   "id": "c7e9118a",
   "metadata": {
    "hidden": true
   },
   "outputs": [
    {
     "name": "stdout",
     "output_type": "stream",
     "text": [
      "DenseMatrix([[1.777e+03, 0.000e+00, 1.660e+02, 5.300e+01, 0.000e+00, 2.700e+02],\n",
      "             [0.000e+00, 2.012e+03, 0.000e+00, 0.000e+00, 2.540e+02, 0.000e+00],\n",
      "             [2.000e+02, 0.000e+00, 8.550e+02, 5.650e+02, 1.000e+00, 6.450e+02],\n",
      "             [1.160e+02, 0.000e+00, 4.950e+02, 1.059e+03, 2.470e+02, 3.490e+02],\n",
      "             [3.200e+01, 1.690e+02, 1.280e+02, 5.780e+02, 1.278e+03, 8.100e+01],\n",
      "             [1.215e+03, 0.000e+00, 2.350e+02, 3.710e+02, 5.700e+01, 3.880e+02]])\n"
     ]
    }
   ],
   "source": [
    "predictionAndLabel = predictions_nb_stock.select(\"prediction\", \"label\").rdd\n",
    "\n",
    "metrics = MulticlassMetrics(predictionAndLabel)\n",
    "\n",
    "print(metrics.confusionMatrix())"
   ]
  },
  {
   "cell_type": "markdown",
   "id": "837fbfbd",
   "metadata": {
    "heading_collapsed": true,
    "hidden": true
   },
   "source": [
    "### 70/30 Split"
   ]
  },
  {
   "cell_type": "code",
   "execution_count": 67,
   "id": "2cbb47f3",
   "metadata": {
    "hidden": true
   },
   "outputs": [
    {
     "data": {
      "text/plain": [
       "(9394, 4202)"
      ]
     },
     "execution_count": 67,
     "metadata": {},
     "output_type": "execute_result"
    }
   ],
   "source": [
    "df_stock_trainData, df_stock_testData = stocksDF.randomSplit(\n",
    "    [0.7, 0.3], seed = 2964)\n",
    "\n",
    "(df_stock_trainData.count(), df_stock_testData.count())"
   ]
  },
  {
   "cell_type": "code",
   "execution_count": 68,
   "id": "8fde631e",
   "metadata": {
    "hidden": true
   },
   "outputs": [],
   "source": [
    "# Convert target into numerical categories\n",
    "stock_indexer = StringIndexer(\n",
    "    inputCol=\"Stock\", outputCol=\"label\")"
   ]
  },
  {
   "cell_type": "code",
   "execution_count": 69,
   "id": "647c74ed",
   "metadata": {
    "hidden": true
   },
   "outputs": [],
   "source": [
    "cols = ['Open','High','Low','Close','Volume']\n",
    "\n",
    "df_assembler = VectorAssembler(\n",
    "    inputCols=cols, \n",
    "    outputCol=\"features\")"
   ]
  },
  {
   "cell_type": "code",
   "execution_count": 70,
   "id": "adc23844",
   "metadata": {
    "hidden": true
   },
   "outputs": [],
   "source": [
    "# NaiveBayes model\n",
    "# Regularize NaiveBayes - additive smoothing (Laplace smoothing)\n",
    "\n",
    "nb_stock = NaiveBayes(smoothing=1.0, modelType=\"multinomial\")"
   ]
  },
  {
   "cell_type": "code",
   "execution_count": 71,
   "id": "e3dfefb7",
   "metadata": {
    "hidden": true
   },
   "outputs": [],
   "source": [
    "# Chain label indexer, vector assembler and model in a pipeline\n",
    "pipeline_nb_stock = Pipeline(\n",
    "    stages= [stock_indexer, df_assembler, nb_stock])"
   ]
  },
  {
   "cell_type": "code",
   "execution_count": 72,
   "id": "e095849e",
   "metadata": {
    "hidden": true
   },
   "outputs": [],
   "source": [
    "# train the model\n",
    "\n",
    "model_nb_stock = pipeline_nb_stock.fit(df_stock_trainData)"
   ]
  },
  {
   "cell_type": "code",
   "execution_count": 73,
   "id": "04f7af28",
   "metadata": {
    "hidden": true
   },
   "outputs": [
    {
     "name": "stdout",
     "output_type": "stream",
     "text": [
      "root\n",
      " |-- Stock: string (nullable = true)\n",
      " |-- Date: string (nullable = true)\n",
      " |-- Open: double (nullable = true)\n",
      " |-- High: double (nullable = true)\n",
      " |-- Low: double (nullable = true)\n",
      " |-- Close: double (nullable = true)\n",
      " |-- Volume: integer (nullable = true)\n",
      " |-- label: double (nullable = false)\n",
      " |-- features: vector (nullable = true)\n",
      " |-- rawPrediction: vector (nullable = true)\n",
      " |-- probability: vector (nullable = true)\n",
      " |-- prediction: double (nullable = false)\n",
      "\n"
     ]
    }
   ],
   "source": [
    "# predict on test data\n",
    "predictions_nb_stock = model_nb_stock.transform(df_stock_testData)\n",
    "\n",
    "predictions_nb_stock.printSchema()"
   ]
  },
  {
   "cell_type": "code",
   "execution_count": 74,
   "id": "d1ed4f6b",
   "metadata": {
    "hidden": true
   },
   "outputs": [
    {
     "name": "stdout",
     "output_type": "stream",
     "text": [
      "+-----+----------+-------------------------+\n",
      "|label|prediction|              probability|\n",
      "+-----+----------+-------------------------+\n",
      "|  4.0|       4.0|[0.0,0.0,0.0,0.0,1.0,0.0]|\n",
      "|  4.0|       4.0|[0.0,0.0,0.0,0.0,1.0,0.0]|\n",
      "|  4.0|       4.0|[0.0,0.0,0.0,0.0,1.0,0.0]|\n",
      "|  4.0|       4.0|[0.0,0.0,0.0,0.0,1.0,0.0]|\n",
      "|  4.0|       4.0|[0.0,0.0,0.0,0.0,1.0,0.0]|\n",
      "|  4.0|       4.0|[0.0,0.0,0.0,0.0,1.0,0.0]|\n",
      "|  4.0|       4.0|[0.0,0.0,0.0,0.0,1.0,0.0]|\n",
      "|  4.0|       4.0|[0.0,0.0,0.0,0.0,1.0,0.0]|\n",
      "|  4.0|       4.0|[0.0,0.0,0.0,0.0,1.0,0.0]|\n",
      "|  4.0|       4.0|[0.0,0.0,0.0,0.0,1.0,0.0]|\n",
      "|  4.0|       4.0|[0.0,0.0,0.0,0.0,1.0,0.0]|\n",
      "|  4.0|       4.0|[0.0,0.0,0.0,0.0,1.0,0.0]|\n",
      "|  4.0|       4.0|[0.0,0.0,0.0,0.0,1.0,0.0]|\n",
      "|  4.0|       4.0|[0.0,0.0,0.0,0.0,1.0,0.0]|\n",
      "|  4.0|       4.0|[0.0,0.0,0.0,0.0,1.0,0.0]|\n",
      "|  4.0|       4.0|[0.0,0.0,0.0,0.0,1.0,0.0]|\n",
      "|  4.0|       4.0|[0.0,0.0,0.0,0.0,1.0,0.0]|\n",
      "|  4.0|       4.0|[0.0,0.0,0.0,0.0,1.0,0.0]|\n",
      "|  4.0|       4.0|[0.0,0.0,0.0,0.0,1.0,0.0]|\n",
      "|  4.0|       4.0|[0.0,0.0,0.0,0.0,1.0,0.0]|\n",
      "+-----+----------+-------------------------+\n",
      "only showing top 20 rows\n",
      "\n"
     ]
    }
   ],
   "source": [
    "predictions_nb_stock.select(\n",
    "    \"label\", \"prediction\", \"probability\").show(truncate=35)"
   ]
  },
  {
   "cell_type": "code",
   "execution_count": 75,
   "id": "6a33991c",
   "metadata": {
    "hidden": true
   },
   "outputs": [
    {
     "name": "stdout",
     "output_type": "stream",
     "text": [
      "Model Accuracy:  0.5449785816277963\n"
     ]
    }
   ],
   "source": [
    "evaluator = MulticlassClassificationEvaluator(\n",
    "    labelCol=\"label\", predictionCol=\"prediction\",\n",
    "    metricName=\"accuracy\")\n",
    "\n",
    "accuracy = evaluator.evaluate(predictions_nb_stock)\n",
    "print (\"Model Accuracy: \", accuracy)"
   ]
  },
  {
   "cell_type": "code",
   "execution_count": 76,
   "id": "29490c5c",
   "metadata": {
    "hidden": true
   },
   "outputs": [
    {
     "name": "stdout",
     "output_type": "stream",
     "text": [
      "+-----+----------+-----------------------------------+\n",
      "|label|prediction|                        probability|\n",
      "+-----+----------+-----------------------------------+\n",
      "|  4.0|       3.0|[0.0,2.7267368127336284E-156,2.0...|\n",
      "|  4.0|       3.0|[0.0,1.562742892095922E-178,1.89...|\n",
      "|  4.0|       3.0|[0.0,1.630878046581609E-179,1.59...|\n",
      "|  4.0|       3.0|[0.0,1.526617123358556E-117,4.76...|\n",
      "|  4.0|       3.0|[0.0,8.420889060991524E-95,1.567...|\n",
      "|  4.0|       3.0|[0.0,4.1983227513940396E-144,1.0...|\n",
      "|  4.0|       3.0|[0.0,3.4434792556698826E-186,4.7...|\n",
      "|  4.0|       3.0|[0.0,2.3173946414848766E-203,1.4...|\n",
      "|  4.0|       3.0|[0.0,1.2031344230437347E-196,1.5...|\n",
      "|  4.0|       3.0|[0.0,2.4969812208243818E-186,4.6...|\n",
      "|  4.0|       3.0|[0.0,2.6786167818794207E-162,2.0...|\n",
      "|  4.0|       3.0|[0.0,3.733598970477227E-187,6.55...|\n",
      "|  4.0|       3.0|[0.0,1.2847385823155298E-158,8.4...|\n",
      "|  4.0|       3.0|[0.0,2.4170474023694032E-173,2.2...|\n",
      "|  4.0|       3.0|[0.0,1.6015427492266136E-204,1.3...|\n",
      "|  4.0|       3.0|[0.0,3.1852804713527465E-156,1.1...|\n",
      "|  4.0|       3.0|[0.0,1.0119157046105397E-165,1.0...|\n",
      "|  4.0|       3.0|[0.0,2.7992730469173485E-161,3.3...|\n",
      "|  4.0|       3.0|[0.0,2.487192802040239E-151,4.09...|\n",
      "|  4.0|       3.0|[0.0,1.1120087772161634E-169,6.0...|\n",
      "+-----+----------+-----------------------------------+\n",
      "only showing top 20 rows\n",
      "\n"
     ]
    }
   ],
   "source": [
    "predictions_nb_stock.filter('label != prediction').select(\n",
    "    \"label\", \"prediction\", \"probability\").show(truncate=35)"
   ]
  },
  {
   "cell_type": "code",
   "execution_count": 77,
   "id": "99cc9927",
   "metadata": {
    "hidden": true
   },
   "outputs": [
    {
     "name": "stdout",
     "output_type": "stream",
     "text": [
      "DenseMatrix([[591.,   0.,   0.,   0.,   0.,  74.],\n",
      "             [  0., 320., 145., 113.,  30.,  73.],\n",
      "             [  0., 181., 261., 189.,  68.,   1.],\n",
      "             [  0., 125.,  77., 133., 360.,  12.],\n",
      "             [  0.,  15.,  55.,  81., 565.,   0.],\n",
      "             [ 55., 180.,  42.,  29.,   7., 420.]])\n"
     ]
    }
   ],
   "source": [
    "predictionAndLabel = predictions_nb_stock.select(\"prediction\", \"label\").rdd\n",
    "\n",
    "metrics = MulticlassMetrics(predictionAndLabel)\n",
    "\n",
    "print(metrics.confusionMatrix())"
   ]
  },
  {
   "cell_type": "markdown",
   "id": "c7376b25",
   "metadata": {
    "heading_collapsed": true
   },
   "source": [
    "# Question 4"
   ]
  },
  {
   "cell_type": "markdown",
   "id": "d3f5c6f2",
   "metadata": {
    "heading_collapsed": true,
    "hidden": true
   },
   "source": [
    "### Entire Dataset"
   ]
  },
  {
   "cell_type": "code",
   "execution_count": 86,
   "id": "191229ad",
   "metadata": {
    "hidden": true
   },
   "outputs": [
    {
     "name": "stdout",
     "output_type": "stream",
     "text": [
      "+-----+---------+\n",
      "|Stock|Stock_Num|\n",
      "+-----+---------+\n",
      "|AAPL |0.0      |\n",
      "|AAPL |0.0      |\n",
      "|AAPL |0.0      |\n",
      "|AAPL |0.0      |\n",
      "|AAPL |0.0      |\n",
      "|AAPL |0.0      |\n",
      "+-----+---------+\n",
      "only showing top 6 rows\n",
      "\n"
     ]
    }
   ],
   "source": [
    "stock_indexer = StringIndexer(\n",
    "    inputCols =[\"Stock\"], \n",
    "    outputCols=[\"Stock_Num\"])\n",
    "\n",
    "df = stock_indexer.fit(stocksDF).transform(stocksDF)\n",
    "df.select('Stock', 'Stock_Num').show(6,False)"
   ]
  },
  {
   "cell_type": "code",
   "execution_count": 87,
   "id": "451873a8",
   "metadata": {
    "hidden": true
   },
   "outputs": [
    {
     "name": "stdout",
     "output_type": "stream",
     "text": [
      "+------------------------------------+-----+---------+\n",
      "|features                            |Stock|Stock_Num|\n",
      "+------------------------------------+-----+---------+\n",
      "|[19.78,19.82,19.34,16.96,5.60518E8] |AAPL |0.0      |\n",
      "|[19.57,19.63,19.32,16.75,3.529652E8]|AAPL |0.0      |\n",
      "|[19.18,19.24,18.78,16.28,5.943336E8]|AAPL |0.0      |\n",
      "|[18.64,18.9,18.4,16.18,4.841564E8]  |AAPL |0.0      |\n",
      "|[18.9,19.0,18.62,16.23,4.587072E8]  |AAPL |0.0      |\n",
      "|[18.66,18.75,18.43,15.97,4.076044E8]|AAPL |0.0      |\n",
      "+------------------------------------+-----+---------+\n",
      "only showing top 6 rows\n",
      "\n"
     ]
    }
   ],
   "source": [
    "cols = ['Open','High','Low','Close','Volume']\n",
    "\n",
    "df_assembler = VectorAssembler(\n",
    "    inputCols=cols, \n",
    "    outputCol=\"features\")\n",
    "\n",
    "df = df_assembler.transform(df)\n",
    "model_df = df.select(['features','Stock','Stock_Num'])\n",
    "\n",
    "model_df.show(6, False)"
   ]
  },
  {
   "cell_type": "code",
   "execution_count": 88,
   "id": "f84485f9",
   "metadata": {
    "hidden": true
   },
   "outputs": [],
   "source": [
    "dt = DecisionTreeClassifier(labelCol=\"Stock_Num\", featuresCol=\"features\")\n",
    "train_results = dt.fit(model_df)"
   ]
  },
  {
   "cell_type": "code",
   "execution_count": 89,
   "id": "800c2f87",
   "metadata": {
    "hidden": true
   },
   "outputs": [
    {
     "data": {
      "text/plain": [
       "array([0.42863401, 0.01128468, 0.07909942, 0.02500887, 0.45597301])"
      ]
     },
     "execution_count": 89,
     "metadata": {},
     "output_type": "execute_result"
    }
   ],
   "source": [
    "train_results.featureImportances.toArray()"
   ]
  },
  {
   "cell_type": "code",
   "execution_count": 90,
   "id": "49b6a874",
   "metadata": {
    "hidden": true
   },
   "outputs": [
    {
     "data": {
      "text/plain": [
       "'gini'"
      ]
     },
     "execution_count": 90,
     "metadata": {},
     "output_type": "execute_result"
    }
   ],
   "source": [
    "train_results.getImpurity()"
   ]
  },
  {
   "cell_type": "code",
   "execution_count": 91,
   "id": "5281197a",
   "metadata": {
    "hidden": true
   },
   "outputs": [
    {
     "data": {
      "text/plain": [
       "DataFrame[features: vector, Stock: string, Stock_Num: double, rawPrediction: vector, probability: vector, prediction: double]"
      ]
     },
     "execution_count": 91,
     "metadata": {},
     "output_type": "execute_result"
    }
   ],
   "source": [
    "predictions = train_results.transform(model_df)\n",
    "predictions"
   ]
  },
  {
   "cell_type": "code",
   "execution_count": 92,
   "id": "e0415bd0",
   "metadata": {
    "hidden": true
   },
   "outputs": [
    {
     "name": "stdout",
     "output_type": "stream",
     "text": [
      "+-----+---------+----------+--------------------+\n",
      "|Stock|Stock_Num|prediction|         probability|\n",
      "+-----+---------+----------+--------------------+\n",
      "| AAPL|      0.0|       0.0|[0.91160757649344...|\n",
      "| AAPL|      0.0|       0.0|[0.91160757649344...|\n",
      "| AAPL|      0.0|       0.0|[0.91160757649344...|\n",
      "| AAPL|      0.0|       0.0|[0.91160757649344...|\n",
      "| AAPL|      0.0|       0.0|[0.91160757649344...|\n",
      "| AAPL|      0.0|       0.0|[0.91160757649344...|\n",
      "| AAPL|      0.0|       0.0|[0.91160757649344...|\n",
      "| AAPL|      0.0|       0.0|[0.91160757649344...|\n",
      "| AAPL|      0.0|       0.0|[0.91160757649344...|\n",
      "| AAPL|      0.0|       0.0|[0.91160757649344...|\n",
      "| AAPL|      0.0|       0.0|[0.91160757649344...|\n",
      "| AAPL|      0.0|       0.0|[0.91160757649344...|\n",
      "| AAPL|      0.0|       0.0|[0.91160757649344...|\n",
      "| AAPL|      0.0|       0.0|[0.91160757649344...|\n",
      "| AAPL|      0.0|       0.0|[0.91160757649344...|\n",
      "| AAPL|      0.0|       0.0|[0.91160757649344...|\n",
      "| AAPL|      0.0|       0.0|[0.91160757649344...|\n",
      "| AAPL|      0.0|       0.0|[0.91160757649344...|\n",
      "| AAPL|      0.0|       0.0|[0.91160757649344...|\n",
      "| AAPL|      0.0|       0.0|[0.91160757649344...|\n",
      "+-----+---------+----------+--------------------+\n",
      "only showing top 20 rows\n",
      "\n"
     ]
    }
   ],
   "source": [
    "predictions.select('Stock', 'Stock_Num', \n",
    "                   'prediction', 'probability').show()"
   ]
  },
  {
   "cell_type": "code",
   "execution_count": 93,
   "id": "9ae30e57",
   "metadata": {
    "hidden": true
   },
   "outputs": [
    {
     "name": "stdout",
     "output_type": "stream",
     "text": [
      "+-----+---------+----------+--------------------+\n",
      "|Stock|Stock_Num|prediction|         probability|\n",
      "+-----+---------+----------+--------------------+\n",
      "| AAPL|      0.0|       2.0|[0.01840020444671...|\n",
      "| AAPL|      0.0|       2.0|[0.01840020444671...|\n",
      "| AAPL|      0.0|       2.0|[0.01840020444671...|\n",
      "| AAPL|      0.0|       5.0|[0.04761904761904...|\n",
      "| AAPL|      0.0|       5.0|[0.04761904761904...|\n",
      "| AAPL|      0.0|       2.0|[0.01840020444671...|\n",
      "| AAPL|      0.0|       2.0|[0.01840020444671...|\n",
      "| AAPL|      0.0|       2.0|[0.01840020444671...|\n",
      "| AAPL|      0.0|       2.0|[0.01840020444671...|\n",
      "| AAPL|      0.0|       2.0|[0.01840020444671...|\n",
      "| AAPL|      0.0|       2.0|[0.01840020444671...|\n",
      "| AAPL|      0.0|       2.0|[0.01840020444671...|\n",
      "| AAPL|      0.0|       2.0|[0.01840020444671...|\n",
      "| AAPL|      0.0|       2.0|[0.01840020444671...|\n",
      "| AAPL|      0.0|       2.0|[0.01840020444671...|\n",
      "| AAPL|      0.0|       2.0|[0.01840020444671...|\n",
      "| AAPL|      0.0|       2.0|[0.01840020444671...|\n",
      "| AAPL|      0.0|       2.0|[0.01840020444671...|\n",
      "| AAPL|      0.0|       2.0|[0.01840020444671...|\n",
      "| AAPL|      0.0|       2.0|[0.01840020444671...|\n",
      "+-----+---------+----------+--------------------+\n",
      "only showing top 20 rows\n",
      "\n"
     ]
    }
   ],
   "source": [
    "predictions.select('Stock', 'Stock_Num', \n",
    "                   'prediction', 'probability').filter(\n",
    "    'Stock_Num != prediction').show()"
   ]
  },
  {
   "cell_type": "code",
   "execution_count": 94,
   "id": "d4669d9d",
   "metadata": {
    "hidden": true
   },
   "outputs": [
    {
     "data": {
      "text/plain": [
       "0.7230067666960871"
      ]
     },
     "execution_count": 94,
     "metadata": {},
     "output_type": "execute_result"
    }
   ],
   "source": [
    "evaluator = MulticlassClassificationEvaluator(\n",
    "    labelCol=\"Stock_Num\", predictionCol=\"prediction\", \n",
    "    metricName=\"accuracy\")\n",
    "\n",
    "accuracy = evaluator.evaluate(predictions)\n",
    "accuracy"
   ]
  },
  {
   "cell_type": "code",
   "execution_count": null,
   "id": "b516f5c4",
   "metadata": {
    "hidden": true
   },
   "outputs": [],
   "source": [
    "print(train_results.toDebugString)"
   ]
  },
  {
   "cell_type": "markdown",
   "id": "c08ef2e1",
   "metadata": {
    "heading_collapsed": true,
    "hidden": true
   },
   "source": [
    "### 70/30 Split"
   ]
  },
  {
   "cell_type": "code",
   "execution_count": 95,
   "id": "12ddcfc0",
   "metadata": {
    "hidden": true
   },
   "outputs": [
    {
     "name": "stdout",
     "output_type": "stream",
     "text": [
      "+-----+---------+\n",
      "|Stock|Stock_Num|\n",
      "+-----+---------+\n",
      "|AAPL |0.0      |\n",
      "|AAPL |0.0      |\n",
      "|AAPL |0.0      |\n",
      "|AAPL |0.0      |\n",
      "|AAPL |0.0      |\n",
      "|AAPL |0.0      |\n",
      "+-----+---------+\n",
      "only showing top 6 rows\n",
      "\n"
     ]
    }
   ],
   "source": [
    "stock_indexer = StringIndexer(\n",
    "    inputCols =[\"Stock\"], \n",
    "    outputCols=[\"Stock_Num\"])\n",
    "\n",
    "\n",
    "\n",
    "df = stock_indexer.fit(stocksDF).transform(stocksDF)\n",
    "df.select('Stock', 'Stock_Num').show(6,False)"
   ]
  },
  {
   "cell_type": "code",
   "execution_count": 96,
   "id": "5fd991a9",
   "metadata": {
    "hidden": true
   },
   "outputs": [
    {
     "name": "stdout",
     "output_type": "stream",
     "text": [
      "+------------------------------------+---------+\n",
      "|features                            |Stock_Num|\n",
      "+------------------------------------+---------+\n",
      "|[19.78,19.82,19.34,16.96,5.60518E8] |0.0      |\n",
      "|[19.57,19.63,19.32,16.75,3.529652E8]|0.0      |\n",
      "|[19.18,19.24,18.78,16.28,5.943336E8]|0.0      |\n",
      "|[18.64,18.9,18.4,16.18,4.841564E8]  |0.0      |\n",
      "|[18.9,19.0,18.62,16.23,4.587072E8]  |0.0      |\n",
      "|[18.66,18.75,18.43,15.97,4.076044E8]|0.0      |\n",
      "+------------------------------------+---------+\n",
      "only showing top 6 rows\n",
      "\n"
     ]
    }
   ],
   "source": [
    "cols = ['Open','High','Low','Close','Volume']\n",
    "\n",
    "df_assembler = VectorAssembler(\n",
    "    inputCols=cols, \n",
    "    outputCol=\"features\")\n",
    "\n",
    "df = df_assembler.transform(df)\n",
    "model_df = df.select(['features','Stock_Num'])\n",
    "\n",
    "model_df.show(6, False)"
   ]
  },
  {
   "cell_type": "code",
   "execution_count": 97,
   "id": "63383f1d",
   "metadata": {
    "hidden": true
   },
   "outputs": [],
   "source": [
    "dt = DecisionTreeClassifier(labelCol=\"Stock_Num\", featuresCol=\"features\")"
   ]
  },
  {
   "cell_type": "code",
   "execution_count": 98,
   "id": "5025e73f",
   "metadata": {
    "hidden": true
   },
   "outputs": [
    {
     "data": {
      "text/plain": [
       "(9564, 4032)"
      ]
     },
     "execution_count": 98,
     "metadata": {},
     "output_type": "execute_result"
    }
   ],
   "source": [
    "#split the data into 70/30 ratio for train test purpose\n",
    "\n",
    "train_df, test_df = model_df.randomSplit(\n",
    "    [0.7,0.3], seed = 2964)\n",
    "\n",
    "train_df.count(), test_df.count()"
   ]
  },
  {
   "cell_type": "code",
   "execution_count": 99,
   "id": "7e403dab",
   "metadata": {
    "hidden": true
   },
   "outputs": [],
   "source": [
    "train_results = dt.fit(train_df)"
   ]
  },
  {
   "cell_type": "code",
   "execution_count": 100,
   "id": "f4cce33c",
   "metadata": {
    "hidden": true
   },
   "outputs": [
    {
     "data": {
      "text/plain": [
       "array([0.22682101, 0.00194553, 0.03292276, 0.02631853, 0.71199216])"
      ]
     },
     "execution_count": 100,
     "metadata": {},
     "output_type": "execute_result"
    }
   ],
   "source": [
    "train_results.featureImportances.toArray()"
   ]
  },
  {
   "cell_type": "code",
   "execution_count": 101,
   "id": "20b36394",
   "metadata": {
    "hidden": true
   },
   "outputs": [
    {
     "data": {
      "text/plain": [
       "'gini'"
      ]
     },
     "execution_count": 101,
     "metadata": {},
     "output_type": "execute_result"
    }
   ],
   "source": [
    "train_results.getImpurity()"
   ]
  },
  {
   "cell_type": "code",
   "execution_count": 102,
   "id": "c3c16f15",
   "metadata": {
    "hidden": true
   },
   "outputs": [
    {
     "data": {
      "text/plain": [
       "DataFrame[features: vector, Stock_Num: double, rawPrediction: vector, probability: vector, prediction: double]"
      ]
     },
     "execution_count": 102,
     "metadata": {},
     "output_type": "execute_result"
    }
   ],
   "source": [
    "predictions = train_results.transform(test_df)\n",
    "predictions"
   ]
  },
  {
   "cell_type": "code",
   "execution_count": 103,
   "id": "72e0f3b3",
   "metadata": {
    "hidden": true
   },
   "outputs": [
    {
     "name": "stdout",
     "output_type": "stream",
     "text": [
      "+---------+----------+--------------------+\n",
      "|Stock_Num|prediction|         probability|\n",
      "+---------+----------+--------------------+\n",
      "|      5.0|       5.0|[0.0,0.0,0.0,0.0,...|\n",
      "|      5.0|       5.0|[0.0,0.0,0.0,0.0,...|\n",
      "|      5.0|       5.0|[0.0,0.0,0.0,0.0,...|\n",
      "|      5.0|       5.0|[0.0,0.0,0.0,0.0,...|\n",
      "|      5.0|       5.0|[0.0,0.0,0.0,0.0,...|\n",
      "|      5.0|       5.0|[0.0,0.0,0.0,0.0,...|\n",
      "|      5.0|       5.0|[0.0,0.0,0.0,0.0,...|\n",
      "|      5.0|       5.0|[0.0,0.0,0.0,0.0,...|\n",
      "|      5.0|       5.0|[0.0,0.0,0.0,0.0,...|\n",
      "|      5.0|       5.0|[0.0,0.0,0.0,0.0,...|\n",
      "|      5.0|       5.0|[0.0,0.0,0.0,0.0,...|\n",
      "|      5.0|       5.0|[0.0,0.0,0.0,0.0,...|\n",
      "|      5.0|       5.0|[0.0,0.0,0.0,0.0,...|\n",
      "|      5.0|       5.0|[0.0,0.0,0.0,0.0,...|\n",
      "|      5.0|       5.0|[0.0,0.0,0.0,0.0,...|\n",
      "|      5.0|       5.0|[0.21052631578947...|\n",
      "|      5.0|       5.0|[0.0,0.0,0.0,0.0,...|\n",
      "|      5.0|       5.0|[0.0,0.0,0.0,0.0,...|\n",
      "|      5.0|       5.0|[0.0,0.0,0.0,0.0,...|\n",
      "|      5.0|       5.0|[0.0,0.0,0.0,0.0,...|\n",
      "+---------+----------+--------------------+\n",
      "only showing top 20 rows\n",
      "\n"
     ]
    }
   ],
   "source": [
    "predictions.select('Stock_Num', \n",
    "                   'prediction', 'probability').show()"
   ]
  },
  {
   "cell_type": "code",
   "execution_count": 104,
   "id": "8cd20c41",
   "metadata": {
    "hidden": true
   },
   "outputs": [
    {
     "name": "stdout",
     "output_type": "stream",
     "text": [
      "+---------+----------+--------------------+\n",
      "|Stock_Num|prediction|         probability|\n",
      "+---------+----------+--------------------+\n",
      "|      5.0|       4.0|[0.0,0.0,0.0,0.0,...|\n",
      "|      5.0|       2.0|[0.14285714285714...|\n",
      "|      5.0|       2.0|[0.14285714285714...|\n",
      "|      4.0|       5.0|[0.0,0.0,0.0,0.0,...|\n",
      "|      4.0|       5.0|[0.21052631578947...|\n",
      "|      4.0|       5.0|[0.0,0.0,0.0,0.0,...|\n",
      "|      4.0|       5.0|[0.0,0.0,0.0,0.0,...|\n",
      "|      4.0|       5.0|[0.0,0.0,0.0,0.0,...|\n",
      "|      4.0|       5.0|[0.0,0.0,0.0,0.0,...|\n",
      "|      4.0|       2.0|[0.14285714285714...|\n",
      "|      4.0|       0.0|[0.96986607142857...|\n",
      "|      2.0|       0.0|[0.96986607142857...|\n",
      "|      2.0|       5.0|[0.21052631578947...|\n",
      "|      5.0|       2.0|[0.01359294636296...|\n",
      "|      4.0|       2.0|[0.01359294636296...|\n",
      "|      5.0|       2.0|[0.01359294636296...|\n",
      "|      2.0|       5.0|[0.21052631578947...|\n",
      "|      4.0|       2.0|[0.01359294636296...|\n",
      "|      5.0|       2.0|[0.01359294636296...|\n",
      "|      0.0|       2.0|[0.14285714285714...|\n",
      "+---------+----------+--------------------+\n",
      "only showing top 20 rows\n",
      "\n"
     ]
    }
   ],
   "source": [
    "predictions.select('Stock_Num', \n",
    "                   'prediction', 'probability').filter(\n",
    "    'Stock_Num != prediction').show()"
   ]
  },
  {
   "cell_type": "code",
   "execution_count": 105,
   "id": "6c118cf8",
   "metadata": {
    "hidden": true
   },
   "outputs": [
    {
     "data": {
      "text/plain": [
       "0.7224702380952381"
      ]
     },
     "execution_count": 105,
     "metadata": {},
     "output_type": "execute_result"
    }
   ],
   "source": [
    "evaluator = MulticlassClassificationEvaluator(\n",
    "    labelCol=\"Stock_Num\", predictionCol=\"prediction\", \n",
    "    metricName=\"accuracy\")\n",
    "\n",
    "accuracy = evaluator.evaluate(predictions)\n",
    "accuracy"
   ]
  },
  {
   "cell_type": "code",
   "execution_count": null,
   "id": "9f49e1f8",
   "metadata": {
    "hidden": true
   },
   "outputs": [],
   "source": [
    "print(train_results.toDebugString)"
   ]
  },
  {
   "cell_type": "markdown",
   "id": "91bbb028",
   "metadata": {
    "heading_collapsed": true
   },
   "source": [
    "# Question 5"
   ]
  },
  {
   "cell_type": "markdown",
   "id": "eb2e661f",
   "metadata": {
    "heading_collapsed": true,
    "hidden": true
   },
   "source": [
    "### Entire Dataset"
   ]
  },
  {
   "cell_type": "code",
   "execution_count": 106,
   "id": "2e0f6bdd",
   "metadata": {
    "hidden": true
   },
   "outputs": [
    {
     "name": "stdout",
     "output_type": "stream",
     "text": [
      "+-----+---------+\n",
      "|Stock|Stock_Num|\n",
      "+-----+---------+\n",
      "|AAPL |0.0      |\n",
      "|AAPL |0.0      |\n",
      "|AAPL |0.0      |\n",
      "|AAPL |0.0      |\n",
      "|AAPL |0.0      |\n",
      "|AAPL |0.0      |\n",
      "+-----+---------+\n",
      "only showing top 6 rows\n",
      "\n"
     ]
    }
   ],
   "source": [
    "stock_indexer = StringIndexer(\n",
    "    inputCols =[\"Stock\"], \n",
    "    outputCols=[\"Stock_Num\"])\n",
    "\n",
    "\n",
    "\n",
    "df = stock_indexer.fit(stocksDF).transform(stocksDF)\n",
    "df.select('Stock', 'Stock_Num').show(6,False)"
   ]
  },
  {
   "cell_type": "code",
   "execution_count": 107,
   "id": "2c89665e",
   "metadata": {
    "hidden": true
   },
   "outputs": [
    {
     "name": "stdout",
     "output_type": "stream",
     "text": [
      "root\n",
      " |-- Stock: string (nullable = true)\n",
      " |-- Date: string (nullable = true)\n",
      " |-- Open: double (nullable = true)\n",
      " |-- High: double (nullable = true)\n",
      " |-- Low: double (nullable = true)\n",
      " |-- Close: double (nullable = true)\n",
      " |-- Volume: integer (nullable = true)\n",
      " |-- Stock_Num: double (nullable = false)\n",
      " |-- features: vector (nullable = true)\n",
      "\n"
     ]
    }
   ],
   "source": [
    "cols = ['Open','High','Low','Close','Volume']\n",
    "\n",
    "df_assembler = VectorAssembler(\n",
    "    inputCols=cols, \n",
    "    outputCol=\"features\")\n",
    "\n",
    "df = df_assembler.transform(df)\n",
    "df.printSchema()\n"
   ]
  },
  {
   "cell_type": "code",
   "execution_count": 108,
   "id": "12f18151",
   "metadata": {
    "hidden": true
   },
   "outputs": [
    {
     "name": "stdout",
     "output_type": "stream",
     "text": [
      "+------------------------------------+---------+\n",
      "|features                            |Stock_Num|\n",
      "+------------------------------------+---------+\n",
      "|[19.78,19.82,19.34,16.96,5.60518E8] |0.0      |\n",
      "|[19.57,19.63,19.32,16.75,3.529652E8]|0.0      |\n",
      "|[19.18,19.24,18.78,16.28,5.943336E8]|0.0      |\n",
      "|[18.64,18.9,18.4,16.18,4.841564E8]  |0.0      |\n",
      "|[18.9,19.0,18.62,16.23,4.587072E8]  |0.0      |\n",
      "|[18.66,18.75,18.43,15.97,4.076044E8]|0.0      |\n",
      "+------------------------------------+---------+\n",
      "only showing top 6 rows\n",
      "\n"
     ]
    }
   ],
   "source": [
    "model_df = df.select(['features','Stock_Num'])\n",
    "\n",
    "model_df.show(6, False)"
   ]
  },
  {
   "cell_type": "code",
   "execution_count": 109,
   "id": "5c225971",
   "metadata": {
    "hidden": true
   },
   "outputs": [
    {
     "name": "stdout",
     "output_type": "stream",
     "text": [
      "+---------+-----+\n",
      "|Stock_Num|count|\n",
      "+---------+-----+\n",
      "|      0.0| 2266|\n",
      "|      5.0| 2266|\n",
      "|      1.0| 2266|\n",
      "|      3.0| 2266|\n",
      "|      4.0| 2266|\n",
      "|      2.0| 2266|\n",
      "+---------+-----+\n",
      "\n"
     ]
    }
   ],
   "source": [
    "model_df.groupBy('Stock_Num').count().show()"
   ]
  },
  {
   "cell_type": "code",
   "execution_count": 110,
   "id": "cea208dc",
   "metadata": {
    "hidden": true
   },
   "outputs": [
    {
     "data": {
      "text/plain": [
       "RandomForestClassificationModel: uid=RandomForestClassifier_5a7d97be0419, numTrees=50, numClasses=6, numFeatures=5"
      ]
     },
     "execution_count": 110,
     "metadata": {},
     "output_type": "execute_result"
    }
   ],
   "source": [
    "rf_classifier = RandomForestClassifier(\n",
    "    labelCol='Stock_Num', numTrees=50).fit(model_df)\n",
    "\n",
    "rf_classifier"
   ]
  },
  {
   "cell_type": "code",
   "execution_count": 111,
   "id": "89b86ba4",
   "metadata": {
    "hidden": true
   },
   "outputs": [
    {
     "name": "stdout",
     "output_type": "stream",
     "text": [
      "root\n",
      " |-- features: vector (nullable = true)\n",
      " |-- Stock_Num: double (nullable = false)\n",
      " |-- rawPrediction: vector (nullable = true)\n",
      " |-- probability: vector (nullable = true)\n",
      " |-- prediction: double (nullable = false)\n",
      "\n"
     ]
    }
   ],
   "source": [
    "rf_predictions = rf_classifier.transform(model_df)\n",
    "\n",
    "rf_predictions.printSchema()"
   ]
  },
  {
   "cell_type": "code",
   "execution_count": 112,
   "id": "52b5686a",
   "metadata": {
    "hidden": true
   },
   "outputs": [
    {
     "data": {
      "text/plain": [
       "[Row(features=DenseVector([19.78, 19.82, 19.34, 16.96, 560518000.0]), Stock_Num=0.0, rawPrediction=DenseVector([45.5096, 0.0, 0.7039, 0.7459, 0.1818, 2.8588]), probability=DenseVector([0.9102, 0.0, 0.0141, 0.0149, 0.0036, 0.0572]), prediction=0.0)]"
      ]
     },
     "execution_count": 112,
     "metadata": {},
     "output_type": "execute_result"
    }
   ],
   "source": [
    "rf_predictions.take(1)"
   ]
  },
  {
   "cell_type": "code",
   "execution_count": 113,
   "id": "f9070c3e",
   "metadata": {
    "hidden": true
   },
   "outputs": [
    {
     "name": "stdout",
     "output_type": "stream",
     "text": [
      "+----------+-----+\n",
      "|prediction|count|\n",
      "+----------+-----+\n",
      "|       0.0| 2520|\n",
      "|       5.0|  992|\n",
      "|       3.0| 2135|\n",
      "|       4.0| 1484|\n",
      "|       1.0| 2373|\n",
      "|       2.0| 4092|\n",
      "+----------+-----+\n",
      "\n"
     ]
    }
   ],
   "source": [
    "rf_predictions.groupBy('prediction').count().show()"
   ]
  },
  {
   "cell_type": "code",
   "execution_count": 114,
   "id": "4f5d9a02",
   "metadata": {
    "hidden": true
   },
   "outputs": [
    {
     "data": {
      "text/plain": [
       "3739"
      ]
     },
     "execution_count": 114,
     "metadata": {},
     "output_type": "execute_result"
    }
   ],
   "source": [
    "incorrect_count = rf_predictions.filter(\n",
    "    'Stock_Num != prediction').count()\n",
    "\n",
    "incorrect_count"
   ]
  },
  {
   "cell_type": "code",
   "execution_count": 115,
   "id": "2424bd20",
   "metadata": {
    "hidden": true
   },
   "outputs": [
    {
     "name": "stdout",
     "output_type": "stream",
     "text": [
      "Accuracy = 0.7249926448955575\n"
     ]
    }
   ],
   "source": [
    "print(\"Accuracy =\", 1.0 - incorrect_count/model_df.count())"
   ]
  },
  {
   "cell_type": "code",
   "execution_count": 116,
   "id": "97d444a9",
   "metadata": {
    "hidden": true
   },
   "outputs": [
    {
     "name": "stdout",
     "output_type": "stream",
     "text": [
      "Accuracy = 0.7249926448955575\n"
     ]
    }
   ],
   "source": [
    "# Accuracy\n",
    "\n",
    "rf_accuracy = MulticlassClassificationEvaluator(\n",
    "    labelCol='Stock_Num', \n",
    "    metricName='accuracy').evaluate(rf_predictions)\n",
    "\n",
    "print(\"Accuracy =\", rf_accuracy)"
   ]
  },
  {
   "cell_type": "code",
   "execution_count": 117,
   "id": "5b34cf21",
   "metadata": {
    "hidden": true
   },
   "outputs": [
    {
     "name": "stdout",
     "output_type": "stream",
     "text": [
      "Precision = 0.7792074099803039\n"
     ]
    }
   ],
   "source": [
    "# Precision\n",
    "\n",
    "rf_precision = MulticlassClassificationEvaluator(\n",
    "    labelCol= 'Stock_Num', \n",
    "    metricName='weightedPrecision').evaluate(rf_predictions)\n",
    "\n",
    "print(\"Precision =\", rf_precision)"
   ]
  },
  {
   "cell_type": "code",
   "execution_count": 118,
   "id": "c50dd20b",
   "metadata": {
    "hidden": true
   },
   "outputs": [
    {
     "data": {
      "text/plain": [
       "SparseVector(5, {0: 0.2273, 1: 0.0556, 2: 0.2088, 3: 0.0403, 4: 0.468})"
      ]
     },
     "execution_count": 118,
     "metadata": {},
     "output_type": "execute_result"
    }
   ],
   "source": [
    "rf_classifier.featureImportances"
   ]
  },
  {
   "cell_type": "markdown",
   "id": "f5898a23",
   "metadata": {
    "heading_collapsed": true,
    "hidden": true
   },
   "source": [
    "### 70/30 Split"
   ]
  },
  {
   "cell_type": "code",
   "execution_count": 119,
   "id": "18386fd4",
   "metadata": {
    "hidden": true
   },
   "outputs": [
    {
     "data": {
      "text/plain": [
       "(10086, 3510)"
      ]
     },
     "execution_count": 119,
     "metadata": {},
     "output_type": "execute_result"
    }
   ],
   "source": [
    "# Split the dataset\n",
    "\n",
    "train_df, test_df = model_df.randomSplit(\n",
    "    [0.75,0.25], seed=2964)\n",
    "\n",
    "train_df.count(), test_df.count()"
   ]
  },
  {
   "cell_type": "code",
   "execution_count": 120,
   "id": "af0643f5",
   "metadata": {
    "hidden": true
   },
   "outputs": [
    {
     "data": {
      "text/plain": [
       "RandomForestClassificationModel: uid=RandomForestClassifier_460ef7eae2a8, numTrees=50, numClasses=6, numFeatures=5"
      ]
     },
     "execution_count": 120,
     "metadata": {},
     "output_type": "execute_result"
    }
   ],
   "source": [
    "rf_classifier = RandomForestClassifier(\n",
    "    labelCol='Stock_Num', numTrees=50).fit(train_df)\n",
    "\n",
    "rf_classifier"
   ]
  },
  {
   "cell_type": "code",
   "execution_count": 121,
   "id": "c0d9607e",
   "metadata": {
    "hidden": true
   },
   "outputs": [
    {
     "name": "stdout",
     "output_type": "stream",
     "text": [
      "root\n",
      " |-- features: vector (nullable = true)\n",
      " |-- Stock_Num: double (nullable = false)\n",
      " |-- rawPrediction: vector (nullable = true)\n",
      " |-- probability: vector (nullable = true)\n",
      " |-- prediction: double (nullable = false)\n",
      "\n"
     ]
    }
   ],
   "source": [
    "rf_predictions = rf_classifier.transform(test_df)\n",
    "\n",
    "rf_predictions.printSchema()"
   ]
  },
  {
   "cell_type": "code",
   "execution_count": 122,
   "id": "2432f03f",
   "metadata": {
    "hidden": true
   },
   "outputs": [
    {
     "data": {
      "text/plain": [
       "[Row(features=DenseVector([3.04, 3.04, 3.0, 2.8, 42180800.0]), Stock_Num=5.0, rawPrediction=DenseVector([0.0, 0.0, 0.0, 0.0, 0.4399, 49.5601]), probability=DenseVector([0.0, 0.0, 0.0, 0.0, 0.0088, 0.9912]), prediction=5.0)]"
      ]
     },
     "execution_count": 122,
     "metadata": {},
     "output_type": "execute_result"
    }
   ],
   "source": [
    "rf_predictions.take(1)"
   ]
  },
  {
   "cell_type": "code",
   "execution_count": 123,
   "id": "b9f39a2d",
   "metadata": {
    "hidden": true
   },
   "outputs": [
    {
     "name": "stdout",
     "output_type": "stream",
     "text": [
      "+----------+-----+\n",
      "|prediction|count|\n",
      "+----------+-----+\n",
      "|       5.0|  276|\n",
      "|       0.0|  614|\n",
      "|       4.0|  446|\n",
      "|       3.0|  542|\n",
      "|       1.0|  596|\n",
      "|       2.0| 1036|\n",
      "+----------+-----+\n",
      "\n"
     ]
    }
   ],
   "source": [
    "rf_predictions.groupBy('prediction').count().show()"
   ]
  },
  {
   "cell_type": "code",
   "execution_count": 124,
   "id": "bb6557c8",
   "metadata": {
    "hidden": true
   },
   "outputs": [
    {
     "data": {
      "text/plain": [
       "959"
      ]
     },
     "execution_count": 124,
     "metadata": {},
     "output_type": "execute_result"
    }
   ],
   "source": [
    "incorrect_count = rf_predictions.filter(\n",
    "    'Stock_Num != prediction').count()\n",
    "\n",
    "incorrect_count"
   ]
  },
  {
   "cell_type": "code",
   "execution_count": 125,
   "id": "3a0db21c",
   "metadata": {
    "hidden": true
   },
   "outputs": [
    {
     "name": "stdout",
     "output_type": "stream",
     "text": [
      "Accuracy = 0.7267806267806267\n"
     ]
    }
   ],
   "source": [
    "print(\"Accuracy =\", 1.0 - incorrect_count/test_df.count())"
   ]
  },
  {
   "cell_type": "code",
   "execution_count": 126,
   "id": "37dba378",
   "metadata": {
    "hidden": true
   },
   "outputs": [
    {
     "name": "stdout",
     "output_type": "stream",
     "text": [
      "Accuracy = 0.7267806267806268\n"
     ]
    }
   ],
   "source": [
    "# Accuracy\n",
    "\n",
    "rf_accuracy = MulticlassClassificationEvaluator(\n",
    "    labelCol='Stock_Num', \n",
    "    metricName='accuracy').evaluate(rf_predictions)\n",
    "\n",
    "print(\"Accuracy =\", rf_accuracy)"
   ]
  },
  {
   "cell_type": "code",
   "execution_count": 127,
   "id": "276dfcc6",
   "metadata": {
    "hidden": true
   },
   "outputs": [
    {
     "name": "stdout",
     "output_type": "stream",
     "text": [
      "Precision = 0.7733625703014266\n"
     ]
    }
   ],
   "source": [
    "# Precision\n",
    "\n",
    "rf_precision = MulticlassClassificationEvaluator(\n",
    "    labelCol= 'Stock_Num', \n",
    "    metricName='weightedPrecision').evaluate(rf_predictions)\n",
    "\n",
    "print(\"Precision =\", rf_precision)"
   ]
  },
  {
   "cell_type": "code",
   "execution_count": 128,
   "id": "9e56eb27",
   "metadata": {
    "hidden": true
   },
   "outputs": [
    {
     "data": {
      "text/plain": [
       "SparseVector(5, {0: 0.1739, 1: 0.0515, 2: 0.205, 3: 0.118, 4: 0.4516})"
      ]
     },
     "execution_count": 128,
     "metadata": {},
     "output_type": "execute_result"
    }
   ],
   "source": [
    "rf_classifier.featureImportances"
   ]
  },
  {
   "cell_type": "markdown",
   "id": "1abb0289",
   "metadata": {
    "heading_collapsed": true
   },
   "source": [
    "# Question 6"
   ]
  },
  {
   "cell_type": "markdown",
   "id": "19ac1ea7",
   "metadata": {
    "heading_collapsed": true,
    "hidden": true
   },
   "source": [
    "### 6 Clusters"
   ]
  },
  {
   "cell_type": "code",
   "execution_count": 134,
   "id": "fd7297ea",
   "metadata": {
    "hidden": true
   },
   "outputs": [
    {
     "name": "stdout",
     "output_type": "stream",
     "text": [
      "+-----+-----+-----+-----+-----+\n",
      "|Open |High |Low  |Close|Stock|\n",
      "+-----+-----+-----+-----+-----+\n",
      "|19.78|19.82|19.34|16.96|AAPL |\n",
      "|19.57|19.63|19.32|16.75|AAPL |\n",
      "|19.18|19.24|18.78|16.28|AAPL |\n",
      "|18.64|18.9 |18.4 |16.18|AAPL |\n",
      "|18.9 |19.0 |18.62|16.23|AAPL |\n",
      "|18.66|18.75|18.43|15.97|AAPL |\n",
      "+-----+-----+-----+-----+-----+\n",
      "only showing top 6 rows\n",
      "\n"
     ]
    }
   ],
   "source": [
    "model_df = stocksDF.select(['Open','High','Low','Close','Stock'])\n",
    "\n",
    "model_df.show(6, False)"
   ]
  },
  {
   "cell_type": "code",
   "execution_count": 135,
   "id": "9bd85f43",
   "metadata": {
    "hidden": true
   },
   "outputs": [],
   "source": [
    "cols = ['Open','High','Low','Close']\n",
    "\n",
    "df_assembler = VectorAssembler(\n",
    "    inputCols=cols, \n",
    "    outputCol=\"features\")\n",
    "\n",
    "kmeans = KMeans(k=6, seed=1)\n",
    "\n",
    "pipeline = Pipeline(stages = [df_assembler, kmeans])"
   ]
  },
  {
   "cell_type": "code",
   "execution_count": 136,
   "id": "b35568be",
   "metadata": {
    "hidden": true
   },
   "outputs": [],
   "source": [
    "pipeline_model = pipeline.fit(model_df)"
   ]
  },
  {
   "cell_type": "code",
   "execution_count": 137,
   "id": "b8b4836e",
   "metadata": {
    "hidden": true
   },
   "outputs": [
    {
     "data": {
      "text/plain": [
       "[array([60.47827716, 61.18701626, 59.75361519, 58.38042228]),\n",
       " array([1790.30845238, 1813.6739881 , 1772.22708333, 1792.7814881 ]),\n",
       " array([750.52237037, 756.29638519, 744.10742222, 750.42688889]),\n",
       " array([2693.33382514, 2714.8073224 , 2671.9020765 , 2694.82513661]),\n",
       " array([1185.55651389, 1197.96116667, 1173.91720833, 1186.58229167]),\n",
       " array([417.55207151, 422.43835414, 412.3369126 , 417.4711294 ])]"
      ]
     },
     "execution_count": 137,
     "metadata": {},
     "output_type": "execute_result"
    }
   ],
   "source": [
    "centers = pipeline_model.stages[-1].clusterCenters()\n",
    "\n",
    "centers"
   ]
  },
  {
   "cell_type": "code",
   "execution_count": 138,
   "id": "a152b963",
   "metadata": {
    "hidden": true
   },
   "outputs": [
    {
     "name": "stdout",
     "output_type": "stream",
     "text": [
      "root\n",
      " |-- Open: double (nullable = true)\n",
      " |-- High: double (nullable = true)\n",
      " |-- Low: double (nullable = true)\n",
      " |-- Close: double (nullable = true)\n",
      " |-- Stock: string (nullable = true)\n",
      " |-- features: vector (nullable = true)\n",
      " |-- prediction: integer (nullable = false)\n",
      "\n"
     ]
    }
   ],
   "source": [
    "predictions = pipeline_model.transform(model_df)\n",
    "\n",
    "predictions.printSchema()"
   ]
  },
  {
   "cell_type": "code",
   "execution_count": 139,
   "id": "0dc14b54",
   "metadata": {
    "hidden": true
   },
   "outputs": [
    {
     "name": "stdout",
     "output_type": "stream",
     "text": [
      "+-----+-----+\n",
      "|Stock|count|\n",
      "+-----+-----+\n",
      "| MSFT| 2266|\n",
      "| NFLX| 2266|\n",
      "| INTC| 2266|\n",
      "| NVDA| 2266|\n",
      "| AAPL| 2266|\n",
      "| GOOG| 2266|\n",
      "+-----+-----+\n",
      "\n"
     ]
    }
   ],
   "source": [
    "model_df.groupBy('Stock').count().show()"
   ]
  },
  {
   "cell_type": "code",
   "execution_count": 140,
   "id": "a8e5654c",
   "metadata": {
    "hidden": true
   },
   "outputs": [
    {
     "name": "stdout",
     "output_type": "stream",
     "text": [
      "+----------+-----+\n",
      "|prediction|count|\n",
      "+----------+-----+\n",
      "|         5| 1759|\n",
      "|         2|  672|\n",
      "|         4|  711|\n",
      "|         1|  180|\n",
      "|         0|10088|\n",
      "|         3|  186|\n",
      "+----------+-----+\n",
      "\n"
     ]
    }
   ],
   "source": [
    "predictions.groupBy('prediction').count().show()"
   ]
  },
  {
   "cell_type": "code",
   "execution_count": 141,
   "id": "57e355c5",
   "metadata": {
    "hidden": true
   },
   "outputs": [
    {
     "name": "stdout",
     "output_type": "stream",
     "text": [
      "+----------+----+----+----+----+----+----+\n",
      "|prediction|AAPL|GOOG|INTC|MSFT|NFLX|NVDA|\n",
      "+----------+----+----+----+----+----+----+\n",
      "|         2|null| 593|null|null|  79|null|\n",
      "|         5|null| 596|null| 203| 914|  46|\n",
      "|         4|null| 711|null|null|null|null|\n",
      "|         1|null| 180|null|null|null|null|\n",
      "|         0|2266|null|2266|2063|1273|2220|\n",
      "|         3|null| 186|null|null|null|null|\n",
      "+----------+----+----+----+----+----+----+\n",
      "\n"
     ]
    }
   ],
   "source": [
    "predictions.groupBy('prediction').pivot(\n",
    "    'Stock').count().show()"
   ]
  },
  {
   "cell_type": "code",
   "execution_count": 142,
   "id": "8028d3cb",
   "metadata": {
    "hidden": true
   },
   "outputs": [
    {
     "name": "stdout",
     "output_type": "stream",
     "text": [
      "Silhouette with squared euclidean distance = 0.8788389225356115\n"
     ]
    }
   ],
   "source": [
    "# Evaluate clustering by computing Silhouette score\n",
    "\n",
    "evaluator = ClusteringEvaluator()\n",
    "\n",
    "silhouette = evaluator.evaluate(predictions)\n",
    "\n",
    "print(\"Silhouette with squared euclidean distance =\",\n",
    "      str(silhouette))"
   ]
  },
  {
   "cell_type": "code",
   "execution_count": 145,
   "id": "bc433755",
   "metadata": {
    "hidden": true
   },
   "outputs": [
    {
     "data": {
      "text/html": [
       "<div>\n",
       "<style scoped>\n",
       "    .dataframe tbody tr th:only-of-type {\n",
       "        vertical-align: middle;\n",
       "    }\n",
       "\n",
       "    .dataframe tbody tr th {\n",
       "        vertical-align: top;\n",
       "    }\n",
       "\n",
       "    .dataframe thead th {\n",
       "        text-align: right;\n",
       "    }\n",
       "</style>\n",
       "<table border=\"1\" class=\"dataframe\">\n",
       "  <thead>\n",
       "    <tr style=\"text-align: right;\">\n",
       "      <th></th>\n",
       "      <th>Open</th>\n",
       "      <th>Close</th>\n",
       "      <th>Stock</th>\n",
       "      <th>prediction</th>\n",
       "    </tr>\n",
       "  </thead>\n",
       "  <tbody>\n",
       "    <tr>\n",
       "      <th>0</th>\n",
       "      <td>19.78</td>\n",
       "      <td>16.96</td>\n",
       "      <td>AAPL</td>\n",
       "      <td>0</td>\n",
       "    </tr>\n",
       "    <tr>\n",
       "      <th>1</th>\n",
       "      <td>19.57</td>\n",
       "      <td>16.75</td>\n",
       "      <td>AAPL</td>\n",
       "      <td>0</td>\n",
       "    </tr>\n",
       "    <tr>\n",
       "      <th>2</th>\n",
       "      <td>19.18</td>\n",
       "      <td>16.28</td>\n",
       "      <td>AAPL</td>\n",
       "      <td>0</td>\n",
       "    </tr>\n",
       "    <tr>\n",
       "      <th>3</th>\n",
       "      <td>18.64</td>\n",
       "      <td>16.18</td>\n",
       "      <td>AAPL</td>\n",
       "      <td>0</td>\n",
       "    </tr>\n",
       "    <tr>\n",
       "      <th>4</th>\n",
       "      <td>18.90</td>\n",
       "      <td>16.23</td>\n",
       "      <td>AAPL</td>\n",
       "      <td>0</td>\n",
       "    </tr>\n",
       "  </tbody>\n",
       "</table>\n",
       "</div>"
      ],
      "text/plain": [
       "    Open  Close Stock  prediction\n",
       "0  19.78  16.96  AAPL           0\n",
       "1  19.57  16.75  AAPL           0\n",
       "2  19.18  16.28  AAPL           0\n",
       "3  18.64  16.18  AAPL           0\n",
       "4  18.90  16.23  AAPL           0"
      ]
     },
     "execution_count": 145,
     "metadata": {},
     "output_type": "execute_result"
    }
   ],
   "source": [
    "pandasDF = predictions.select(\n",
    "    'Open','Close','Stock', \n",
    "    'prediction').toPandas()\n",
    "\n",
    "pandasDF.head(5)"
   ]
  },
  {
   "cell_type": "code",
   "execution_count": 146,
   "id": "8ba0068c",
   "metadata": {
    "hidden": true,
    "scrolled": true
   },
   "outputs": [
    {
     "data": {
      "image/png": "[encoded data removed]",
      "text/plain": [
       "<Figure size 427x360 with 1 Axes>"
      ]
     },
     "metadata": {},
     "output_type": "display_data"
    }
   ],
   "source": [
    "sns.relplot(x=\"Open\", y=\"Close\", hue=\"Stock\", \n",
    "            style=\"prediction\", \n",
    "            size=\"prediction\",\n",
    "            data=pandasDF);\n",
    "\n",
    "plt.scatter([c[0] for c in centers], \n",
    "            [c[1] for c in centers], \n",
    "            c='red', s=64, alpha=0.8);"
   ]
  },
  {
   "cell_type": "markdown",
   "id": "56deb4c6",
   "metadata": {
    "heading_collapsed": true,
    "hidden": true
   },
   "source": [
    "### 2 Clusters"
   ]
  },
  {
   "cell_type": "code",
   "execution_count": 147,
   "id": "32b34e88",
   "metadata": {
    "hidden": true
   },
   "outputs": [],
   "source": [
    "cols = ['Open','High','Low','Close']\n",
    "\n",
    "df_assembler = VectorAssembler(\n",
    "    inputCols=cols, \n",
    "    outputCol=\"features\")\n",
    "\n",
    "kmeans = KMeans(k=2, seed=1)\n",
    "\n",
    "pipeline = Pipeline(stages = [df_assembler, kmeans])"
   ]
  },
  {
   "cell_type": "code",
   "execution_count": 148,
   "id": "bb6be449",
   "metadata": {
    "hidden": true
   },
   "outputs": [],
   "source": [
    "pipeline_model = pipeline.fit(model_df)"
   ]
  },
  {
   "cell_type": "code",
   "execution_count": 149,
   "id": "c8b8382d",
   "metadata": {
    "hidden": true
   },
   "outputs": [
    {
     "data": {
      "text/plain": [
       "[array([130.90819921, 132.39259159, 129.34184086, 129.15887635]),\n",
       " array([1388.11502193, 1401.48644737, 1375.6763231 , 1389.1730848 ])]"
      ]
     },
     "execution_count": 149,
     "metadata": {},
     "output_type": "execute_result"
    }
   ],
   "source": [
    "centers = pipeline_model.stages[-1].clusterCenters()\n",
    "\n",
    "centers"
   ]
  },
  {
   "cell_type": "code",
   "execution_count": 150,
   "id": "418ae07a",
   "metadata": {
    "hidden": true
   },
   "outputs": [
    {
     "name": "stdout",
     "output_type": "stream",
     "text": [
      "root\n",
      " |-- Open: double (nullable = true)\n",
      " |-- High: double (nullable = true)\n",
      " |-- Low: double (nullable = true)\n",
      " |-- Close: double (nullable = true)\n",
      " |-- Stock: string (nullable = true)\n",
      " |-- features: vector (nullable = true)\n",
      " |-- prediction: integer (nullable = false)\n",
      "\n"
     ]
    }
   ],
   "source": [
    "predictions = pipeline_model.transform(model_df)\n",
    "\n",
    "predictions.printSchema()"
   ]
  },
  {
   "cell_type": "code",
   "execution_count": 151,
   "id": "7440f33a",
   "metadata": {
    "hidden": true
   },
   "outputs": [
    {
     "name": "stdout",
     "output_type": "stream",
     "text": [
      "+-----+-----+\n",
      "|Stock|count|\n",
      "+-----+-----+\n",
      "| MSFT| 2266|\n",
      "| NFLX| 2266|\n",
      "| INTC| 2266|\n",
      "| NVDA| 2266|\n",
      "| AAPL| 2266|\n",
      "| GOOG| 2266|\n",
      "+-----+-----+\n",
      "\n"
     ]
    }
   ],
   "source": [
    "model_df.groupBy('Stock').count().show()"
   ]
  },
  {
   "cell_type": "code",
   "execution_count": 152,
   "id": "887dc555",
   "metadata": {
    "hidden": true
   },
   "outputs": [
    {
     "name": "stdout",
     "output_type": "stream",
     "text": [
      "+----------+-----+\n",
      "|prediction|count|\n",
      "+----------+-----+\n",
      "|         1| 1368|\n",
      "|         0|12228|\n",
      "+----------+-----+\n",
      "\n"
     ]
    }
   ],
   "source": [
    "predictions.groupBy('prediction').count().show()"
   ]
  },
  {
   "cell_type": "code",
   "execution_count": 153,
   "id": "2259b269",
   "metadata": {
    "hidden": true
   },
   "outputs": [
    {
     "name": "stdout",
     "output_type": "stream",
     "text": [
      "+----------+----+----+----+----+----+----+\n",
      "|prediction|AAPL|GOOG|INTC|MSFT|NFLX|NVDA|\n",
      "+----------+----+----+----+----+----+----+\n",
      "|         1|null|1368|null|null|null|null|\n",
      "|         0|2266| 898|2266|2266|2266|2266|\n",
      "+----------+----+----+----+----+----+----+\n",
      "\n"
     ]
    }
   ],
   "source": [
    "predictions.groupBy('prediction').pivot(\n",
    "    'Stock').count().show()"
   ]
  },
  {
   "cell_type": "code",
   "execution_count": 154,
   "id": "bb597188",
   "metadata": {
    "hidden": true
   },
   "outputs": [
    {
     "name": "stdout",
     "output_type": "stream",
     "text": [
      "Silhouette with squared euclidean distance = 0.9110617695937108\n"
     ]
    }
   ],
   "source": [
    "# Evaluate clustering by computing Silhouette score\n",
    "\n",
    "evaluator = ClusteringEvaluator()\n",
    "\n",
    "silhouette = evaluator.evaluate(predictions)\n",
    "\n",
    "print(\"Silhouette with squared euclidean distance =\",\n",
    "      str(silhouette))"
   ]
  },
  {
   "cell_type": "code",
   "execution_count": 155,
   "id": "37941060",
   "metadata": {
    "hidden": true
   },
   "outputs": [
    {
     "data": {
      "text/html": [
       "<div>\n",
       "<style scoped>\n",
       "    .dataframe tbody tr th:only-of-type {\n",
       "        vertical-align: middle;\n",
       "    }\n",
       "\n",
       "    .dataframe tbody tr th {\n",
       "        vertical-align: top;\n",
       "    }\n",
       "\n",
       "    .dataframe thead th {\n",
       "        text-align: right;\n",
       "    }\n",
       "</style>\n",
       "<table border=\"1\" class=\"dataframe\">\n",
       "  <thead>\n",
       "    <tr style=\"text-align: right;\">\n",
       "      <th></th>\n",
       "      <th>Open</th>\n",
       "      <th>Close</th>\n",
       "      <th>Stock</th>\n",
       "      <th>prediction</th>\n",
       "    </tr>\n",
       "  </thead>\n",
       "  <tbody>\n",
       "    <tr>\n",
       "      <th>0</th>\n",
       "      <td>19.78</td>\n",
       "      <td>16.96</td>\n",
       "      <td>AAPL</td>\n",
       "      <td>0</td>\n",
       "    </tr>\n",
       "    <tr>\n",
       "      <th>1</th>\n",
       "      <td>19.57</td>\n",
       "      <td>16.75</td>\n",
       "      <td>AAPL</td>\n",
       "      <td>0</td>\n",
       "    </tr>\n",
       "    <tr>\n",
       "      <th>2</th>\n",
       "      <td>19.18</td>\n",
       "      <td>16.28</td>\n",
       "      <td>AAPL</td>\n",
       "      <td>0</td>\n",
       "    </tr>\n",
       "    <tr>\n",
       "      <th>3</th>\n",
       "      <td>18.64</td>\n",
       "      <td>16.18</td>\n",
       "      <td>AAPL</td>\n",
       "      <td>0</td>\n",
       "    </tr>\n",
       "    <tr>\n",
       "      <th>4</th>\n",
       "      <td>18.90</td>\n",
       "      <td>16.23</td>\n",
       "      <td>AAPL</td>\n",
       "      <td>0</td>\n",
       "    </tr>\n",
       "  </tbody>\n",
       "</table>\n",
       "</div>"
      ],
      "text/plain": [
       "    Open  Close Stock  prediction\n",
       "0  19.78  16.96  AAPL           0\n",
       "1  19.57  16.75  AAPL           0\n",
       "2  19.18  16.28  AAPL           0\n",
       "3  18.64  16.18  AAPL           0\n",
       "4  18.90  16.23  AAPL           0"
      ]
     },
     "execution_count": 155,
     "metadata": {},
     "output_type": "execute_result"
    }
   ],
   "source": [
    "pandasDF = predictions.select(\n",
    "    'Open','Close','Stock', \n",
    "    'prediction').toPandas()\n",
    "\n",
    "pandasDF.head(5)"
   ]
  },
  {
   "cell_type": "code",
   "execution_count": 156,
   "id": "595a48b6",
   "metadata": {
    "hidden": true,
    "scrolled": true
   },
   "outputs": [
    {
     "data": {
      "image/png": "[encoded data removed]",
      "text/plain": [
       "<Figure size 427x360 with 1 Axes>"
      ]
     },
     "metadata": {},
     "output_type": "display_data"
    }
   ],
   "source": [
    "sns.relplot(x=\"Open\", y=\"Close\", hue=\"Stock\", \n",
    "            style=\"prediction\", \n",
    "            size=\"prediction\",\n",
    "            data=pandasDF);\n",
    "\n",
    "plt.scatter([c[0] for c in centers], \n",
    "            [c[1] for c in centers], \n",
    "            c='red', s=64, alpha=0.8);"
   ]
  },
  {
   "cell_type": "markdown",
   "id": "f9412ecc",
   "metadata": {
    "hidden": true
   },
   "source": [
    "The silhouette score is higher for 2 clusters than it is for 6 clusters."
   ]
  },
  {
   "cell_type": "markdown",
   "id": "dc8278fe",
   "metadata": {
    "heading_collapsed": true
   },
   "source": [
    "# Question 7"
   ]
  },
  {
   "cell_type": "code",
   "execution_count": 157,
   "id": "cb60fbac",
   "metadata": {
    "hidden": true
   },
   "outputs": [],
   "source": [
    "from pyspark.ml.feature import PCA\n",
    "from pyspark.ml.linalg  import Vectors\n",
    "from pyspark.ml.feature import StandardScaler"
   ]
  },
  {
   "cell_type": "code",
   "execution_count": 158,
   "id": "bd13f7a4",
   "metadata": {
    "hidden": true
   },
   "outputs": [],
   "source": [
    "cols = ['Open','High','Low','Close']\n",
    "\n",
    "vecAssembler = VectorAssembler(inputCols=cols, outputCol='features')\n",
    "\n",
    "scaler = StandardScaler(inputCol=\"features\", outputCol=\"scaledFeatures\",\n",
    "                        withStd=True, withMean=True)\n",
    "\n",
    "pca = PCA(k=2, inputCol=\"scaledFeatures\", outputCol=\"pcaFeatures\")\n",
    "\n",
    "pipeline = Pipeline(stages = [vecAssembler, scaler, pca])"
   ]
  },
  {
   "cell_type": "code",
   "execution_count": 159,
   "id": "ef150ca3",
   "metadata": {
    "hidden": true
   },
   "outputs": [
    {
     "name": "stdout",
     "output_type": "stream",
     "text": [
      "+------------------------------------------+-----+\n",
      "|pcaFeatures                               |Stock|\n",
      "+------------------------------------------+-----+\n",
      "|[1.0517271625635063,0.0012061703648587052]|AAPL |\n",
      "|[1.0524211525936442,0.0011884149339342898]|AAPL |\n",
      "|[1.0543996492189345,0.0013312379186493084]|AAPL |\n",
      "|[1.0559027591589856,6.50244189941529E-4]  |AAPL |\n",
      "|[1.0552054412449061,9.602883885992397E-4] |AAPL |\n",
      "+------------------------------------------+-----+\n",
      "only showing top 5 rows\n",
      "\n"
     ]
    }
   ],
   "source": [
    "model = pipeline.fit(stocksDF)\n",
    "\n",
    "scaledDF = model.transform(stocksDF).select('pcaFeatures', 'Stock')\n",
    "\n",
    "scaledDF.show(5, truncate=False)"
   ]
  },
  {
   "cell_type": "code",
   "execution_count": 160,
   "id": "0ca79f8c",
   "metadata": {
    "hidden": true
   },
   "outputs": [
    {
     "data": {
      "text/plain": [
       "DenseVector([0.9999, 0.0])"
      ]
     },
     "execution_count": 160,
     "metadata": {},
     "output_type": "execute_result"
    }
   ],
   "source": [
    "model.stages[-1].explainedVariance"
   ]
  },
  {
   "cell_type": "code",
   "execution_count": 161,
   "id": "4445973d",
   "metadata": {
    "hidden": true
   },
   "outputs": [
    {
     "data": {
      "text/plain": [
       "0.9999761510115195"
      ]
     },
     "execution_count": 161,
     "metadata": {},
     "output_type": "execute_result"
    }
   ],
   "source": [
    "model.stages[-1].explainedVariance.sum()"
   ]
  },
  {
   "cell_type": "code",
   "execution_count": 162,
   "id": "3a24f587",
   "metadata": {
    "hidden": true
   },
   "outputs": [],
   "source": [
    "from pyspark.ml.functions import vector_to_array"
   ]
  },
  {
   "cell_type": "code",
   "execution_count": 163,
   "id": "b8a133d8",
   "metadata": {
    "hidden": true
   },
   "outputs": [
    {
     "name": "stdout",
     "output_type": "stream",
     "text": [
      "root\n",
      " |-- pcaFeatures: vector (nullable = true)\n",
      " |-- Stock: string (nullable = true)\n",
      "\n"
     ]
    }
   ],
   "source": [
    "scaledDF.printSchema()"
   ]
  },
  {
   "cell_type": "code",
   "execution_count": 164,
   "id": "d9f2cee2",
   "metadata": {
    "hidden": true
   },
   "outputs": [
    {
     "name": "stdout",
     "output_type": "stream",
     "text": [
      "+------------------+--------------------+-----+\n",
      "|               PC1|                 PC2|Stock|\n",
      "+------------------+--------------------+-----+\n",
      "|1.0517271625635063|0.001206170364858...| AAPL|\n",
      "|1.0524211525936442|0.001188414933934...| AAPL|\n",
      "|1.0543996492189345|0.001331237918649...| AAPL|\n",
      "|1.0559027591589856| 6.50244189941529E-4| AAPL|\n",
      "|1.0552054412449061|9.602883885992397E-4| AAPL|\n",
      "+------------------+--------------------+-----+\n",
      "only showing top 5 rows\n",
      "\n"
     ]
    }
   ],
   "source": [
    "pcaDF = scaledDF.withColumn(\n",
    "    'PC1', vector_to_array('pcaFeatures')[0]\n",
    ").withColumn(\n",
    "    'PC2', vector_to_array('pcaFeatures')[1]\n",
    ").select('PC1', 'PC2', 'Stock')\n",
    "\n",
    "pcaDF.show(5)"
   ]
  },
  {
   "cell_type": "code",
   "execution_count": 165,
   "id": "d97e2a92",
   "metadata": {
    "hidden": true
   },
   "outputs": [
    {
     "data": {
      "text/html": [
       "<div>\n",
       "<style scoped>\n",
       "    .dataframe tbody tr th:only-of-type {\n",
       "        vertical-align: middle;\n",
       "    }\n",
       "\n",
       "    .dataframe tbody tr th {\n",
       "        vertical-align: top;\n",
       "    }\n",
       "\n",
       "    .dataframe thead th {\n",
       "        text-align: right;\n",
       "    }\n",
       "</style>\n",
       "<table border=\"1\" class=\"dataframe\">\n",
       "  <thead>\n",
       "    <tr style=\"text-align: right;\">\n",
       "      <th></th>\n",
       "      <th>PC1</th>\n",
       "      <th>PC2</th>\n",
       "      <th>Stock</th>\n",
       "    </tr>\n",
       "  </thead>\n",
       "  <tbody>\n",
       "    <tr>\n",
       "      <th>0</th>\n",
       "      <td>1.051727</td>\n",
       "      <td>0.001206</td>\n",
       "      <td>AAPL</td>\n",
       "    </tr>\n",
       "    <tr>\n",
       "      <th>1</th>\n",
       "      <td>1.052421</td>\n",
       "      <td>0.001188</td>\n",
       "      <td>AAPL</td>\n",
       "    </tr>\n",
       "    <tr>\n",
       "      <th>2</th>\n",
       "      <td>1.054400</td>\n",
       "      <td>0.001331</td>\n",
       "      <td>AAPL</td>\n",
       "    </tr>\n",
       "    <tr>\n",
       "      <th>3</th>\n",
       "      <td>1.055903</td>\n",
       "      <td>0.000650</td>\n",
       "      <td>AAPL</td>\n",
       "    </tr>\n",
       "    <tr>\n",
       "      <th>4</th>\n",
       "      <td>1.055205</td>\n",
       "      <td>0.000960</td>\n",
       "      <td>AAPL</td>\n",
       "    </tr>\n",
       "  </tbody>\n",
       "</table>\n",
       "</div>"
      ],
      "text/plain": [
       "        PC1       PC2 Stock\n",
       "0  1.051727  0.001206  AAPL\n",
       "1  1.052421  0.001188  AAPL\n",
       "2  1.054400  0.001331  AAPL\n",
       "3  1.055903  0.000650  AAPL\n",
       "4  1.055205  0.000960  AAPL"
      ]
     },
     "execution_count": 165,
     "metadata": {},
     "output_type": "execute_result"
    }
   ],
   "source": [
    "# for plotting\n",
    "pandasDF = pcaDF.toPandas()\n",
    "pandasDF.head(5)"
   ]
  },
  {
   "cell_type": "code",
   "execution_count": 167,
   "id": "e72a1e7c",
   "metadata": {
    "hidden": true
   },
   "outputs": [
    {
     "data": {
      "image/png": "[encoded data removed]",
      "text/plain": [
       "<Figure size 648x360 with 1 Axes>"
      ]
     },
     "metadata": {},
     "output_type": "display_data"
    }
   ],
   "source": [
    "fig, ax = plt.subplots(figsize=(9,5))      \n",
    "    \n",
    "groups = pandasDF.groupby('Stock')\n",
    "\n",
    "for name, group in groups:\n",
    "    ax.plot(group['PC1'], group['PC2'], marker='o', \n",
    "             linestyle='', markersize=5, label=name)\n",
    "\n",
    "ax.set_title('PCA of Stock dataset')\n",
    "ax.set_xlabel('1st principal component')\n",
    "ax.set_ylabel('2nd principal component')\n",
    "\n",
    "\n",
    "plt.legend();"
   ]
  },
  {
   "cell_type": "code",
   "execution_count": 168,
   "id": "a8fd2a66",
   "metadata": {
    "hidden": true
   },
   "outputs": [],
   "source": [
    "cols = ['PC1','PC2']\n",
    "\n",
    "df_assembler = VectorAssembler(\n",
    "    inputCols=cols, \n",
    "    outputCol=\"features\")\n",
    "\n",
    "kmeans = KMeans(k=2, seed=1)\n",
    "\n",
    "pipeline = Pipeline(stages = [df_assembler, kmeans])"
   ]
  },
  {
   "cell_type": "code",
   "execution_count": 170,
   "id": "a1e766b1",
   "metadata": {
    "hidden": true
   },
   "outputs": [],
   "source": [
    "pipeline_model = pipeline.fit(pcaDF)"
   ]
  },
  {
   "cell_type": "code",
   "execution_count": 171,
   "id": "89dfd2df",
   "metadata": {
    "hidden": true
   },
   "outputs": [
    {
     "data": {
      "text/plain": [
       "[array([ 5.59034140e-01, -7.74812939e-06]),\n",
       " array([-5.00104499e+00,  6.93137339e-05])]"
      ]
     },
     "execution_count": 171,
     "metadata": {},
     "output_type": "execute_result"
    }
   ],
   "source": [
    "centers = pipeline_model.stages[-1].clusterCenters()\n",
    "\n",
    "centers"
   ]
  },
  {
   "cell_type": "code",
   "execution_count": 172,
   "id": "9703118a",
   "metadata": {
    "hidden": true
   },
   "outputs": [
    {
     "name": "stdout",
     "output_type": "stream",
     "text": [
      "root\n",
      " |-- PC1: double (nullable = true)\n",
      " |-- PC2: double (nullable = true)\n",
      " |-- Stock: string (nullable = true)\n",
      " |-- features: vector (nullable = true)\n",
      " |-- prediction: integer (nullable = false)\n",
      "\n"
     ]
    }
   ],
   "source": [
    "predictions = pipeline_model.transform(pcaDF)\n",
    "\n",
    "predictions.printSchema()"
   ]
  },
  {
   "cell_type": "code",
   "execution_count": 173,
   "id": "a1e2578c",
   "metadata": {
    "hidden": true
   },
   "outputs": [
    {
     "name": "stdout",
     "output_type": "stream",
     "text": [
      "+-----+-----+\n",
      "|Stock|count|\n",
      "+-----+-----+\n",
      "| MSFT| 2266|\n",
      "| NFLX| 2266|\n",
      "| INTC| 2266|\n",
      "| NVDA| 2266|\n",
      "| AAPL| 2266|\n",
      "| GOOG| 2266|\n",
      "+-----+-----+\n",
      "\n"
     ]
    }
   ],
   "source": [
    "pcaDF.groupBy('Stock').count().show()"
   ]
  },
  {
   "cell_type": "code",
   "execution_count": 174,
   "id": "3e8ba2fb",
   "metadata": {
    "hidden": true
   },
   "outputs": [
    {
     "name": "stdout",
     "output_type": "stream",
     "text": [
      "+----------+-----+\n",
      "|prediction|count|\n",
      "+----------+-----+\n",
      "|         1| 1367|\n",
      "|         0|12229|\n",
      "+----------+-----+\n",
      "\n"
     ]
    }
   ],
   "source": [
    "predictions.groupBy('prediction').count().show()"
   ]
  },
  {
   "cell_type": "code",
   "execution_count": 175,
   "id": "fa27e41a",
   "metadata": {
    "hidden": true
   },
   "outputs": [
    {
     "name": "stdout",
     "output_type": "stream",
     "text": [
      "+----------+----+----+----+----+----+----+\n",
      "|prediction|AAPL|GOOG|INTC|MSFT|NFLX|NVDA|\n",
      "+----------+----+----+----+----+----+----+\n",
      "|         1|null|1367|null|null|null|null|\n",
      "|         0|2266| 899|2266|2266|2266|2266|\n",
      "+----------+----+----+----+----+----+----+\n",
      "\n"
     ]
    }
   ],
   "source": [
    "predictions.groupBy('prediction').pivot(\n",
    "    'Stock').count().show()"
   ]
  },
  {
   "cell_type": "code",
   "execution_count": 176,
   "id": "0a27e854",
   "metadata": {
    "hidden": true
   },
   "outputs": [
    {
     "name": "stdout",
     "output_type": "stream",
     "text": [
      "Silhouette with squared euclidean distance = 0.9111248771219532\n"
     ]
    }
   ],
   "source": [
    "# Evaluate clustering by computing Silhouette score\n",
    "\n",
    "evaluator = ClusteringEvaluator()\n",
    "\n",
    "silhouette = evaluator.evaluate(predictions)\n",
    "\n",
    "print(\"Silhouette with squared euclidean distance =\",\n",
    "      str(silhouette))"
   ]
  },
  {
   "cell_type": "code",
   "execution_count": 177,
   "id": "69f35fba",
   "metadata": {
    "hidden": true,
    "scrolled": true
   },
   "outputs": [
    {
     "data": {
      "text/html": [
       "<div>\n",
       "<style scoped>\n",
       "    .dataframe tbody tr th:only-of-type {\n",
       "        vertical-align: middle;\n",
       "    }\n",
       "\n",
       "    .dataframe tbody tr th {\n",
       "        vertical-align: top;\n",
       "    }\n",
       "\n",
       "    .dataframe thead th {\n",
       "        text-align: right;\n",
       "    }\n",
       "</style>\n",
       "<table border=\"1\" class=\"dataframe\">\n",
       "  <thead>\n",
       "    <tr style=\"text-align: right;\">\n",
       "      <th></th>\n",
       "      <th>PC1</th>\n",
       "      <th>PC2</th>\n",
       "      <th>Stock</th>\n",
       "      <th>prediction</th>\n",
       "    </tr>\n",
       "  </thead>\n",
       "  <tbody>\n",
       "    <tr>\n",
       "      <th>0</th>\n",
       "      <td>1.051727</td>\n",
       "      <td>0.001206</td>\n",
       "      <td>AAPL</td>\n",
       "      <td>0</td>\n",
       "    </tr>\n",
       "    <tr>\n",
       "      <th>1</th>\n",
       "      <td>1.052421</td>\n",
       "      <td>0.001188</td>\n",
       "      <td>AAPL</td>\n",
       "      <td>0</td>\n",
       "    </tr>\n",
       "    <tr>\n",
       "      <th>2</th>\n",
       "      <td>1.054400</td>\n",
       "      <td>0.001331</td>\n",
       "      <td>AAPL</td>\n",
       "      <td>0</td>\n",
       "    </tr>\n",
       "    <tr>\n",
       "      <th>3</th>\n",
       "      <td>1.055903</td>\n",
       "      <td>0.000650</td>\n",
       "      <td>AAPL</td>\n",
       "      <td>0</td>\n",
       "    </tr>\n",
       "    <tr>\n",
       "      <th>4</th>\n",
       "      <td>1.055205</td>\n",
       "      <td>0.000960</td>\n",
       "      <td>AAPL</td>\n",
       "      <td>0</td>\n",
       "    </tr>\n",
       "  </tbody>\n",
       "</table>\n",
       "</div>"
      ],
      "text/plain": [
       "        PC1       PC2 Stock  prediction\n",
       "0  1.051727  0.001206  AAPL           0\n",
       "1  1.052421  0.001188  AAPL           0\n",
       "2  1.054400  0.001331  AAPL           0\n",
       "3  1.055903  0.000650  AAPL           0\n",
       "4  1.055205  0.000960  AAPL           0"
      ]
     },
     "execution_count": 177,
     "metadata": {},
     "output_type": "execute_result"
    }
   ],
   "source": [
    "pandasDF = predictions.select(\n",
    "    'PC1','PC2','Stock', \n",
    "    'prediction').toPandas()\n",
    "\n",
    "pandasDF.head(5)"
   ]
  },
  {
   "cell_type": "code",
   "execution_count": 191,
   "id": "1c2c6e26",
   "metadata": {
    "hidden": true,
    "scrolled": true
   },
   "outputs": [
    {
     "data": {
      "image/png": "[encoded data removed]",
      "text/plain": [
       "<Figure size 916.25x595.44 with 1 Axes>"
      ]
     },
     "metadata": {},
     "output_type": "display_data"
    }
   ],
   "source": [
    "\n",
    "sns.relplot(x=\"PC1\", y=\"PC2\", hue=\"Stock\", \n",
    "            style=\"prediction\", \n",
    "            size=\"prediction\",\n",
    "            data=pandasDF,height=8.27, aspect=11.7/8.27);\n",
    "\n",
    "\n",
    "plt.scatter([c[0] for c in centers], \n",
    "            [c[1] for c in centers], \n",
    "            c='red', s=64, alpha=0.8);\n"
   ]
  },
  {
   "cell_type": "code",
   "execution_count": null,
   "id": "a18e06ef",
   "metadata": {
    "hidden": true
   },
   "outputs": [],
   "source": []
  },
  {
   "cell_type": "code",
   "execution_count": 192,
   "id": "5bc169bf",
   "metadata": {
    "hidden": true
   },
   "outputs": [],
   "source": [
    "spark.stop()"
   ]
  },
  {
   "cell_type": "code",
   "execution_count": null,
   "id": "b05a1b40",
   "metadata": {
    "hidden": true
   },
   "outputs": [],
   "source": []
  }
 ],
 "metadata": {
  "kernelspec": {
   "display_name": "Python 3",
   "language": "python",
   "name": "python3"
  },
  "language_info": {
   "codemirror_mode": {
    "name": "ipython",
    "version": 3
   },
   "file_extension": ".py",
   "mimetype": "text/x-python",
   "name": "python",
   "nbconvert_exporter": "python",
   "pygments_lexer": "ipython3",
   "version": "3.8.8"
  },
  "toc": {
   "base_numbering": 1,
   "nav_menu": {},
   "number_sections": true,
   "sideBar": true,
   "skip_h1_title": false,
   "title_cell": "Table of Contents",
   "title_sidebar": "Contents",
   "toc_cell": false,
   "toc_position": {},
   "toc_section_display": true,
   "toc_window_display": false
  }
 },
 "nbformat": 4,
 "nbformat_minor": 5
}
